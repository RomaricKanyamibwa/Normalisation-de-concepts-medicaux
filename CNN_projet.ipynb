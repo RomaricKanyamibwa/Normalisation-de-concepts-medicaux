{
  "nbformat": 4,
  "nbformat_minor": 0,
  "metadata": {
    "colab": {
      "name": "CNN_projet.ipynb",
      "version": "0.3.2",
      "provenance": [],
      "collapsed_sections": [],
      "include_colab_link": true
    },
    "kernelspec": {
      "name": "python3",
      "display_name": "Python 3"
    }
  },
  "cells": [
    {
      "cell_type": "markdown",
      "metadata": {
        "id": "view-in-github",
        "colab_type": "text"
      },
      "source": [
        "<a href=\"https://colab.research.google.com/github/RomaricKanyamibwa/Normalisation-de-concepts-medicaux/blob/master/CNN_projet.ipynb\" target=\"_parent\"><img src=\"https://colab.research.google.com/assets/colab-badge.svg\" alt=\"Open In Colab\"/></a>"
      ]
    },
    {
      "metadata": {
        "id": "Ak_51v7RzKSF",
        "colab_type": "code",
        "outputId": "335ac827-82b8-4441-d436-15d2760f6eae",
        "colab": {
          "base_uri": "https://localhost:8080/",
          "height": 34
        }
      },
      "cell_type": "code",
      "source": [
        "from __future__ import print_function\n",
        "import keras\n",
        "from keras.datasets import mnist\n",
        "from keras.layers import Dense, Flatten\n",
        "from keras.layers import Conv2D, MaxPooling2D\n",
        "from keras.models import Sequential\n",
        "import matplotlib.pylab as plt\n",
        "import logging\n"
      ],
      "execution_count": 1,
      "outputs": [
        {
          "output_type": "stream",
          "text": [
            "Using TensorFlow backend.\n"
          ],
          "name": "stderr"
        }
      ]
    },
    {
      "metadata": {
        "id": "eRkwdNOQVCD9",
        "colab_type": "code",
        "colab": {}
      },
      "cell_type": "code",
      "source": [
        "!pip3 install --upgrade gensim"
      ],
      "execution_count": 0,
      "outputs": []
    },
    {
      "metadata": {
        "id": "86zeEgZ5lQtt",
        "colab_type": "code",
        "colab": {
          "base_uri": "https://localhost:8080/",
          "height": 224
        },
        "outputId": "9571107c-3096-4068-acd6-4e666cfb8883"
      },
      "cell_type": "code",
      "source": [
        "!apt-get install -y -qq software-properties-common python-software-properties module-init-tools\n",
        "!add-apt-repository -y ppa:alessandro-strada/ppa 2>&1 > /dev/null\n",
        "!apt-get update -qq 2>&1 > /dev/null\n",
        "!apt-get -y install -qq google-drive-ocamlfuse fuse\n",
        "from google.colab import auth\n",
        "auth.authenticate_user()\n",
        "from oauth2client.client import GoogleCredentials\n",
        "creds = GoogleCredentials.get_application_default()\n",
        "import getpass\n",
        "!google-drive-ocamlfuse -headless -id={creds.client_id} -secret={creds.client_secret} < /dev/null 2>&1 | grep URL\n",
        "vcode = getpass.getpass()\n",
        "!echo {vcode} | google-drive-ocamlfuse -headless -id={creds.client_id} -secret={creds.client_secret}"
      ],
      "execution_count": 4,
      "outputs": [
        {
          "output_type": "stream",
          "text": [
            "E: Package 'python-software-properties' has no installation candidate\n",
            "Selecting previously unselected package google-drive-ocamlfuse.\n",
            "(Reading database ... 110377 files and directories currently installed.)\n",
            "Preparing to unpack .../google-drive-ocamlfuse_0.7.1-0ubuntu3~ubuntu18.04.1_amd64.deb ...\n",
            "Unpacking google-drive-ocamlfuse (0.7.1-0ubuntu3~ubuntu18.04.1) ...\n",
            "Setting up google-drive-ocamlfuse (0.7.1-0ubuntu3~ubuntu18.04.1) ...\n",
            "Processing triggers for man-db (2.8.3-2ubuntu0.1) ...\n",
            "Please, open the following URL in a web browser: https://accounts.google.com/o/oauth2/auth?client_id=32555940559.apps.googleusercontent.com&redirect_uri=urn%3Aietf%3Awg%3Aoauth%3A2.0%3Aoob&scope=https%3A%2F%2Fwww.googleapis.com%2Fauth%2Fdrive&response_type=code&access_type=offline&approval_prompt=force\n",
            "··········\n",
            "Please, open the following URL in a web browser: https://accounts.google.com/o/oauth2/auth?client_id=32555940559.apps.googleusercontent.com&redirect_uri=urn%3Aietf%3Awg%3Aoauth%3A2.0%3Aoob&scope=https%3A%2F%2Fwww.googleapis.com%2Fauth%2Fdrive&response_type=code&access_type=offline&approval_prompt=force\n",
            "Please enter the verification code: Access token retrieved correctly.\n"
          ],
          "name": "stdout"
        }
      ]
    },
    {
      "metadata": {
        "id": "7wmOPwdLVFJc",
        "colab_type": "code",
        "colab": {}
      },
      "cell_type": "code",
      "source": [
        "from gensim.models import Word2Vec\n",
        "import gensim\n",
        "import pandas as pd\n",
        "from gensim.parsing.preprocessing import remove_stopwords\n",
        "import numpy as np"
      ],
      "execution_count": 0,
      "outputs": []
    },
    {
      "metadata": {
        "id": "s2gz4OY7Zf6A",
        "colab_type": "code",
        "colab": {}
      },
      "cell_type": "code",
      "source": [
        "!mkdir drive\n",
        "!google-drive-ocamlfuse drive\n",
        "!ls drive/Word2VecModels/\n",
        "!ls -l drive/Coolab/"
      ],
      "execution_count": 0,
      "outputs": []
    },
    {
      "metadata": {
        "id": "o-YG0tZubYfe",
        "colab_type": "code",
        "outputId": "c2264a13-3f34-4ecc-a2f8-9a6b6f126381",
        "colab": {
          "base_uri": "https://localhost:8080/",
          "height": 85
        }
      },
      "cell_type": "code",
      "source": [
        "google_drive=\"drive/Coolab/\"\n",
        "df_disorders=pd.read_csv(\"drive/Coolab/Disorders.csv\",names=[\"Code\",\"Disorder\",\"GenDisorder\"],sep=\"\\t\") \n",
        "num_rows=df_disorders.shape[0]\n",
        "\n",
        "#step 2:Clean data\n",
        "count_empty=df_disorders.isnull().sum()\n",
        "count_non_empty=count_empty[count_empty==0]\n",
        "print(count_non_empty)\n",
        "#remove empty rows\n",
        "df_disorders=df_disorders[count_non_empty.keys()]"
      ],
      "execution_count": 99,
      "outputs": [
        {
          "output_type": "stream",
          "text": [
            "Code           0\n",
            "Disorder       0\n",
            "GenDisorder    0\n",
            "dtype: int64\n"
          ],
          "name": "stdout"
        }
      ]
    },
    {
      "metadata": {
        "id": "ieCSyU6ex2de",
        "colab_type": "code",
        "outputId": "225fa5ee-e785-4440-8b9d-f765d278ec10",
        "colab": {
          "base_uri": "https://localhost:8080/",
          "height": 34
        }
      },
      "cell_type": "code",
      "source": [
        "Codes=df_disorders['Code']#Y vector (outputs)\n",
        "Disorders=df_disorders['Disorder']#X vector(test)\n",
        "GenDisorders=df_disorders['GenDisorder']#X vector (train)\n",
        "len(Disorders)\n",
        "len(Codes)"
      ],
      "execution_count": 100,
      "outputs": [
        {
          "output_type": "execute_result",
          "data": {
            "text/plain": [
              "623509"
            ]
          },
          "metadata": {
            "tags": []
          },
          "execution_count": 100
        }
      ]
    },
    {
      "metadata": {
        "id": "bhyAgbxXmxCy",
        "colab_type": "code",
        "colab": {}
      },
      "cell_type": "code",
      "source": [
        "sample_size=10000#Disorders.size//10\n",
        "#train\n",
        "Disorders=Disorders.sample(sample_size,random_state=10)\n",
        "Codes=Codes[Disorders.index]\n"
      ],
      "execution_count": 0,
      "outputs": []
    },
    {
      "metadata": {
        "id": "TpkLwc_xU40H",
        "colab_type": "code",
        "colab": {}
      },
      "cell_type": "code",
      "source": [
        "#test set\n",
        "testDisorders=df_disorders['Disorder']\n",
        "testDisorders=testDisorders.drop(Disorders.index)\n",
        "testDisorders=Disorders.sample(sample_size//5,random_state=10)\n",
        "testCodes=Codes[testDisorders.index]"
      ],
      "execution_count": 0,
      "outputs": []
    },
    {
      "metadata": {
        "id": "j0ndGcvTjrDo",
        "colab_type": "code",
        "colab": {
          "base_uri": "https://localhost:8080/",
          "height": 119
        },
        "outputId": "41093aea-fd4c-4d28-e88f-46bb1e163085"
      },
      "cell_type": "code",
      "source": [
        "print(Disorders.index)"
      ],
      "execution_count": 103,
      "outputs": [
        {
          "output_type": "stream",
          "text": [
            "Int64Index([222160,  56824, 426769, 154154, 173255, 125527, 183515, 548570,\n",
            "            552073, 249167,\n",
            "            ...\n",
            "            445469,  46474,  25399, 178495, 251717, 166369,  39648,  83826,\n",
            "            373824,  36545],\n",
            "           dtype='int64', length=10000)\n"
          ],
          "name": "stdout"
        }
      ]
    },
    {
      "metadata": {
        "id": "xzGtyWctn2Ub",
        "colab_type": "code",
        "outputId": "67d86170-0a9a-4133-a635-7f0b5c1b669f",
        "colab": {
          "base_uri": "https://localhost:8080/",
          "height": 221
        }
      },
      "cell_type": "code",
      "source": [
        "for i,j in enumerate(zip(Codes,Disorders)):\n",
        "  print(j)\n",
        "  if(i>10):break"
      ],
      "execution_count": 104,
      "outputs": [
        {
          "output_type": "stream",
          "text": [
            "('C0275585', 'morax-axenfeld; conjunctivitis')\n",
            "('C1392692', 'malposition; congenital, clavicle')\n",
            "('C2118738', 'self-inflicted overdose of anterior pituitary hormones')\n",
            "('C0752150', 'headache syndrome, hypnic')\n",
            "('C0343713', 'gonococcal septicaemia affecting skin')\n",
            "('C1385072', 'disease (or disorder); pulmonary, vessels')\n",
            "('C0010414', 'cryptococcus neoformans; infection')\n",
            "('C0013772', 'abuse aged')\n",
            "('C2874939', 'other natural environment type phobia')\n",
            "('C0839928', 'acute haematogenous osteomyelitis, multiple sites')\n",
            "('C2025970', 'cellulitis of right thumb')\n",
            "('C2892793', 'driver of three-wheeled motor vehicle injured in collision with car, pick-up truck or van in nontraffic accident, sequela')\n"
          ],
          "name": "stdout"
        }
      ]
    },
    {
      "metadata": {
        "id": "lWLAr6605lU4",
        "colab_type": "code",
        "outputId": "06a63043-57e5-46cd-b637-009a059a04d2",
        "colab": {
          "base_uri": "https://localhost:8080/",
          "height": 221
        }
      },
      "cell_type": "code",
      "source": [
        "for i,j in enumerate(zip(testCodes,testDisorders)):\n",
        "  print(j)\n",
        "  if(i>10):break"
      ],
      "execution_count": 105,
      "outputs": [
        {
          "output_type": "stream",
          "text": [
            "('C0570064', 'broad spectrum penicillins adverse reaction')\n",
            "('C2187152', 'retinal detachment of both eyes without retinal defect')\n",
            "('C0345375', 'short; femur')\n",
            "('C4024679', 'overgrowth and curving of toenails')\n",
            "('C4025395', 'comma-shaped scaphoid')\n",
            "('C1410696', 'syphilis; paraplegia')\n",
            "('C0005604', 'birth trauma nos')\n",
            "('C0031190', 'familial persistent pulmonary hypertension of the newborn')\n",
            "('C2859542', 'unsp inj blood vessels at hip and thi lev, right leg, subs')\n",
            "('C0018995', 'hematochromatosis')\n",
            "('C0156387', 'hymen; rigid')\n",
            "('C0008512', 'unspecified chorioretinal scars')\n"
          ],
          "name": "stdout"
        }
      ]
    },
    {
      "metadata": {
        "id": "u9sFnrt7gpvA",
        "colab_type": "code",
        "colab": {}
      },
      "cell_type": "code",
      "source": [
        "def removed_elements_generator(input_list):\n",
        "    \"\"\"This function creates an id generator of the empty tokenized elements\"\"\"\n",
        "    \n",
        "    logging.info(\"reading file {0}...this may take a while\".format(input_list))\n",
        "    \n",
        "    for i, line in enumerate (input_list): \n",
        "        if (i%10000==0):\n",
        "            logging.info (\"read {0} reviews\".format (i))\n",
        "        # do some pre-processing and return a list of words for each review text\n",
        "        line_process=remove_stopwords(line)\n",
        "        line_process=gensim.utils.simple_preprocess(line_process,min_len=3,max_len=30)\n",
        "        if not line_process:\n",
        "          print(line_process,\"before preprocess-\",i,\":\",line)\n",
        "          RemovedElements.append(i)\n",
        "          #line_process=line.split()\n",
        "          yield i\n",
        "\n",
        "def input_tokenize(input_list,RemovedElements):\n",
        "    \"\"\"This creates a generator of the tokenized elements \"\"\"\n",
        "    \n",
        "    logging.info(\"reading file {0}...this may take a while\".format(input_list))\n",
        "    \n",
        "    for i, line in enumerate (input_list): \n",
        "        if (i%10000==0):\n",
        "            logging.info (\"read {0} reviews\".format (i))\n",
        "        # do some pre-processing and return a list of words for each review text\n",
        "        line_process=remove_stopwords(line)\n",
        "        line_process=gensim.utils.simple_preprocess(line_process,min_len=3,max_len=30)\n",
        "        if not line_process:\n",
        "          print(line_process,\"before preprocess-\",i,\":\",line)\n",
        "          RemovedElements.append(i)\n",
        "          #line_process=line.split()\n",
        "        else:    \n",
        "          yield line_process"
      ],
      "execution_count": 0,
      "outputs": []
    },
    {
      "metadata": {
        "id": "r6Y6zDGugrL1",
        "colab_type": "code",
        "colab": {}
      },
      "cell_type": "code",
      "source": [
        "logging.info (\"Tokenization\")\n",
        "RemovedElements=[]\n",
        "Disorders_corpus=(input_tokenize(Disorders,RemovedElements))\n",
        "#GenDisorders_corpus=(input_tokenize(GenDisorders))\n",
        "logging.info (\"End of Tokenization\")"
      ],
      "execution_count": 0,
      "outputs": []
    },
    {
      "metadata": {
        "id": "WbHl8p65n2Nd",
        "colab_type": "code",
        "outputId": "804e1da9-fe47-4f1b-e162-42525a6ee482",
        "colab": {
          "base_uri": "https://localhost:8080/",
          "height": 272
        }
      },
      "cell_type": "code",
      "source": [
        "for i,s in enumerate(Disorders_corpus):\n",
        "  #print(s)\n",
        "  k=1\n",
        "  #if i >:break\n",
        "    \n",
        "print(RemovedElements)"
      ],
      "execution_count": 108,
      "outputs": [
        {
          "output_type": "stream",
          "text": [
            "[] before preprocess- 469 : ad18\n",
            "[] before preprocess- 767 : hs5\n",
            "[] before preprocess- 1235 : t(17;22)(q22;q13)\n",
            "[] before preprocess- 1238 : rp69\n",
            "[] before preprocess- 2640 : t(17;21)(q11;q22)\n",
            "[] before preprocess- 3070 : ts\n",
            "[] before preprocess- 4897 : ml i\n",
            "[] before preprocess- 4960 : rp15\n",
            "[] before preprocess- 6175 : cd332 c.1645a>c\n",
            "[] before preprocess- 7334 : cd332 c.1144t>c\n",
            "[] before preprocess- 8473 : ad5\n",
            "[] before preprocess- 8543 : t(2;17)(p23;q35)\n",
            "[] before preprocess- 8678 : t2d\n",
            "[] before preprocess- 9224 : k20r\n",
            "[469, 767, 1235, 1238, 2640, 3070, 4897, 4960, 6175, 7334, 8473, 8543, 8678, 9224]\n"
          ],
          "name": "stdout"
        }
      ]
    },
    {
      "metadata": {
        "id": "xkGxL6dLugLC",
        "colab_type": "code",
        "colab": {}
      },
      "cell_type": "code",
      "source": [
        "model_dir=google_drive+\"Disorders\"\n",
        "model=Word2Vec.load(model_dir)\n"
      ],
      "execution_count": 0,
      "outputs": []
    },
    {
      "metadata": {
        "id": "pGMzWPS0egKe",
        "colab_type": "code",
        "colab": {}
      },
      "cell_type": "code",
      "source": [
        "def getsentence_matrix(sentence,gensim_model,nrows=30):\n",
        "  #print(\"sent:\",sentence)\n",
        "  sentence_matrix=[gensim_model.wv.get_vector(token) for token in sentence]\n",
        " \n",
        "  sentence_matrix=np.matrix(sentence_matrix)\n",
        "#  print(\"Before padding:\")\n",
        "#  pprint(sentence_matrix.T[:2,:])\n",
        "  #print(\"size before padding:\",nrows-sentence_matrix.shape[0])\n",
        "  if(nrows-sentence_matrix.shape[0]<0 or sentence_matrix.shape[1]<=0):\n",
        "    print(\"Sentence:\",sentence)\n",
        "    print(\"MatrixShape:\",sentence_matrix.shape)\n",
        "    print(sentence_matrix)\n",
        "  sentence_matrix=np.lib.pad(sentence_matrix,((0,max(0,nrows-sentence_matrix.shape[0])),(0,0)), 'constant', constant_values=(0))\n",
        "  #sentence_matrix=np.delete(sentence_matrix,np.s_[::2],axis=0)\n",
        "  #sentence_matrix=np.delete(sentence_matrix,np.s_[::2],axis=1)\n",
        "  #sentence_matrix=np.delete(sentence_matrix,np.s_[::2],axis=0)\n",
        "  #sentence_matrix=np.delete(sentence_matrix,np.s_[::2],axis=1)\n",
        "  #sentence_matrix=np.delete(sentence_matrix,np.s_[::2],axis=0)\n",
        "  #sentence_matrix=np.delete(sentence_matrix,np.s_[::2],axis=1)\n",
        "  \n",
        "  #sentence_matrix=np.delete(sentence_matrix,np.s_[::2],axis=1)\n",
        "  #sentence_matrix=np.delete(sentence_matrix,np.s_[::2],axis=1)\n",
        "  #sentence_matrix=np.delete(sentence_matrix,np.s_[::2],axis=1)\n",
        "#  print(\"After padding:\")\n",
        "#  pprint(sentence_matrix.T[:2,:])\n",
        "  #print(\"shape=\",sentence_matrix.shape)\n",
        "  return sentence_matrix#.T"
      ],
      "execution_count": 0,
      "outputs": []
    },
    {
      "metadata": {
        "id": "ASG8Vr4hu5Al",
        "colab_type": "code",
        "colab": {}
      },
      "cell_type": "code",
      "source": [
        "def get_termes_matrices(Corpus,model):\n",
        "  \n",
        "#  pprint(Corpus)\n",
        "  matrix_list=[]\n",
        "  IndexOfEmptyElem=[]\n",
        "  nrows=30\n",
        "  empty=True\n",
        "  for i,sentence in enumerate(Corpus):\n",
        "    if not(not sentence):\n",
        "      if empty==True:\n",
        "        matrix_list=np.array([getsentence_matrix(sentence,model,nrows=30)])\n",
        "        empty=False\n",
        "        #print(matrix_list[0].shape)\n",
        "      else:\n",
        "        #print(i,\":\",getsentence_matrix(sentence,model).shape)\n",
        "        matrix_list=np.append(matrix_list,[getsentence_matrix(sentence,model,nrows=30)],axis=0)\n",
        "      #print(\"i:\",i)#,matrix_list)\n",
        "      if(i%1000==0):\n",
        "        print(\"i:\",i)\n",
        "       # break\n",
        "    else:\n",
        "      print(\"Empty element's index:\",i)\n",
        "      IndexOfEmptyElem.append(i)\n",
        "      #print(np.zeros((5,5)))\n",
        "      matrix_list=np.append(matrix_list,[np.zeros((nrows,model.wv.vector_size))],axis=0)\n",
        "  print(\"length:\",len(matrix_list))\n",
        "  print(\"shape=\",matrix_list.shape)\n",
        "  #print(matrix_list)\n",
        "  return matrix_list,IndexOfEmptyElem\n"
      ],
      "execution_count": 0,
      "outputs": []
    },
    {
      "metadata": {
        "id": "TDMB-E3BwIyp",
        "colab_type": "code",
        "colab": {}
      },
      "cell_type": "code",
      "source": [
        "RemovedElements=[]\n",
        "Disorders_corpus=(input_tokenize(Disorders,RemovedElements))\n",
        "testRemovedElements=[]\n",
        "testDisorders_corpus=(input_tokenize(testDisorders,testRemovedElements))"
      ],
      "execution_count": 0,
      "outputs": []
    },
    {
      "metadata": {
        "id": "9hUvL7rBUROB",
        "colab_type": "code",
        "colab": {}
      },
      "cell_type": "code",
      "source": [
        "RemovedElementsIter=removed_elements_generator(Disorders)\n",
        "testRemovedElementsIter=removed_elements_generator(testDisorders)"
      ],
      "execution_count": 0,
      "outputs": []
    },
    {
      "metadata": {
        "id": "AgRpNvJJXlLT",
        "colab_type": "code",
        "colab": {
          "base_uri": "https://localhost:8080/",
          "height": 323
        },
        "outputId": "3b919b18-10cf-4158-8de2-d394acc76ca5"
      },
      "cell_type": "code",
      "source": [
        "print(list(RemovedElementsIter))\n",
        "print(\"Test\")\n",
        "print(list(testRemovedElementsIter))"
      ],
      "execution_count": 113,
      "outputs": [
        {
          "output_type": "stream",
          "text": [
            "[] before preprocess- 469 : ad18\n",
            "[] before preprocess- 767 : hs5\n",
            "[] before preprocess- 1235 : t(17;22)(q22;q13)\n",
            "[] before preprocess- 1238 : rp69\n",
            "[] before preprocess- 2640 : t(17;21)(q11;q22)\n",
            "[] before preprocess- 3070 : ts\n",
            "[] before preprocess- 4897 : ml i\n",
            "[] before preprocess- 4960 : rp15\n",
            "[] before preprocess- 6175 : cd332 c.1645a>c\n",
            "[] before preprocess- 7334 : cd332 c.1144t>c\n",
            "[] before preprocess- 8473 : ad5\n",
            "[] before preprocess- 8543 : t(2;17)(p23;q35)\n",
            "[] before preprocess- 8678 : t2d\n",
            "[] before preprocess- 9224 : k20r\n",
            "[469, 767, 1235, 1238, 2640, 3070, 4897, 4960, 6175, 7334, 8473, 8543, 8678, 9224]\n",
            "Test\n",
            "[] before preprocess- 1568 : t2d\n",
            "[1568]\n"
          ],
          "name": "stdout"
        }
      ]
    },
    {
      "metadata": {
        "id": "TiGgwJqGGNPT",
        "colab_type": "code",
        "colab": {}
      },
      "cell_type": "code",
      "source": [
        "listNull=[457,469,767]\n",
        "for i,k in enumerate(zip(Disorders_corpus,Disorders)):\n",
        "  if(i in listNull):\n",
        "    print(k)\n",
        "    line=remove_stopwords(k[1])\n",
        "    print(\"#remove_stopwords:\",line)\n",
        "    line=gensim.utils.simple_preprocess(line,min_len=1)\n",
        "    print(\"#simple_preprocess:\",line)"
      ],
      "execution_count": 0,
      "outputs": []
    },
    {
      "metadata": {
        "id": "i7p2psJ8GJRY",
        "colab_type": "code",
        "colab": {},
        "cellView": "code"
      },
      "cell_type": "code",
      "source": [
        "RemovedElements=[]\n",
        "Disorders_corpus=(input_tokenize(Disorders,RemovedElements))\n",
        "testRemovedElements=[]\n",
        "testDisorders_corpus=(input_tokenize(testDisorders,testRemovedElements))\n"
      ],
      "execution_count": 0,
      "outputs": []
    },
    {
      "metadata": {
        "id": "kceXLofHXLXZ",
        "colab_type": "code",
        "colab": {}
      },
      "cell_type": "code",
      "source": [
        "MatrixList,empty=get_termes_matrices(Disorders_corpus,model)"
      ],
      "execution_count": 0,
      "outputs": []
    },
    {
      "metadata": {
        "id": "bvfxZMquMf62",
        "colab_type": "code",
        "colab": {
          "base_uri": "https://localhost:8080/",
          "height": 119
        },
        "outputId": "2b0c3b6e-0375-4643-d19b-b7af39556076"
      },
      "cell_type": "code",
      "source": [
        "print(\"test sample\")\n",
        "testMatrixList,testempty=get_termes_matrices(testDisorders_corpus,model)"
      ],
      "execution_count": 38,
      "outputs": [
        {
          "output_type": "stream",
          "text": [
            "test sample\n",
            "i: 0\n",
            "[] before preprocess- 324 : ea4\n",
            "i: 1000\n",
            "length: 1999\n",
            "shape= (1999, 30, 300)\n"
          ],
          "name": "stdout"
        }
      ]
    },
    {
      "metadata": {
        "id": "3iIdVDfTf-Op",
        "colab_type": "code",
        "colab": {}
      },
      "cell_type": "code",
      "source": [
        "def remove_element_byIndex(panda_dataset,listOfIndexes):\n",
        "  Indexes=[]\n",
        "  for elem in listOfIndexes:\n",
        "    Indexes.append(panda_dataset[elem:elem+1].index[0])\n",
        "  \n",
        "  print(Indexes)\n",
        "  return panda_dataset.drop(Indexes)"
      ],
      "execution_count": 0,
      "outputs": []
    },
    {
      "metadata": {
        "id": "uqVt0PK8N_JF",
        "colab_type": "code",
        "colab": {
          "base_uri": "https://localhost:8080/",
          "height": 170
        },
        "outputId": "97e8f1d8-7398-4f62-aaf9-8605b9bd57a0"
      },
      "cell_type": "code",
      "source": [
        "\n",
        "\n",
        "print(Codes.reindex([224267,110224]))\n",
        "#print(Disorders[RemovedElements[0]:RemovedElements[0]+1])\n",
        "print(Codes[RemovedElements[0]:RemovedElements[0]+1])\n",
        "#print(Disorders[RemovedElements[1]:RemovedElements[1]+1])\n",
        "#po=pd.Int64Index([], dtype='int64')\n",
        "#po.append(224267)\n",
        "\n",
        "print(\"Before drop:\",len(Codes))\n",
        "#Codes=remove_element_byIndex(Codes,RemovedElements)\n",
        "print(\"After drop:\",len(Codes))\n",
        "print(testempty)\n",
        "print(\"after drop\")"
      ],
      "execution_count": 98,
      "outputs": [
        {
          "output_type": "stream",
          "text": [
            "224267    NaN\n",
            "110224    NaN\n",
            "Name: Code, dtype: object\n",
            "525893    C0161721\n",
            "Name: Code, dtype: object\n",
            "Before drop: 10000\n",
            "After drop: 10000\n",
            "[]\n",
            "after drop\n"
          ],
          "name": "stdout"
        }
      ]
    },
    {
      "metadata": {
        "id": "ktF4WxRmwnKq",
        "colab_type": "code",
        "colab": {}
      },
      "cell_type": "code",
      "source": [
        "def get_code_classes(Codes,gensim_model):\n",
        "  unique_Codes=list(set(Codes))\n",
        "  nb_classes=len(unique_Codes)\n",
        "  print(\"number of codes:\",nb_classes)\n",
        "  Code_vectors=[gensim_model.wv.get_vector(token) for token in Codes]\n",
        "  Code_dict=dict(zip(Codes,Code_vectors))\n",
        "  #inv_Code_dict=dict(zip(Code_vectors,Codes))\n",
        "  #print(Code_vectors[0][0:5])\n",
        "  #print(\"'C0009021'\",Code_dict['C0009021'][0:5])\n",
        "  return nb_classes,Code_vectors,Code_dict"
      ],
      "execution_count": 0,
      "outputs": []
    },
    {
      "metadata": {
        "id": "u29aDrbXxdMC",
        "colab_type": "code",
        "colab": {}
      },
      "cell_type": "code",
      "source": [
        "nb_classes,Code_vectors,Code_dict=get_code_classes(Codes,model)"
      ],
      "execution_count": 0,
      "outputs": []
    },
    {
      "metadata": {
        "id": "HyM7h_vpA_Ka",
        "colab_type": "code",
        "outputId": "2da15d55-90ab-4a4e-c561-34d2e54c6b7a",
        "colab": {
          "base_uri": "https://localhost:8080/",
          "height": 51
        }
      },
      "cell_type": "code",
      "source": [
        "Codes[222160]\n",
        "print(\"Dict:\",Code_dict[\"C0275585\"][0:5])\n",
        "print(\"Vect:\",Code_vectors[0][0:5])"
      ],
      "execution_count": 0,
      "outputs": [
        {
          "output_type": "stream",
          "text": [
            "Dict: [-0.20602292 -0.07620893  0.05917473  0.12279531  0.05850269]\n",
            "Vect: [-0.20602292 -0.07620893  0.05917473  0.12279531  0.05850269]\n"
          ],
          "name": "stdout"
        }
      ]
    },
    {
      "metadata": {
        "id": "q3S51Zx3ELso",
        "colab_type": "code",
        "outputId": "0cbdca35-d902-494d-df7b-29b562c6c85b",
        "colab": {
          "base_uri": "https://localhost:8080/",
          "height": 68
        }
      },
      "cell_type": "code",
      "source": [
        "testnb_classes,testCode_vectors,testCode_dict=get_code_classes(testCodes,model)\n",
        "\n",
        "testCodes[244939]\n",
        "print(\"Dict:\",testCode_dict[\"C0341679\"][0:5])\n",
        "print(\"Vect:\",testCode_vectors[0][0:5])"
      ],
      "execution_count": 0,
      "outputs": [
        {
          "output_type": "stream",
          "text": [
            "number of codes: 1988\n",
            "Dict: [ 0.10499874  0.155534    0.00348204 -0.0099629   0.04916005]\n",
            "Vect: [ 0.10499874  0.155534    0.00348204 -0.0099629   0.04916005]\n"
          ],
          "name": "stdout"
        }
      ]
    },
    {
      "metadata": {
        "id": "rLSvN9133bES",
        "colab_type": "code",
        "outputId": "be517cfd-96ef-4543-dab0-7991ddecd9a5",
        "colab": {
          "base_uri": "https://localhost:8080/",
          "height": 51
        }
      },
      "cell_type": "code",
      "source": [
        "batch_size = 128\n",
        "num_classes = nb_classes\n",
        "epochs = 10\n",
        "\n",
        "# input dimensions\n",
        "size_x, size_y = MatrixList[0].shape\n",
        "keras_model = Sequential()\n",
        "print(type(np.array(MatrixList)))\n",
        "\n",
        "# load the MNIST data set, which already splits into train and test sets for us\n",
        "x_train, y_train = np.array(MatrixList),np.array(Code_vectors)\n",
        "x_test, y_test = np.array(testMatrixList),np.array(testCode_vectors)\n",
        "print(type(x_train[0]))"
      ],
      "execution_count": 0,
      "outputs": [
        {
          "output_type": "stream",
          "text": [
            "<class 'numpy.ndarray'>\n",
            "<class 'numpy.ndarray'>\n"
          ],
          "name": "stdout"
        }
      ]
    },
    {
      "metadata": {
        "id": "DJ4ty4IOKQjz",
        "colab_type": "code",
        "outputId": "d5f01966-a2f2-4dcc-9983-15c56947f273",
        "colab": {
          "base_uri": "https://localhost:8080/",
          "height": 51
        }
      },
      "cell_type": "code",
      "source": [
        "print((x_train.shape))\n",
        "print((x_test.shape))"
      ],
      "execution_count": 0,
      "outputs": [
        {
          "output_type": "stream",
          "text": [
            "(20000,)\n",
            "(2000,)\n"
          ],
          "name": "stdout"
        }
      ]
    },
    {
      "metadata": {
        "id": "8zoSkAQsQn_s",
        "colab_type": "code",
        "outputId": "3d609d21-79c9-4bb7-dec9-abb7d800ee0e",
        "colab": {
          "base_uri": "https://localhost:8080/",
          "height": 197
        }
      },
      "cell_type": "code",
      "source": [
        "# reshape the data into a 4D tensor - (sample_number, x_size, y_size, num_channels)\n",
        "# we only have a single channel\n",
        "x_train = x_train.reshape(x_train.shape[0], size_x, size_y, 1)\n",
        "x_test = x_test.reshape(x_test.shape[0], size_x, size_y, 1)\n",
        "input_shape = (size_x, size_y, 1)"
      ],
      "execution_count": 0,
      "outputs": [
        {
          "output_type": "error",
          "ename": "ValueError",
          "evalue": "ignored",
          "traceback": [
            "\u001b[0;31m---------------------------------------------------------------------------\u001b[0m",
            "\u001b[0;31mValueError\u001b[0m                                Traceback (most recent call last)",
            "\u001b[0;32m<ipython-input-123-b13234989b2b>\u001b[0m in \u001b[0;36m<module>\u001b[0;34m()\u001b[0m\n\u001b[0;32m----> 1\u001b[0;31m \u001b[0mx_train\u001b[0m \u001b[0;34m=\u001b[0m \u001b[0mx_train\u001b[0m\u001b[0;34m.\u001b[0m\u001b[0mreshape\u001b[0m\u001b[0;34m(\u001b[0m\u001b[0mx_train\u001b[0m\u001b[0;34m.\u001b[0m\u001b[0mshape\u001b[0m\u001b[0;34m[\u001b[0m\u001b[0;36m0\u001b[0m\u001b[0;34m]\u001b[0m\u001b[0;34m,\u001b[0m \u001b[0msize_x\u001b[0m\u001b[0;34m,\u001b[0m \u001b[0msize_y\u001b[0m\u001b[0;34m,\u001b[0m \u001b[0;36m1\u001b[0m\u001b[0;34m)\u001b[0m\u001b[0;34m\u001b[0m\u001b[0;34m\u001b[0m\u001b[0m\n\u001b[0m\u001b[1;32m      2\u001b[0m \u001b[0mx_test\u001b[0m \u001b[0;34m=\u001b[0m \u001b[0mx_test\u001b[0m\u001b[0;34m.\u001b[0m\u001b[0mreshape\u001b[0m\u001b[0;34m(\u001b[0m\u001b[0mx_test\u001b[0m\u001b[0;34m.\u001b[0m\u001b[0mshape\u001b[0m\u001b[0;34m[\u001b[0m\u001b[0;36m0\u001b[0m\u001b[0;34m]\u001b[0m\u001b[0;34m,\u001b[0m \u001b[0msize_x\u001b[0m\u001b[0;34m,\u001b[0m \u001b[0msize_y\u001b[0m\u001b[0;34m,\u001b[0m \u001b[0;36m1\u001b[0m\u001b[0;34m)\u001b[0m\u001b[0;34m\u001b[0m\u001b[0;34m\u001b[0m\u001b[0m\n\u001b[1;32m      3\u001b[0m \u001b[0minput_shape\u001b[0m \u001b[0;34m=\u001b[0m \u001b[0;34m(\u001b[0m\u001b[0msize_x\u001b[0m\u001b[0;34m,\u001b[0m \u001b[0msize_y\u001b[0m\u001b[0;34m,\u001b[0m \u001b[0;36m1\u001b[0m\u001b[0;34m)\u001b[0m\u001b[0;34m\u001b[0m\u001b[0;34m\u001b[0m\u001b[0m\n",
            "\u001b[0;31mValueError\u001b[0m: cannot reshape array of size 20000 into shape (20000,15,300,1)"
          ]
        }
      ]
    }
  ]
}