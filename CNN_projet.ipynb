{
  "nbformat": 4,
  "nbformat_minor": 0,
  "metadata": {
    "colab": {
      "name": "CNN_projet.ipynb",
      "version": "0.3.2",
      "provenance": [],
      "collapsed_sections": [],
      "include_colab_link": true
    },
    "kernelspec": {
      "name": "python3",
      "display_name": "Python 3"
    },
    "accelerator": "GPU"
  },
  "cells": [
    {
      "cell_type": "markdown",
      "metadata": {
        "id": "view-in-github",
        "colab_type": "text"
      },
      "source": [
        "<a href=\"https://colab.research.google.com/github/RomaricKanyamibwa/Normalisation-de-concepts-medicaux/blob/master/CNN_projet.ipynb\" target=\"_parent\"><img src=\"https://colab.research.google.com/assets/colab-badge.svg\" alt=\"Open In Colab\"/></a>"
      ]
    },
    {
      "metadata": {
        "id": "Ak_51v7RzKSF",
        "colab_type": "code",
        "outputId": "526e2bfb-15aa-4817-f79b-98c0e4ec49c3",
        "colab": {
          "base_uri": "https://localhost:8080/",
          "height": 34
        }
      },
      "cell_type": "code",
      "source": [
        "from __future__ import print_function\n",
        "import keras\n",
        "from keras.datasets import mnist\n",
        "from keras.layers import Dense, Flatten\n",
        "from keras.layers import Conv2D, MaxPooling2D\n",
        "from keras.models import Sequential\n",
        "import matplotlib.pylab as plt\n",
        "import logging\n"
      ],
      "execution_count": 2,
      "outputs": [
        {
          "output_type": "stream",
          "text": [
            "Using TensorFlow backend.\n"
          ],
          "name": "stderr"
        }
      ]
    },
    {
      "metadata": {
        "id": "eRkwdNOQVCD9",
        "colab_type": "code",
        "colab": {}
      },
      "cell_type": "code",
      "source": [
        "!pip3 install --upgrade gensim"
      ],
      "execution_count": 0,
      "outputs": []
    },
    {
      "metadata": {
        "id": "86zeEgZ5lQtt",
        "colab_type": "code",
        "colab": {}
      },
      "cell_type": "code",
      "source": [
        "!apt-get install -y -qq software-properties-common python-software-properties module-init-tools\n",
        "!add-apt-repository -y ppa:alessandro-strada/ppa 2>&1 > /dev/null\n",
        "!apt-get update -qq 2>&1 > /dev/null\n",
        "!apt-get -y install -qq google-drive-ocamlfuse fuse\n",
        "from google.colab import auth\n",
        "auth.authenticate_user()\n",
        "from oauth2client.client import GoogleCredentials\n",
        "creds = GoogleCredentials.get_application_default()\n",
        "import getpass\n",
        "!google-drive-ocamlfuse -headless -id={creds.client_id} -secret={creds.client_secret} < /dev/null 2>&1 | grep URL\n",
        "vcode = getpass.getpass()\n",
        "!echo {vcode} | google-drive-ocamlfuse -headless -id={creds.client_id} -secret={creds.client_secret}"
      ],
      "execution_count": 0,
      "outputs": []
    },
    {
      "metadata": {
        "id": "7wmOPwdLVFJc",
        "colab_type": "code",
        "colab": {}
      },
      "cell_type": "code",
      "source": [
        "from gensim.models import Word2Vec\n",
        "import gensim\n",
        "import pandas as pd\n",
        "from gensim.parsing.preprocessing import remove_stopwords\n",
        "import numpy as np"
      ],
      "execution_count": 0,
      "outputs": []
    },
    {
      "metadata": {
        "id": "s2gz4OY7Zf6A",
        "colab_type": "code",
        "colab": {
          "base_uri": "https://localhost:8080/",
          "height": 364
        },
        "outputId": "fb09e344-2559-4d7d-a909-ea2cdf2bc774"
      },
      "cell_type": "code",
      "source": [
        "!mkdir drive\n",
        "!google-drive-ocamlfuse drive\n",
        "!ls drive/Word2VecModels/\n",
        "!ls -l drive/Coolab/"
      ],
      "execution_count": 7,
      "outputs": [
        {
          "output_type": "stream",
          "text": [
            "mkdir: cannot create directory ‘drive’: File exists\n",
            "fuse: mountpoint is not empty\n",
            "fuse: if you are sure this is safe, use the 'nonempty' mount option\n",
            "model_2_LivingBeingsTrainingSet.bin\n",
            "modelLivingBeingsTrainingSet.bin\n",
            "modelPourRomaricLivingBeingsTrainingSet.bin\n",
            "total 933477\n",
            "-rw-r--r-- 1 root root     62531 Feb  4 15:24 CNN_projet.ipynb\n",
            "-rw-r--r-- 1 root root  20688992 Dec 13 20:53 Disorders\n",
            "-rw-r--r-- 1 root root  62187545 Nov 25 22:57 Disorders.csv\n",
            "-rw-r--r-- 1 root root   3117869 Dec 15 14:13 DisordersNoCodes\n",
            "-rw-r--r-- 1 root root  57394928 Dec 15 14:13 DisordersNoCodes.trainables.syn1neg.npy\n",
            "-rw-r--r-- 1 root root  57394928 Dec 15 14:13 DisordersNoCodes.wv.vectors.npy\n",
            "-rw-r--r-- 1 root root 377493728 Dec 13 20:53 Disorders.trainables.syn1neg.npy\n",
            "-rw-r--r-- 1 root root 377493728 Dec 13 20:53 Disorders.wv.vectors.npy\n",
            "-rw-r--r-- 1 root root      8864 Dec  8 20:50 loadmodel.ipynb\n",
            "drwxr-xr-x 2 root root      4096 Dec  8 17:30 sg-s0200-w08-m004-ns05-s0.001-a0.025-i05\n",
            "-rw-r--r-- 1 root root       287 Jan 30 10:23 Untitled0.ipynb\n",
            "-rw-r--r-- 1 root root     10220 Jan 30 22:51 visualize.ipynb\n",
            "-rw-r--r-- 1 root root     18464 Jan  5 19:35 word2vec.ipynb\n"
          ],
          "name": "stdout"
        }
      ]
    },
    {
      "metadata": {
        "id": "o-YG0tZubYfe",
        "colab_type": "code",
        "outputId": "fce7248e-c3d3-4863-b118-48462bce97b5",
        "colab": {
          "base_uri": "https://localhost:8080/",
          "height": 86
        }
      },
      "cell_type": "code",
      "source": [
        "google_drive=\"drive/Coolab/\"\n",
        "df_disorders=pd.read_csv(\"drive/Coolab/Disorders.csv\",names=[\"Code\",\"Disorder\",\"GenDisorder\"],sep=\"\\t\") \n",
        "num_rows=df_disorders.shape[0]\n",
        "\n",
        "#step 2:Clean data\n",
        "count_empty=df_disorders.isnull().sum()\n",
        "count_non_empty=count_empty[count_empty==0]\n",
        "print(count_non_empty)\n",
        "#remove empty rows\n",
        "df_disorders=df_disorders[count_non_empty.keys()]"
      ],
      "execution_count": 8,
      "outputs": [
        {
          "output_type": "stream",
          "text": [
            "Code           0\n",
            "Disorder       0\n",
            "GenDisorder    0\n",
            "dtype: int64\n"
          ],
          "name": "stdout"
        }
      ]
    },
    {
      "metadata": {
        "id": "ieCSyU6ex2de",
        "colab_type": "code",
        "outputId": "076c2533-9188-420a-a075-9788b474fcc2",
        "colab": {
          "base_uri": "https://localhost:8080/",
          "height": 52
        }
      },
      "cell_type": "code",
      "source": [
        "GCodes=df_disorders['Code']#Y vector (outputs)\n",
        "GDisorders=df_disorders['Disorder']#X vector(test)\n",
        "GenDisorders=df_disorders['GenDisorder']#X vector (train)\n",
        "print(len(GDisorders))\n",
        "print(len(GCodes))"
      ],
      "execution_count": 72,
      "outputs": [
        {
          "output_type": "stream",
          "text": [
            "623509\n",
            "623509\n"
          ],
          "name": "stdout"
        }
      ]
    },
    {
      "metadata": {
        "id": "bhyAgbxXmxCy",
        "colab_type": "code",
        "outputId": "0a7e7e50-68bc-4bc8-ec69-4fe58c1d5e98",
        "colab": {
          "base_uri": "https://localhost:8080/",
          "height": 34
        }
      },
      "cell_type": "code",
      "source": [
        "Gsample_size=25000#global sample size\n",
        "sample_size=19000#train size\n",
        "#train\n",
        "GDisorders=GDisorders.sample(Gsample_size,random_state=10)\n",
        "GCodes=GCodes[GDisorders.index]\n",
        "len(GCodes)"
      ],
      "execution_count": 73,
      "outputs": [
        {
          "output_type": "execute_result",
          "data": {
            "text/plain": [
              "25000"
            ]
          },
          "metadata": {
            "tags": []
          },
          "execution_count": 73
        }
      ]
    },
    {
      "metadata": {
        "id": "Q6osWfA0sJbj",
        "colab_type": "code",
        "outputId": "8fcf3bd8-526a-4dfd-a080-9526097f7330",
        "colab": {
          "base_uri": "https://localhost:8080/",
          "height": 34
        }
      },
      "cell_type": "code",
      "source": [
        "Disorders=GDisorders.sample(sample_size,random_state=10)\n",
        "Codes=GCodes[Disorders.index]\n",
        "len(Codes)"
      ],
      "execution_count": 74,
      "outputs": [
        {
          "output_type": "execute_result",
          "data": {
            "text/plain": [
              "19000"
            ]
          },
          "metadata": {
            "tags": []
          },
          "execution_count": 74
        }
      ]
    },
    {
      "metadata": {
        "id": "TpkLwc_xU40H",
        "colab_type": "code",
        "outputId": "60e624ae-c27a-43c8-a2cd-05608cb2cc5b",
        "colab": {
          "base_uri": "https://localhost:8080/",
          "height": 34
        }
      },
      "cell_type": "code",
      "source": [
        "#test set\n",
        "#tsample_size=4000\n",
        "#testDisorders=df_disorders['Disorder']\n",
        "testDisorders=GDisorders.drop(Disorders.index)\n",
        "#testDisorders=testDisorders.sample(tsample_size,random_state=10)\n",
        "#testCodes=df_disorders['Code']\n",
        "testCodes=GCodes[testDisorders.index]\n",
        "len(testCodes)"
      ],
      "execution_count": 75,
      "outputs": [
        {
          "output_type": "execute_result",
          "data": {
            "text/plain": [
              "6000"
            ]
          },
          "metadata": {
            "tags": []
          },
          "execution_count": 75
        }
      ]
    },
    {
      "metadata": {
        "id": "u9sFnrt7gpvA",
        "colab_type": "code",
        "colab": {}
      },
      "cell_type": "code",
      "source": [
        "def removed_elements_generator(input_list):\n",
        "    \"\"\"This function creates an id generator of the empty tokenized elements\"\"\"\n",
        "    \n",
        "    logging.info(\"reading file {0}...this may take a while\".format(input_list))\n",
        "    \n",
        "    for i, line in enumerate (input_list): \n",
        "        if (i%10000==0):\n",
        "            logging.info (\"read {0} reviews\".format (i))\n",
        "        # do some pre-processing and return a list of words for each review text\n",
        "        line_process=remove_stopwords(line)\n",
        "        line_process=gensim.utils.simple_preprocess(line_process,min_len=3,max_len=30)\n",
        "        if not line_process:\n",
        "          print(line_process,\"before preprocess-\",i,\":\",line)\n",
        "          RemovedElements.append(i)\n",
        "          #line_process=line.split()\n",
        "          yield i\n",
        "\n",
        "def input_tokenize(input_list,RemovedElements):\n",
        "    \"\"\"This creates a generator of the tokenized elements \"\"\"\n",
        "    \n",
        "    logging.info(\"reading file {0}...this may take a while\".format(input_list))\n",
        "    \n",
        "    for i, line in enumerate (input_list): \n",
        "        if (i%10000==0):\n",
        "            logging.info (\"read {0} reviews\".format (i))\n",
        "        # do some pre-processing and return a list of words for each review text\n",
        "        line_process=remove_stopwords(line)\n",
        "        line_process=gensim.utils.simple_preprocess(line_process,min_len=3,max_len=30)\n",
        "        if not line_process:\n",
        "          print(line_process,\"before preprocess-\",i,\":\",line)\n",
        "          RemovedElements.append(i)\n",
        "          #line_process=line.split()\n",
        "        else:    \n",
        "          yield line_process"
      ],
      "execution_count": 0,
      "outputs": []
    },
    {
      "metadata": {
        "id": "xkGxL6dLugLC",
        "colab_type": "code",
        "colab": {}
      },
      "cell_type": "code",
      "source": [
        "model_dir=google_drive+\"DisordersNoCodes\"\n",
        "model_w2vec=Word2Vec.load(model_dir)\n"
      ],
      "execution_count": 0,
      "outputs": []
    },
    {
      "metadata": {
        "id": "pGMzWPS0egKe",
        "colab_type": "code",
        "colab": {}
      },
      "cell_type": "code",
      "source": [
        "def getsentence_matrix(sentence,gensim_model,nrows=30):\n",
        "  #print(\"sent:\",sentence)\n",
        "  sentence_matrix=[gensim_model.wv.get_vector(token) for token in sentence]\n",
        " \n",
        "  sentence_matrix=np.matrix(sentence_matrix)\n",
        "#  print(\"Before padding:\")\n",
        "#  pprint(sentence_matrix.T[:2,:])\n",
        "  #print(\"size before padding:\",nrows-sentence_matrix.shape[0])\n",
        "  if(nrows-sentence_matrix.shape[0]<0 or sentence_matrix.shape[1]<=0):\n",
        "    print(\"Sentence:\",sentence)\n",
        "    print(\"MatrixShape:\",sentence_matrix.shape)\n",
        "    print(sentence_matrix)\n",
        "  sentence_matrix=np.lib.pad(sentence_matrix,((0,max(0,nrows-sentence_matrix.shape[0])),(0,0)), 'constant', constant_values=(0))\n",
        "  #sentence_matrix=np.delete(sentence_matrix,np.s_[::2],axis=0)\n",
        "  #sentence_matrix=np.delete(sentence_matrix,np.s_[::2],axis=1)\n",
        "  #sentence_matrix=np.delete(sentence_matrix,np.s_[::2],axis=0)\n",
        "  #sentence_matrix=np.delete(sentence_matrix,np.s_[::2],axis=1)\n",
        "  #sentence_matrix=np.delete(sentence_matrix,np.s_[::2],axis=0)\n",
        "  #sentence_matrix=np.delete(sentence_matrix,np.s_[::2],axis=1)\n",
        "  \n",
        "  #sentence_matrix=np.delete(sentence_matrix,np.s_[::2],axis=1)\n",
        "  #sentence_matrix=np.delete(sentence_matrix,np.s_[::2],axis=1)\n",
        "  #sentence_matrix=np.delete(sentence_matrix,np.s_[::2],axis=1)\n",
        "#  print(\"After padding:\")\n",
        "#  pprint(sentence_matrix.T[:2,:])\n",
        "  #print(\"shape=\",sentence_matrix.shape)\n",
        "  return sentence_matrix#.T"
      ],
      "execution_count": 0,
      "outputs": []
    },
    {
      "metadata": {
        "id": "ASG8Vr4hu5Al",
        "colab_type": "code",
        "colab": {}
      },
      "cell_type": "code",
      "source": [
        "def get_termes_matrices(Corpus,model):\n",
        "  \n",
        "#  pprint(Corpus)\n",
        "  matrix_list=[]\n",
        "  IndexOfEmptyElem=[]\n",
        "  nrows=30\n",
        "  empty=True\n",
        "  for i,sentence in enumerate(Corpus):\n",
        "    if not(not sentence):\n",
        "      if empty==True:\n",
        "        matrix_list=np.array([getsentence_matrix(sentence,model,nrows=30)])\n",
        "        empty=False\n",
        "        #print(matrix_list[0].shape)\n",
        "      else:\n",
        "        #print(i,\":\",getsentence_matrix(sentence,model).shape)\n",
        "        matrix_list=np.append(matrix_list,[getsentence_matrix(sentence,model,nrows=30)],axis=0)\n",
        "      #print(\"i:\",i)#,matrix_list)\n",
        "      if(i%1000==0):\n",
        "        print(\"i:\",i)\n",
        "       # break\n",
        "    else:\n",
        "      print(\"Empty element's index:\",i)\n",
        "      IndexOfEmptyElem.append(i)\n",
        "      #print(np.zeros((5,5)))\n",
        "      matrix_list=np.append(matrix_list,[np.zeros((nrows,model.wv.vector_size))],axis=0)\n",
        "  print(\"length:\",len(matrix_list))\n",
        "  print(\"shape=\",matrix_list.shape)\n",
        "  #print(matrix_list)\n",
        "  return matrix_list,IndexOfEmptyElem\n"
      ],
      "execution_count": 0,
      "outputs": []
    },
    {
      "metadata": {
        "id": "i7p2psJ8GJRY",
        "colab_type": "code",
        "cellView": "code",
        "colab": {}
      },
      "cell_type": "code",
      "source": [
        "RemovedElements=[]\n",
        "Disorders_corpus=(input_tokenize(Disorders,RemovedElements))\n",
        "testRemovedElements=[]\n",
        "testDisorders_corpus=(input_tokenize(testDisorders,testRemovedElements))\n"
      ],
      "execution_count": 0,
      "outputs": []
    },
    {
      "metadata": {
        "id": "kceXLofHXLXZ",
        "colab_type": "code",
        "outputId": "a2200f74-0469-422c-aec5-c347e84d43eb",
        "colab": {
          "base_uri": "https://localhost:8080/",
          "height": 799
        }
      },
      "cell_type": "code",
      "source": [
        "MatrixList,empty=get_termes_matrices(Disorders_corpus,model_w2vec)"
      ],
      "execution_count": 77,
      "outputs": [
        {
          "output_type": "stream",
          "text": [
            "i: 0\n",
            "i: 1000\n",
            "i: 2000\n",
            "i: 3000\n",
            "[] before preprocess- 3846 : t(7;10)(q34;q24)\n",
            "[] before preprocess- 3910 : dn\n",
            "i: 4000\n",
            "[] before preprocess- 4414 : da1\n",
            "i: 5000\n",
            "[] before preprocess- 5103 : t(2;17)(p23;q35)\n",
            "i: 6000\n",
            "[] before preprocess- 6161 : ad5\n",
            "[] before preprocess- 6910 : fire in mine\n",
            "i: 7000\n",
            "i: 8000\n",
            "[] before preprocess- 8025 : ae\n",
            "i: 9000\n",
            "[] before preprocess- 9147 : pc2\n",
            "i: 10000\n",
            "[] before preprocess- 10094 : rp13\n",
            "[] before preprocess- 10448 : ts\n",
            "i: 11000\n",
            "[] before preprocess- 11586 : cd332 c.1645a>c\n",
            "i: 12000\n",
            "[] before preprocess- 12057 : as\n",
            "[] before preprocess- 12233 : ea4\n",
            "[] before preprocess- 12706 : ad18\n",
            "i: 13000\n",
            "[] before preprocess- 13500 : pi3k c.3140a>t\n",
            "[] before preprocess- 13797 : rp73\n",
            "[] before preprocess- 13997 : hs5\n",
            "i: 14000\n",
            "i: 15000\n",
            "[] before preprocess- 15152 : mc5dm2\n",
            "i: 16000\n",
            "[] before preprocess- 16060 : a514g\n",
            "[] before preprocess- 16645 : ml i\n",
            "i: 17000\n",
            "[] before preprocess- 17209 : oi9\n",
            "[] before preprocess- 17757 : rp15\n",
            "i: 18000\n",
            "[] before preprocess- 18258 : cd332 c.1144t>c\n",
            "[] before preprocess- 18537 : t(17;21)(q11;q22)\n",
            "length: 18976\n",
            "shape= (18976, 30, 300)\n"
          ],
          "name": "stdout"
        }
      ]
    },
    {
      "metadata": {
        "id": "bvfxZMquMf62",
        "colab_type": "code",
        "outputId": "c2f88841-1f46-487f-9831-78c8f9f76496",
        "colab": {
          "base_uri": "https://localhost:8080/",
          "height": 364
        }
      },
      "cell_type": "code",
      "source": [
        "print(\"test sample\")\n",
        "testMatrixList,testempty=get_termes_matrices(testDisorders_corpus,model_w2vec)"
      ],
      "execution_count": 78,
      "outputs": [
        {
          "output_type": "stream",
          "text": [
            "test sample\n",
            "i: 0\n",
            "[] before preprocess- 273 : t(17;22)(q22;q13)\n",
            "[] before preprocess- 275 : rp69\n",
            "i: 1000\n",
            "i: 2000\n",
            "[] before preprocess- 2056 : t2d\n",
            "[] before preprocess- 2186 : k20r\n",
            "i: 3000\n",
            "[] before preprocess- 3538 : md1\n",
            "i: 4000\n",
            "[] before preprocess- 4008 : f2 20210g-a\n",
            "[] before preprocess- 4483 : oi14\n",
            "[] before preprocess- 4757 : a2md\n",
            "[] before preprocess- 4923 : hh24\n",
            "i: 5000\n",
            "[] before preprocess- 5415 : da1\n",
            "[] before preprocess- 5983 : rp38\n",
            "length: 5989\n",
            "shape= (5989, 30, 300)\n"
          ],
          "name": "stdout"
        }
      ]
    },
    {
      "metadata": {
        "id": "3iIdVDfTf-Op",
        "colab_type": "code",
        "colab": {}
      },
      "cell_type": "code",
      "source": [
        "def remove_element_byIndex(panda_dataset,listOfIndexes):\n",
        "  Indexes=[]\n",
        "  for elem in listOfIndexes:\n",
        "    Indexes.append(panda_dataset[elem:elem+1].index[0])\n",
        "  \n",
        "  print(Indexes)\n",
        "  return panda_dataset.drop(Indexes)"
      ],
      "execution_count": 0,
      "outputs": []
    },
    {
      "metadata": {
        "id": "uqVt0PK8N_JF",
        "colab_type": "code",
        "outputId": "91fcdbf3-b337-4d9a-9ecf-45a95e2a361c",
        "colab": {
          "base_uri": "https://localhost:8080/",
          "height": 211
        }
      },
      "cell_type": "code",
      "source": [
        "\n",
        "\n",
        "print(Codes.reindex([219126, 267602]))\n",
        "#print(Disorders[RemovedElements[0]:RemovedElements[0]+1])\n",
        "print(Codes[RemovedElements[0]:RemovedElements[0]+1])\n",
        "#print(Disorders[RemovedElements[1]:RemovedElements[1]+1])\n",
        "#po=pd.Int64Index([], dtype='int64')\n",
        "#po.append(224267)\n",
        "\n",
        "print(\"Before drop:\",len(Codes))\n",
        "Codes2=remove_element_byIndex(Codes,RemovedElements)\n",
        "print(\"After drop:\",len(Codes2))\n",
        "print(testempty)\n",
        "print(\"after drop\")"
      ],
      "execution_count": 80,
      "outputs": [
        {
          "output_type": "stream",
          "text": [
            "219126    C3810041\n",
            "267602    C2675192\n",
            "Name: Code, dtype: object\n",
            "31064    C1515782\n",
            "Name: Code, dtype: object\n",
            "Before drop: 19000\n",
            "[31064, 315505, 94632, 30167, 314043, 381658, 584994, 298433, 244552, 323019, 24110, 285892, 110224, 219126, 28973, 151841, 267602, 224267, 23522, 124679, 125081, 231113, 26207, 23305]\n",
            "After drop: 18976\n",
            "[]\n",
            "after drop\n"
          ],
          "name": "stdout"
        }
      ]
    },
    {
      "metadata": {
        "id": "nb7SqX7eisgt",
        "colab_type": "code",
        "outputId": "ac70c70f-2ded-4b59-b39c-c46f021611c7",
        "colab": {
          "base_uri": "https://localhost:8080/",
          "height": 69
        }
      },
      "cell_type": "code",
      "source": [
        "print(\"Before drop:\",len(testCodes))\n",
        "testCodes2=remove_element_byIndex(testCodes,testRemovedElements)\n",
        "print(\"After drop:\",len(testCodes2))"
      ],
      "execution_count": 81,
      "outputs": [
        {
          "output_type": "stream",
          "text": [
            "Before drop: 6000\n",
            "[26735, 284050, 67531, 29851, 563840, 23240, 304425, 216601, 316848, 60127, 336882]\n",
            "After drop: 5989\n"
          ],
          "name": "stdout"
        }
      ]
    },
    {
      "metadata": {
        "id": "Be-_w8_Nvn_S",
        "colab_type": "code",
        "outputId": "9a512a35-dd26-46ee-d3b5-d38e40e3fd58",
        "colab": {
          "base_uri": "https://localhost:8080/",
          "height": 52
        }
      },
      "cell_type": "code",
      "source": [
        "print(\"Before drop:\",len(GCodes))\n",
        "GCodes2=GCodes.drop(Codes2.index)\n",
        "#print(\"After drop:\",len(GCodes2))\n",
        "GCodes2=GCodes2.drop(testCodes2.index)\n",
        "#print(\"After drop:\",len(GCodes2))\n",
        "GCodes2=GCodes.drop(GCodes2.index)\n",
        "print(\"After Final Global drop:\",len(GCodes2))\n"
      ],
      "execution_count": 82,
      "outputs": [
        {
          "output_type": "stream",
          "text": [
            "Before drop: 25000\n",
            "After Final Global drop: 24965\n"
          ],
          "name": "stdout"
        }
      ]
    },
    {
      "metadata": {
        "id": "ktF4WxRmwnKq",
        "colab_type": "code",
        "colab": {}
      },
      "cell_type": "code",
      "source": [
        "def get_code_classes(Codes,gensim_model):\n",
        "  unique_Codes=list(set(Codes))\n",
        "  nb_classes=len(unique_Codes)\n",
        "  print(\"number of codes:\",nb_classes)\n",
        "  #Code_vectors=[gensim_model.wv.get_vector(token) for token in Codes]\n",
        "  #Code_dict=dict(zip(Codes,Code_vectors))\n",
        "  #inv_Code_dict=dict(zip(Code_vectors,Codes))\n",
        "  #print(Code_vectors[0][0:5])\n",
        "  #print(\"'C0009021'\",Code_dict['C0009021'][0:5])\n",
        "  return nb_classes#,Code_vectors,Code_dict"
      ],
      "execution_count": 0,
      "outputs": []
    },
    {
      "metadata": {
        "id": "u29aDrbXxdMC",
        "colab_type": "code",
        "outputId": "61023637-5fcb-4965-e9ba-d0a82f0d8d24",
        "colab": {
          "base_uri": "https://localhost:8080/",
          "height": 34
        }
      },
      "cell_type": "code",
      "source": [
        "#nb_classes,Code_vectors,Code_dict\n",
        "nb_classes=get_code_classes(Codes2,model_w2vec)#Test codes"
      ],
      "execution_count": 84,
      "outputs": [
        {
          "output_type": "stream",
          "text": [
            "number of codes: 17520\n"
          ],
          "name": "stdout"
        }
      ]
    },
    {
      "metadata": {
        "id": "q3S51Zx3ELso",
        "colab_type": "code",
        "outputId": "d9d8aa31-917e-416c-8652-84e7856e7b73",
        "colab": {
          "base_uri": "https://localhost:8080/",
          "height": 34
        }
      },
      "cell_type": "code",
      "source": [
        "#testnb_classes,testCode_vectors,testCode_dict=get_code_classes(testCodes2,model_w2vec)\n",
        "\n",
        "#Num_classes,GCode_vectors,GCode_dict\n",
        "Num_classes=get_code_classes(GCodes2,model_w2vec)#Global Codes"
      ],
      "execution_count": 85,
      "outputs": [
        {
          "output_type": "stream",
          "text": [
            "number of codes: 22582\n"
          ],
          "name": "stdout"
        }
      ]
    },
    {
      "metadata": {
        "id": "y4y0dmxHfDxE",
        "colab_type": "code",
        "colab": {}
      },
      "cell_type": "code",
      "source": [
        "batch_size = 128\n",
        "num_classes = nb_classes\n",
        "epochs = 15"
      ],
      "execution_count": 0,
      "outputs": []
    },
    {
      "metadata": {
        "id": "rLSvN9133bES",
        "colab_type": "code",
        "outputId": "5a596593-915f-4d8e-b15f-b3d8ff4d6e21",
        "colab": {
          "base_uri": "https://localhost:8080/",
          "height": 52
        }
      },
      "cell_type": "code",
      "source": [
        "# input dimensions\n",
        "size_x, size_y = MatrixList[0].shape\n",
        "#keras_model = Sequential()\n",
        "print(type(np.array(MatrixList)))\n",
        "\n",
        "# load the data set, which already splits into train and test sets for us\n",
        "x_train, y_train = np.array(MatrixList),np.array(Codes2)\n",
        "x_test, y_test = np.array(testMatrixList),np.array(testCodes2)\n",
        "print(type(x_train[0]))"
      ],
      "execution_count": 87,
      "outputs": [
        {
          "output_type": "stream",
          "text": [
            "<class 'numpy.ndarray'>\n",
            "<class 'numpy.ndarray'>\n"
          ],
          "name": "stdout"
        }
      ]
    },
    {
      "metadata": {
        "id": "DJ4ty4IOKQjz",
        "colab_type": "code",
        "outputId": "6f43b25b-4dca-467a-fa3c-9c65ec5d3250",
        "colab": {
          "base_uri": "https://localhost:8080/",
          "height": 86
        }
      },
      "cell_type": "code",
      "source": [
        "print((x_train.shape))\n",
        "print((x_test.shape))\n",
        "print((y_train.shape))\n",
        "print((y_test.shape))"
      ],
      "execution_count": 88,
      "outputs": [
        {
          "output_type": "stream",
          "text": [
            "(18976, 30, 300)\n",
            "(5989, 30, 300)\n",
            "(18976,)\n",
            "(5989,)\n"
          ],
          "name": "stdout"
        }
      ]
    },
    {
      "metadata": {
        "id": "8zoSkAQsQn_s",
        "colab_type": "code",
        "colab": {}
      },
      "cell_type": "code",
      "source": [
        "# reshape the data into a 4D tensor - (sample_number, x_size, y_size, num_channels)\n",
        "# we only have a single channel\n",
        "x_train = x_train.reshape(x_train.shape[0], size_x, size_y, 1)\n",
        "x_test = x_test.reshape(x_test.shape[0], size_x, size_y, 1)\n",
        "input_shape = (size_x, size_y, 1)"
      ],
      "execution_count": 0,
      "outputs": []
    },
    {
      "metadata": {
        "id": "fujynUUOkGIH",
        "colab_type": "code",
        "outputId": "b807a629-e685-489b-9263-12f64b2b08c7",
        "colab": {
          "base_uri": "https://localhost:8080/",
          "height": 69
        }
      },
      "cell_type": "code",
      "source": [
        "# convert the data to the right type\n",
        "x_train = x_train.astype('float32')\n",
        "x_test = x_test.astype('float32')\n",
        "print('x_train shape:', x_train.shape)\n",
        "print(x_train.shape[0], 'train samples')\n",
        "print(x_test.shape[0], 'test samples')"
      ],
      "execution_count": 90,
      "outputs": [
        {
          "output_type": "stream",
          "text": [
            "x_train shape: (18976, 30, 300, 1)\n",
            "18976 train samples\n",
            "5989 test samples\n"
          ],
          "name": "stdout"
        }
      ]
    },
    {
      "metadata": {
        "id": "pZ1kpJ7xQOre",
        "colab_type": "code",
        "outputId": "763a928d-8c6b-4f3d-e25b-3232f5197c95",
        "colab": {
          "base_uri": "https://localhost:8080/",
          "height": 86
        }
      },
      "cell_type": "code",
      "source": [
        "from sklearn.preprocessing import LabelEncoder\n",
        "from keras.utils import np_utils\n",
        "\n",
        "print((y_train.shape))\n",
        "print((y_test.shape))\n",
        "# convert class vectors to binary class matrices - this is for use in the\n",
        "encoder = LabelEncoder()\n",
        "encoder.fit(GCodes2)\n",
        "encoded_Y = encoder.transform(y_train)\n",
        "# convert integers to dummy variables (i.e. one hot encoded)\n",
        "y_trainEnc = np_utils.to_categorical(encoded_Y,num_classes=Num_classes)\n",
        "\n",
        "#encoder.fit(GCodes2)\n",
        "encoded_Ytest = encoder.transform(y_test)\n",
        "y_testEnc = np_utils.to_categorical(encoded_Ytest,num_classes=Num_classes)\n",
        "\n",
        "print((y_trainEnc.shape))\n",
        "print((y_testEnc.shape))\n",
        "#input_shape = (size_x, size_y, 1)"
      ],
      "execution_count": 91,
      "outputs": [
        {
          "output_type": "stream",
          "text": [
            "(18976,)\n",
            "(5989,)\n",
            "(18976, 22582)\n",
            "(5989, 22582)\n"
          ],
          "name": "stdout"
        }
      ]
    },
    {
      "metadata": {
        "id": "1OWdDQDPiBDM",
        "colab_type": "code",
        "outputId": "248f93ed-9c8c-4910-e290-728917fba90e",
        "colab": {
          "base_uri": "https://localhost:8080/",
          "height": 34
        }
      },
      "cell_type": "code",
      "source": [
        "Num_classes\n",
        "#GCodes2.head()"
      ],
      "execution_count": 92,
      "outputs": [
        {
          "output_type": "execute_result",
          "data": {
            "text/plain": [
              "22582"
            ]
          },
          "metadata": {
            "tags": []
          },
          "execution_count": 92
        }
      ]
    },
    {
      "metadata": {
        "id": "X-ewXbNmm1tQ",
        "colab_type": "code",
        "colab": {}
      },
      "cell_type": "code",
      "source": [
        "model=None"
      ],
      "execution_count": 0,
      "outputs": []
    },
    {
      "metadata": {
        "id": "7cd_NqOmpgRZ",
        "colab_type": "code",
        "outputId": "341383c0-f77e-42d9-e08a-a33e5a13051c",
        "colab": {
          "base_uri": "https://localhost:8080/",
          "height": 312
        }
      },
      "cell_type": "code",
      "source": [
        "model = Sequential()\n",
        "model.add(Conv2D(64, kernel_size=(1, 299), strides=(1, 1),\n",
        "                 activation='relu',\n",
        "                 input_shape=input_shape))\n",
        "model.add(MaxPooling2D(pool_size=(2, 2), strides=(2, 2)))\n",
        "#model.add(Conv2D(32, kernel_size=(3, 3), strides=(1, 1),\n",
        "           #      activation='relu'))\n",
        "#model.add(MaxPooling2D(pool_size=(2, 2)))\n",
        "#model.add(Conv2D(4, kernel_size=(5, 5), strides=(1, 1),\n",
        " #                activation='relu'))\n",
        "#model.add(MaxPooling2D(pool_size=(2, 2)))\n",
        "model.add(Flatten())\n",
        "#model.add(Dense(300, activation='relu'))\n",
        "#model.add(Dense(1000, activation='relu'))\n",
        "model.add(Dense(3000, activation='relu'))\n",
        "model.add(Dense(Num_classes, activation='softmax'))\n",
        "\n",
        "model.compile(loss=keras.losses.categorical_crossentropy,\n",
        "              optimizer=keras.optimizers.Adam(),\n",
        "              metrics=['accuracy'])\n",
        "\n",
        "model.summary()\n"
      ],
      "execution_count": 94,
      "outputs": [
        {
          "output_type": "stream",
          "text": [
            "_________________________________________________________________\n",
            "Layer (type)                 Output Shape              Param #   \n",
            "=================================================================\n",
            "conv2d_4 (Conv2D)            (None, 30, 2, 64)         19200     \n",
            "_________________________________________________________________\n",
            "max_pooling2d_4 (MaxPooling2 (None, 15, 1, 64)         0         \n",
            "_________________________________________________________________\n",
            "flatten_4 (Flatten)          (None, 960)               0         \n",
            "_________________________________________________________________\n",
            "dense_7 (Dense)              (None, 3000)              2883000   \n",
            "_________________________________________________________________\n",
            "dense_8 (Dense)              (None, 22582)             67768582  \n",
            "=================================================================\n",
            "Total params: 70,670,782\n",
            "Trainable params: 70,670,782\n",
            "Non-trainable params: 0\n",
            "_________________________________________________________________\n"
          ],
          "name": "stdout"
        }
      ]
    },
    {
      "metadata": {
        "id": "LrEI-TDGbcAZ",
        "colab_type": "code",
        "colab": {
          "base_uri": "https://localhost:8080/",
          "height": 573
        },
        "outputId": "07a0a513-9295-47bc-ca89-bf2a3a8efc0e"
      },
      "cell_type": "code",
      "source": [
        "from tensorflow.python.client import device_lib\n",
        "print(device_lib.list_local_devices())\n",
        "from keras import backend as K\n",
        "K.tensorflow_backend._get_available_gpus()"
      ],
      "execution_count": 95,
      "outputs": [
        {
          "output_type": "stream",
          "text": [
            "[name: \"/device:CPU:0\"\n",
            "device_type: \"CPU\"\n",
            "memory_limit: 268435456\n",
            "locality {\n",
            "}\n",
            "incarnation: 15432761243145553941\n",
            ", name: \"/device:XLA_CPU:0\"\n",
            "device_type: \"XLA_CPU\"\n",
            "memory_limit: 17179869184\n",
            "locality {\n",
            "}\n",
            "incarnation: 10960537756972871253\n",
            "physical_device_desc: \"device: XLA_CPU device\"\n",
            ", name: \"/device:XLA_GPU:0\"\n",
            "device_type: \"XLA_GPU\"\n",
            "memory_limit: 17179869184\n",
            "locality {\n",
            "}\n",
            "incarnation: 14664914986075128926\n",
            "physical_device_desc: \"device: XLA_GPU device\"\n",
            ", name: \"/device:GPU:0\"\n",
            "device_type: \"GPU\"\n",
            "memory_limit: 11281553818\n",
            "locality {\n",
            "  bus_id: 1\n",
            "  links {\n",
            "  }\n",
            "}\n",
            "incarnation: 18131165329129499551\n",
            "physical_device_desc: \"device: 0, name: Tesla K80, pci bus id: 0000:00:04.0, compute capability: 3.7\"\n",
            "]\n"
          ],
          "name": "stdout"
        },
        {
          "output_type": "execute_result",
          "data": {
            "text/plain": [
              "['/job:localhost/replica:0/task:0/device:GPU:0']"
            ]
          },
          "metadata": {
            "tags": []
          },
          "execution_count": 95
        }
      ]
    },
    {
      "metadata": {
        "id": "vvReBfVZxM4y",
        "colab_type": "code",
        "outputId": "a081cff3-16b3-4e2c-ea51-4d8021ad2c92",
        "colab": {
          "base_uri": "https://localhost:8080/",
          "height": 573
        }
      },
      "cell_type": "code",
      "source": [
        "class AccuracyHistory(keras.callbacks.Callback):\n",
        "    def on_train_begin(self, logs={}):\n",
        "        self.acc = []\n",
        "\n",
        "    def on_epoch_end(self, batch, logs={}):\n",
        "        self.acc.append(logs.get('acc'))\n",
        "\n",
        "history = AccuracyHistory()\n",
        "\n",
        "model.fit(x_train, y_trainEnc,\n",
        "          batch_size=batch_size,\n",
        "          epochs=epochs,\n",
        "          verbose=1,\n",
        "          validation_data=(x_test, y_testEnc),\n",
        "          callbacks=[history])\n"
      ],
      "execution_count": 96,
      "outputs": [
        {
          "output_type": "stream",
          "text": [
            "Train on 18976 samples, validate on 5989 samples\n",
            "Epoch 1/15\n",
            "18976/18976 [==============================] - 24s 1ms/step - loss: 10.0471 - acc: 5.2698e-05 - val_loss: 10.0763 - val_acc: 1.6697e-04\n",
            "Epoch 2/15\n",
            "18976/18976 [==============================] - 22s 1ms/step - loss: 9.7894 - acc: 0.0019 - val_loss: 10.4778 - val_acc: 0.0017\n",
            "Epoch 3/15\n",
            "18976/18976 [==============================] - 22s 1ms/step - loss: 6.4520 - acc: 0.0579 - val_loss: 12.5124 - val_acc: 0.0142\n",
            "Epoch 4/15\n",
            "18976/18976 [==============================] - 22s 1ms/step - loss: 2.1573 - acc: 0.5104 - val_loss: 14.3127 - val_acc: 0.0259\n",
            "Epoch 5/15\n",
            "18976/18976 [==============================] - 22s 1ms/step - loss: 1.0541 - acc: 0.7285 - val_loss: 14.5204 - val_acc: 0.0311\n",
            "Epoch 6/15\n",
            "18976/18976 [==============================] - 22s 1ms/step - loss: 0.7693 - acc: 0.7971 - val_loss: 14.6382 - val_acc: 0.0306\n",
            "Epoch 7/15\n",
            "18976/18976 [==============================] - 22s 1ms/step - loss: 0.6194 - acc: 0.8348 - val_loss: 14.6757 - val_acc: 0.0341\n",
            "Epoch 8/15\n",
            "18976/18976 [==============================] - 22s 1ms/step - loss: 0.5291 - acc: 0.8599 - val_loss: 14.7354 - val_acc: 0.0334\n",
            "Epoch 9/15\n",
            "18976/18976 [==============================] - 21s 1ms/step - loss: 0.4620 - acc: 0.8794 - val_loss: 14.7353 - val_acc: 0.0342\n",
            "Epoch 10/15\n",
            "18976/18976 [==============================] - 22s 1ms/step - loss: 0.4200 - acc: 0.8900 - val_loss: 14.7744 - val_acc: 0.0349\n",
            "Epoch 11/15\n",
            "18976/18976 [==============================] - 22s 1ms/step - loss: 0.3816 - acc: 0.8980 - val_loss: 14.7488 - val_acc: 0.0336\n",
            "Epoch 12/15\n",
            "18976/18976 [==============================] - 22s 1ms/step - loss: 0.3527 - acc: 0.9063 - val_loss: 14.7711 - val_acc: 0.0344\n",
            "Epoch 13/15\n",
            "18976/18976 [==============================] - 22s 1ms/step - loss: 0.3266 - acc: 0.9123 - val_loss: 14.8092 - val_acc: 0.0351\n",
            "Epoch 14/15\n",
            "18976/18976 [==============================] - 22s 1ms/step - loss: 0.3065 - acc: 0.9160 - val_loss: 14.8331 - val_acc: 0.0349\n",
            "Epoch 15/15\n",
            "18976/18976 [==============================] - 22s 1ms/step - loss: 0.2834 - acc: 0.9213 - val_loss: 14.8300 - val_acc: 0.0362\n"
          ],
          "name": "stdout"
        },
        {
          "output_type": "execute_result",
          "data": {
            "text/plain": [
              "<keras.callbacks.History at 0x7f8175103320>"
            ]
          },
          "metadata": {
            "tags": []
          },
          "execution_count": 96
        }
      ]
    },
    {
      "metadata": {
        "id": "q4A3FK0qd6o7",
        "colab_type": "code",
        "outputId": "d1f31165-3ed2-4690-ca47-541b662f1d10",
        "colab": {
          "base_uri": "https://localhost:8080/",
          "height": 396
        }
      },
      "cell_type": "code",
      "source": [
        "score = model.evaluate(x_test, y_testEnc, verbose=0)\n",
        "print('Test loss:', score[0])\n",
        "print('Test accuracy:', score[1])\n",
        "plt.plot(range(1, epochs+1), history.acc)\n",
        "plt.xlabel('Epochs')\n",
        "plt.ylabel('Accuracy')\n",
        "plt.show()"
      ],
      "execution_count": 97,
      "outputs": [
        {
          "output_type": "stream",
          "text": [
            "Test loss: 14.83001898524956\n",
            "Test accuracy: 0.03623309400567708\n"
          ],
          "name": "stdout"
        },
        {
          "output_type": "display_data",
          "data": {
            "image/png": "[encoded data removed]",
            "text/plain": [
              "<Figure size 576x396 with 1 Axes>"
            ]
          },
          "metadata": {
            "tags": []
          }
        }
      ]
    }
  ]
}