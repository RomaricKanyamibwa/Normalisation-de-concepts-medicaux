{
  "nbformat": 4,
  "nbformat_minor": 0,
  "metadata": {
    "colab": {
      "name": "CNN_projet.ipynb",
      "version": "0.3.2",
      "provenance": [],
      "collapsed_sections": [],
      "include_colab_link": true
    },
    "kernelspec": {
      "name": "python3",
      "display_name": "Python 3"
    },
    "accelerator": "GPU"
  },
  "cells": [
    {
      "cell_type": "markdown",
      "metadata": {
        "id": "view-in-github",
        "colab_type": "text"
      },
      "source": [
        "<a href=\"https://colab.research.google.com/github/RomaricKanyamibwa/Normalisation-de-concepts-medicaux/blob/master/CNN_projet.ipynb\" target=\"_parent\"><img src=\"https://colab.research.google.com/assets/colab-badge.svg\" alt=\"Open In Colab\"/></a>"
      ]
    },
    {
      "metadata": {
        "id": "Ak_51v7RzKSF",
        "colab_type": "code",
        "outputId": "513753d6-cd57-4213-d582-0dd50258f717",
        "colab": {
          "base_uri": "https://localhost:8080/",
          "height": 34
        }
      },
      "cell_type": "code",
      "source": [
        "from __future__ import print_function\n",
        "import keras\n",
        "from keras.datasets import mnist\n",
        "from keras.layers import Dense, Flatten\n",
        "from keras.layers import Conv2D, MaxPooling2D\n",
        "from keras.models import Sequential\n",
        "import matplotlib.pylab as plt\n",
        "import logging\n"
      ],
      "execution_count": 0,
      "outputs": [
        {
          "output_type": "stream",
          "text": [
            "Using TensorFlow backend.\n"
          ],
          "name": "stderr"
        }
      ]
    },
    {
      "metadata": {
        "id": "eRkwdNOQVCD9",
        "colab_type": "code",
        "colab": {}
      },
      "cell_type": "code",
      "source": [
        "!pip3 install --upgrade gensim"
      ],
      "execution_count": 0,
      "outputs": []
    },
    {
      "metadata": {
        "id": "86zeEgZ5lQtt",
        "colab_type": "code",
        "colab": {}
      },
      "cell_type": "code",
      "source": [
        "!apt-get install -y -qq software-properties-common python-software-properties module-init-tools\n",
        "!add-apt-repository -y ppa:alessandro-strada/ppa 2>&1 > /dev/null\n",
        "!apt-get update -qq 2>&1 > /dev/null\n",
        "!apt-get -y install -qq google-drive-ocamlfuse fuse\n",
        "from google.colab import auth\n",
        "auth.authenticate_user()\n",
        "from oauth2client.client import GoogleCredentials\n",
        "creds = GoogleCredentials.get_application_default()\n",
        "import getpass\n",
        "!google-drive-ocamlfuse -headless -id={creds.client_id} -secret={creds.client_secret} < /dev/null 2>&1 | grep URL\n",
        "vcode = getpass.getpass()\n",
        "!echo {vcode} | google-drive-ocamlfuse -headless -id={creds.client_id} -secret={creds.client_secret}"
      ],
      "execution_count": 0,
      "outputs": []
    },
    {
      "metadata": {
        "id": "7wmOPwdLVFJc",
        "colab_type": "code",
        "colab": {}
      },
      "cell_type": "code",
      "source": [
        "from gensim.models import Word2Vec\n",
        "import gensim\n",
        "import pandas as pd\n",
        "from gensim.parsing.preprocessing import remove_stopwords\n",
        "import numpy as np"
      ],
      "execution_count": 0,
      "outputs": []
    },
    {
      "metadata": {
        "id": "s2gz4OY7Zf6A",
        "colab_type": "code",
        "colab": {}
      },
      "cell_type": "code",
      "source": [
        "!mkdir drive\n",
        "!google-drive-ocamlfuse drive\n",
        "!ls drive/Word2VecModels/\n",
        "!ls -l drive/Coolab/"
      ],
      "execution_count": 0,
      "outputs": []
    },
    {
      "metadata": {
        "id": "o-YG0tZubYfe",
        "colab_type": "code",
        "outputId": "b716bf8e-1062-41f0-fd3f-fd47acc31c81",
        "colab": {
          "base_uri": "https://localhost:8080/",
          "height": 86
        }
      },
      "cell_type": "code",
      "source": [
        "google_drive=\"drive/Coolab/\"\n",
        "df_disorders=pd.read_csv(\"drive/Coolab/Disorders.csv\",names=[\"Code\",\"Disorder\",\"GenDisorder\"],sep=\"\\t\") \n",
        "num_rows=df_disorders.shape[0]\n",
        "\n",
        "#step 2:Clean data\n",
        "count_empty=df_disorders.isnull().sum()\n",
        "count_non_empty=count_empty[count_empty==0]\n",
        "print(count_non_empty)\n",
        "#remove empty rows\n",
        "df_disorders=df_disorders[count_non_empty.keys()]"
      ],
      "execution_count": 0,
      "outputs": [
        {
          "output_type": "stream",
          "text": [
            "Code           0\n",
            "Disorder       0\n",
            "GenDisorder    0\n",
            "dtype: int64\n"
          ],
          "name": "stdout"
        }
      ]
    },
    {
      "metadata": {
        "id": "ieCSyU6ex2de",
        "colab_type": "code",
        "outputId": "b094fd95-bfbd-4742-9ba3-68a0508f75a2",
        "colab": {
          "base_uri": "https://localhost:8080/",
          "height": 52
        }
      },
      "cell_type": "code",
      "source": [
        "GCodes=df_disorders['Code']#Y vector (outputs)\n",
        "GDisorders=df_disorders['Disorder']#X vector(test)\n",
        "GenDisorders=df_disorders['GenDisorder']#X vector (train)\n",
        "print(len(GDisorders))\n",
        "print(len(GCodes))"
      ],
      "execution_count": 0,
      "outputs": [
        {
          "output_type": "stream",
          "text": [
            "623509\n",
            "623509\n"
          ],
          "name": "stdout"
        }
      ]
    },
    {
      "metadata": {
        "id": "bhyAgbxXmxCy",
        "colab_type": "code",
        "outputId": "4cdcf702-5dba-46f5-a497-bd4b2055a0ae",
        "colab": {
          "base_uri": "https://localhost:8080/",
          "height": 34
        }
      },
      "cell_type": "code",
      "source": [
        "Gsample_size=10000#global sample size\n",
        "sample_size=9500#train size\n",
        "#train\n",
        "GDisorders=GDisorders.sample(Gsample_size,random_state=10)\n",
        "GCodes=GCodes[GDisorders.index]\n",
        "len(GCodes)\n"
      ],
      "execution_count": 0,
      "outputs": [
        {
          "output_type": "execute_result",
          "data": {
            "text/plain": [
              "10000"
            ]
          },
          "metadata": {
            "tags": []
          },
          "execution_count": 7
        }
      ]
    },
    {
      "metadata": {
        "id": "Q6osWfA0sJbj",
        "colab_type": "code",
        "outputId": "8df031b5-5e3c-4fd6-9605-0cc81f996097",
        "colab": {
          "base_uri": "https://localhost:8080/",
          "height": 34
        }
      },
      "cell_type": "code",
      "source": [
        "Disorders=GDisorders.sample(sample_size,random_state=10)\n",
        "Codes=GCodes[Disorders.index]\n",
        "len(Codes)"
      ],
      "execution_count": 0,
      "outputs": [
        {
          "output_type": "execute_result",
          "data": {
            "text/plain": [
              "9500"
            ]
          },
          "metadata": {
            "tags": []
          },
          "execution_count": 8
        }
      ]
    },
    {
      "metadata": {
        "id": "TpkLwc_xU40H",
        "colab_type": "code",
        "outputId": "81861aa5-8eeb-49fa-f9d1-60936d9e57a5",
        "colab": {
          "base_uri": "https://localhost:8080/",
          "height": 34
        }
      },
      "cell_type": "code",
      "source": [
        "#test set\n",
        "#tsample_size=4000\n",
        "#testDisorders=df_disorders['Disorder']\n",
        "testDisorders=GDisorders.drop(Disorders.index)\n",
        "#testDisorders=testDisorders.sample(tsample_size,random_state=10)\n",
        "#testCodes=df_disorders['Code']\n",
        "testCodes=GCodes[testDisorders.index]\n",
        "len(testCodes)"
      ],
      "execution_count": 0,
      "outputs": [
        {
          "output_type": "execute_result",
          "data": {
            "text/plain": [
              "500"
            ]
          },
          "metadata": {
            "tags": []
          },
          "execution_count": 9
        }
      ]
    },
    {
      "metadata": {
        "id": "u9sFnrt7gpvA",
        "colab_type": "code",
        "colab": {}
      },
      "cell_type": "code",
      "source": [
        "def removed_elements_generator(input_list):\n",
        "    \"\"\"This function creates an id generator of the empty tokenized elements\"\"\"\n",
        "    \n",
        "    logging.info(\"reading file {0}...this may take a while\".format(input_list))\n",
        "    \n",
        "    for i, line in enumerate (input_list): \n",
        "        if (i%10000==0):\n",
        "            logging.info (\"read {0} reviews\".format (i))\n",
        "        # do some pre-processing and return a list of words for each review text\n",
        "        line_process=remove_stopwords(line)\n",
        "        line_process=gensim.utils.simple_preprocess(line_process,min_len=3,max_len=30)\n",
        "        if not line_process:\n",
        "          print(line_process,\"before preprocess-\",i,\":\",line)\n",
        "          RemovedElements.append(i)\n",
        "          #line_process=line.split()\n",
        "          yield i\n",
        "\n",
        "def input_tokenize(input_list,RemovedElements):\n",
        "    \"\"\"This creates a generator of the tokenized elements \"\"\"\n",
        "    \n",
        "    logging.info(\"reading file {0}...this may take a while\".format(input_list))\n",
        "    \n",
        "    for i, line in enumerate (input_list): \n",
        "        if (i%10000==0):\n",
        "            logging.info (\"read {0} reviews\".format (i))\n",
        "        # do some pre-processing and return a list of words for each review text\n",
        "        line_process=remove_stopwords(line)\n",
        "        line_process=gensim.utils.simple_preprocess(line_process,min_len=3,max_len=30)\n",
        "        if not line_process:\n",
        "          print(line_process,\"before preprocess-\",i,\":\",line)\n",
        "          RemovedElements.append(i)\n",
        "          #line_process=line.split()\n",
        "        else:    \n",
        "          yield line_process"
      ],
      "execution_count": 0,
      "outputs": []
    },
    {
      "metadata": {
        "id": "xkGxL6dLugLC",
        "colab_type": "code",
        "colab": {}
      },
      "cell_type": "code",
      "source": [
        "model_dir=google_drive+\"DisordersNoCodes\"\n",
        "model_w2vec=Word2Vec.load(model_dir)\n"
      ],
      "execution_count": 0,
      "outputs": []
    },
    {
      "metadata": {
        "id": "pGMzWPS0egKe",
        "colab_type": "code",
        "colab": {}
      },
      "cell_type": "code",
      "source": [
        "def getsentence_matrix(sentence,gensim_model,nrows=30):\n",
        "  #print(\"sent:\",sentence)\n",
        "  sentence_matrix=[gensim_model.wv.get_vector(token) for token in sentence]\n",
        " \n",
        "  sentence_matrix=np.matrix(sentence_matrix)\n",
        "#  print(\"Before padding:\")\n",
        "#  pprint(sentence_matrix.T[:2,:])\n",
        "  #print(\"size before padding:\",nrows-sentence_matrix.shape[0])\n",
        "  if(nrows-sentence_matrix.shape[0]<0 or sentence_matrix.shape[1]<=0):\n",
        "    print(\"Sentence:\",sentence)\n",
        "    print(\"MatrixShape:\",sentence_matrix.shape)\n",
        "    print(sentence_matrix)\n",
        "  sentence_matrix=np.lib.pad(sentence_matrix,((0,max(0,nrows-sentence_matrix.shape[0])),(0,0)), 'constant', constant_values=(0))\n",
        "  #sentence_matrix=np.delete(sentence_matrix,np.s_[::2],axis=0)\n",
        "  #sentence_matrix=np.delete(sentence_matrix,np.s_[::2],axis=1)\n",
        "  #sentence_matrix=np.delete(sentence_matrix,np.s_[::2],axis=0)\n",
        "  #sentence_matrix=np.delete(sentence_matrix,np.s_[::2],axis=1)\n",
        "  #sentence_matrix=np.delete(sentence_matrix,np.s_[::2],axis=0)\n",
        "  #sentence_matrix=np.delete(sentence_matrix,np.s_[::2],axis=1)\n",
        "  \n",
        "  #sentence_matrix=np.delete(sentence_matrix,np.s_[::2],axis=1)\n",
        "  #sentence_matrix=np.delete(sentence_matrix,np.s_[::2],axis=1)\n",
        "  #sentence_matrix=np.delete(sentence_matrix,np.s_[::2],axis=1)\n",
        "#  print(\"After padding:\")\n",
        "#  pprint(sentence_matrix.T[:2,:])\n",
        "  #print(\"shape=\",sentence_matrix.shape)\n",
        "  return sentence_matrix#.T"
      ],
      "execution_count": 0,
      "outputs": []
    },
    {
      "metadata": {
        "id": "ASG8Vr4hu5Al",
        "colab_type": "code",
        "colab": {}
      },
      "cell_type": "code",
      "source": [
        "def get_termes_matrices(Corpus,model):\n",
        "  \n",
        "#  pprint(Corpus)\n",
        "  matrix_list=[]\n",
        "  IndexOfEmptyElem=[]\n",
        "  nrows=30\n",
        "  empty=True\n",
        "  for i,sentence in enumerate(Corpus):\n",
        "    if not(not sentence):\n",
        "      if empty==True:\n",
        "        matrix_list=np.array([getsentence_matrix(sentence,model,nrows=30)])\n",
        "        empty=False\n",
        "        #print(matrix_list[0].shape)\n",
        "      else:\n",
        "        #print(i,\":\",getsentence_matrix(sentence,model).shape)\n",
        "        matrix_list=np.append(matrix_list,[getsentence_matrix(sentence,model,nrows=30)],axis=0)\n",
        "      #print(\"i:\",i)#,matrix_list)\n",
        "      if(i%1000==0):\n",
        "        print(\"i:\",i)\n",
        "       # break\n",
        "    else:\n",
        "      print(\"Empty element's index:\",i)\n",
        "      IndexOfEmptyElem.append(i)\n",
        "      #print(np.zeros((5,5)))\n",
        "      matrix_list=np.append(matrix_list,[np.zeros((nrows,model.wv.vector_size))],axis=0)\n",
        "  print(\"length:\",len(matrix_list))\n",
        "  print(\"shape=\",matrix_list.shape)\n",
        "  #print(matrix_list)\n",
        "  return matrix_list,IndexOfEmptyElem\n"
      ],
      "execution_count": 0,
      "outputs": []
    },
    {
      "metadata": {
        "id": "i7p2psJ8GJRY",
        "colab_type": "code",
        "cellView": "code",
        "colab": {}
      },
      "cell_type": "code",
      "source": [
        "RemovedElements=[]\n",
        "Disorders_corpus=(input_tokenize(Disorders,RemovedElements))\n",
        "testRemovedElements=[]\n",
        "testDisorders_corpus=(input_tokenize(testDisorders,testRemovedElements))\n"
      ],
      "execution_count": 0,
      "outputs": []
    },
    {
      "metadata": {
        "id": "kceXLofHXLXZ",
        "colab_type": "code",
        "outputId": "5b4ff8f3-56ab-4a6f-b432-924efed9c9ca",
        "colab": {
          "base_uri": "https://localhost:8080/",
          "height": 434
        }
      },
      "cell_type": "code",
      "source": [
        "MatrixList,empty=get_termes_matrices(Disorders_corpus,model_w2vec)"
      ],
      "execution_count": 0,
      "outputs": [
        {
          "output_type": "stream",
          "text": [
            "i: 0\n",
            "[] before preprocess- 234 : t(2;17)(p23;q35)\n",
            "[] before preprocess- 462 : rp15\n",
            "i: 1000\n",
            "i: 2000\n",
            "[] before preprocess- 2222 : hs5\n",
            "i: 3000\n",
            "[] before preprocess- 3374 : t(17;22)(q22;q13)\n",
            "i: 4000\n",
            "[] before preprocess- 4811 : cd332 c.1645a>c\n",
            "[] before preprocess- 4914 : t(17;21)(q11;q22)\n",
            "i: 5000\n",
            "i: 6000\n",
            "[] before preprocess- 6456 : ad18\n",
            "i: 7000\n",
            "[] before preprocess- 7130 : ml i\n",
            "[] before preprocess- 7532 : cd332 c.1144t>c\n",
            "[] before preprocess- 7571 : ad5\n",
            "i: 8000\n",
            "[] before preprocess- 8355 : rp69\n",
            "[] before preprocess- 8732 : t2d\n",
            "i: 9000\n",
            "length: 9488\n",
            "shape= (9488, 30, 300)\n"
          ],
          "name": "stdout"
        }
      ]
    },
    {
      "metadata": {
        "id": "bvfxZMquMf62",
        "colab_type": "code",
        "outputId": "b94a393a-ae3f-4496-ff2f-38d6a100f0a9",
        "colab": {
          "base_uri": "https://localhost:8080/",
          "height": 121
        }
      },
      "cell_type": "code",
      "source": [
        "print(\"test sample\")\n",
        "testMatrixList,testempty=get_termes_matrices(testDisorders_corpus,model_w2vec)"
      ],
      "execution_count": 0,
      "outputs": [
        {
          "output_type": "stream",
          "text": [
            "test sample\n",
            "i: 0\n",
            "i: 1000\n",
            "[] before preprocess- 1389 : k20r\n",
            "length: 1499\n",
            "shape= (1499, 30, 300)\n"
          ],
          "name": "stdout"
        }
      ]
    },
    {
      "metadata": {
        "id": "3iIdVDfTf-Op",
        "colab_type": "code",
        "colab": {}
      },
      "cell_type": "code",
      "source": [
        "def remove_element_byIndex(panda_dataset,listOfIndexes):\n",
        "  Indexes=[]\n",
        "  for elem in listOfIndexes:\n",
        "    Indexes.append(panda_dataset[elem:elem+1].index[0])\n",
        "  \n",
        "  print(Indexes)\n",
        "  return panda_dataset.drop(Indexes)"
      ],
      "execution_count": 0,
      "outputs": []
    },
    {
      "metadata": {
        "id": "uqVt0PK8N_JF",
        "colab_type": "code",
        "outputId": "8b32efae-73e4-44a1-ccfa-fe8cbcd8795f",
        "colab": {
          "base_uri": "https://localhost:8080/",
          "height": 191
        }
      },
      "cell_type": "code",
      "source": [
        "\n",
        "\n",
        "print(Codes.reindex([219126, 267602]))\n",
        "#print(Disorders[RemovedElements[0]:RemovedElements[0]+1])\n",
        "print(Codes[RemovedElements[0]:RemovedElements[0]+1])\n",
        "#print(Disorders[RemovedElements[1]:RemovedElements[1]+1])\n",
        "#po=pd.Int64Index([], dtype='int64')\n",
        "#po.append(224267)\n",
        "\n",
        "print(\"Before drop:\",len(Codes))\n",
        "Codes2=remove_element_byIndex(Codes,RemovedElements)\n",
        "print(\"After drop:\",len(Codes2))\n",
        "print(testempty)\n",
        "print(\"after drop\")"
      ],
      "execution_count": 0,
      "outputs": [
        {
          "output_type": "stream",
          "text": [
            "219126    C3810041\n",
            "267602    C2675192\n",
            "Name: Code, dtype: object\n",
            "67531    C0011860\n",
            "Name: Code, dtype: object\n",
            "Before drop: 8500\n",
            "[67531, 23305, 30167, 26207, 231113, 323019, 26735, 219126, 314043, 267602, 24110, 124679, 284050]\n",
            "After drop: 8487\n",
            "[]\n",
            "after drop\n"
          ],
          "name": "stdout"
        }
      ]
    },
    {
      "metadata": {
        "id": "nb7SqX7eisgt",
        "colab_type": "code",
        "outputId": "94aaf273-1307-4dc3-e614-6b6c50240dcb",
        "colab": {
          "base_uri": "https://localhost:8080/",
          "height": 69
        }
      },
      "cell_type": "code",
      "source": [
        "print(\"Before drop:\",len(testCodes))\n",
        "testCodes2=remove_element_byIndex(testCodes,testRemovedElements)\n",
        "print(\"After drop:\",len(testCodes2))"
      ],
      "execution_count": 0,
      "outputs": [
        {
          "output_type": "stream",
          "text": [
            "Before drop: 1500\n",
            "[29851]\n",
            "After drop: 1499\n"
          ],
          "name": "stdout"
        }
      ]
    },
    {
      "metadata": {
        "id": "Be-_w8_Nvn_S",
        "colab_type": "code",
        "outputId": "7e200c4d-7468-4494-c007-7a72d72fa10d",
        "colab": {
          "base_uri": "https://localhost:8080/",
          "height": 52
        }
      },
      "cell_type": "code",
      "source": [
        "print(\"Before drop:\",len(GCodes))\n",
        "GCodes2=GCodes.drop(Codes2.index)\n",
        "#print(\"After drop:\",len(GCodes2))\n",
        "GCodes2=GCodes2.drop(testCodes2.index)\n",
        "#print(\"After drop:\",len(GCodes2))\n",
        "GCodes2=GCodes.drop(GCodes2.index)\n",
        "print(\"After Final Global drop:\",len(GCodes2))\n"
      ],
      "execution_count": 0,
      "outputs": [
        {
          "output_type": "stream",
          "text": [
            "Before drop: 10000\n",
            "After Final Global drop: 9986\n"
          ],
          "name": "stdout"
        }
      ]
    },
    {
      "metadata": {
        "id": "ktF4WxRmwnKq",
        "colab_type": "code",
        "colab": {}
      },
      "cell_type": "code",
      "source": [
        "def get_code_classes(Codes,gensim_model):\n",
        "  unique_Codes=list(set(Codes))\n",
        "  nb_classes=len(unique_Codes)\n",
        "  print(\"number of codes:\",nb_classes)\n",
        "  #Code_vectors=[gensim_model.wv.get_vector(token) for token in Codes]\n",
        "  #Code_dict=dict(zip(Codes,Code_vectors))\n",
        "  #inv_Code_dict=dict(zip(Code_vectors,Codes))\n",
        "  #print(Code_vectors[0][0:5])\n",
        "  #print(\"'C0009021'\",Code_dict['C0009021'][0:5])\n",
        "  return nb_classes#,Code_vectors,Code_dict"
      ],
      "execution_count": 0,
      "outputs": []
    },
    {
      "metadata": {
        "id": "u29aDrbXxdMC",
        "colab_type": "code",
        "outputId": "87431074-63c4-4545-fdaa-0196fe8531dc",
        "colab": {
          "base_uri": "https://localhost:8080/",
          "height": 34
        }
      },
      "cell_type": "code",
      "source": [
        "#nb_classes,Code_vectors,Code_dict\n",
        "nb_classes=get_code_classes(Codes2,model_w2vec)#Test codes"
      ],
      "execution_count": 0,
      "outputs": [
        {
          "output_type": "stream",
          "text": [
            "number of codes: 3621\n"
          ],
          "name": "stdout"
        }
      ]
    },
    {
      "metadata": {
        "id": "HyM7h_vpA_Ka",
        "colab_type": "code",
        "colab": {}
      },
      "cell_type": "code",
      "source": [
        "#print(Codes[222160])\n",
        "#print(\"Dict:\",Code_dict[\"C0275585\"][0:5])\n",
        "#print(\"Vect:\",Code_vectors[0][0:5])"
      ],
      "execution_count": 0,
      "outputs": []
    },
    {
      "metadata": {
        "id": "q3S51Zx3ELso",
        "colab_type": "code",
        "outputId": "1007304a-ac4f-4469-a967-98f646af1e3b",
        "colab": {
          "base_uri": "https://localhost:8080/",
          "height": 34
        }
      },
      "cell_type": "code",
      "source": [
        "#testnb_classes,testCode_vectors,testCode_dict=get_code_classes(testCodes2,model_w2vec)\n",
        "\n",
        "#Num_classes,GCode_vectors,GCode_dict\n",
        "Num_classes=get_code_classes(GCodes2,model_w2vec)#Global Codes"
      ],
      "execution_count": 0,
      "outputs": [
        {
          "output_type": "stream",
          "text": [
            "number of codes: 9565\n"
          ],
          "name": "stdout"
        }
      ]
    },
    {
      "metadata": {
        "id": "EWszuJLwjOd2",
        "colab_type": "code",
        "colab": {}
      },
      "cell_type": "code",
      "source": [
        "#useless\n",
        "frames = [Codes2,testCodes2]\n",
        "result = pd.concat(frames)\n",
        "\n",
        "print(len(((result))))\n",
        "\n",
        "print( len( result[Codes2.index] ) )\n",
        "print(result[0:len(Codes2)+1])"
      ],
      "execution_count": 0,
      "outputs": []
    },
    {
      "metadata": {
        "id": "rLSvN9133bES",
        "colab_type": "code",
        "outputId": "35771231-2f52-48f0-8ea6-53166baa83d5",
        "colab": {
          "base_uri": "https://localhost:8080/",
          "height": 52
        }
      },
      "cell_type": "code",
      "source": [
        "batch_size = 32\n",
        "num_classes = nb_classes\n",
        "epochs = 15\n",
        "\n",
        "# input dimensions\n",
        "size_x, size_y = MatrixList[0].shape\n",
        "#keras_model = Sequential()\n",
        "print(type(np.array(MatrixList)))\n",
        "\n",
        "# load the data set, which already splits into train and test sets for us\n",
        "x_train, y_train = np.array(MatrixList),np.array(Codes2)\n",
        "x_test, y_test = np.array(testMatrixList),np.array(testCodes2)\n",
        "print(type(x_train[0]))"
      ],
      "execution_count": 0,
      "outputs": [
        {
          "output_type": "stream",
          "text": [
            "<class 'numpy.ndarray'>\n",
            "<class 'numpy.ndarray'>\n"
          ],
          "name": "stdout"
        }
      ]
    },
    {
      "metadata": {
        "id": "DJ4ty4IOKQjz",
        "colab_type": "code",
        "outputId": "ac362bb3-f3f2-4f13-8daf-3dd727a616ea",
        "colab": {
          "base_uri": "https://localhost:8080/",
          "height": 86
        }
      },
      "cell_type": "code",
      "source": [
        "print((x_train.shape))\n",
        "print((x_test.shape))\n",
        "print((y_train.shape))\n",
        "print((y_test.shape))"
      ],
      "execution_count": 0,
      "outputs": [
        {
          "output_type": "stream",
          "text": [
            "(8487, 30, 300)\n",
            "(1499, 30, 300)\n",
            "(8487,)\n",
            "(1499,)\n"
          ],
          "name": "stdout"
        }
      ]
    },
    {
      "metadata": {
        "id": "8zoSkAQsQn_s",
        "colab_type": "code",
        "colab": {}
      },
      "cell_type": "code",
      "source": [
        "# reshape the data into a 4D tensor - (sample_number, x_size, y_size, num_channels)\n",
        "# we only have a single channel\n",
        "x_train = x_train.reshape(x_train.shape[0], size_x, size_y, 1)\n",
        "x_test = x_test.reshape(x_test.shape[0], size_x, size_y, 1)\n",
        "input_shape = (size_x, size_y, 1)"
      ],
      "execution_count": 0,
      "outputs": []
    },
    {
      "metadata": {
        "id": "fujynUUOkGIH",
        "colab_type": "code",
        "outputId": "313a40f2-af0e-4750-f03e-b502a1361192",
        "colab": {
          "base_uri": "https://localhost:8080/",
          "height": 69
        }
      },
      "cell_type": "code",
      "source": [
        "# convert the data to the right type\n",
        "x_train = x_train.astype('float32')\n",
        "x_test = x_test.astype('float32')\n",
        "print('x_train shape:', x_train.shape)\n",
        "print(x_train.shape[0], 'train samples')\n",
        "print(x_test.shape[0], 'test samples')"
      ],
      "execution_count": 0,
      "outputs": [
        {
          "output_type": "stream",
          "text": [
            "x_train shape: (8487, 30, 300, 1)\n",
            "8487 train samples\n",
            "1499 test samples\n"
          ],
          "name": "stdout"
        }
      ]
    },
    {
      "metadata": {
        "id": "JyWjvxA1q5wy",
        "colab_type": "code",
        "colab": {}
      },
      "cell_type": "code",
      "source": [
        "# convert class vectors to binary class matrices - this is for use in the\n",
        "# categorical_crossentropy loss below\n",
        "#y_train = y_train.reshape(y_train.shape[0], 1)#keras.utils.to_categorical(y_train, nb_classes)\n",
        "#y_test = y_test.reshape(y_test.shape[0], 1)#keras.utils.to_categorical(y_test, testnb_classes)\n"
      ],
      "execution_count": 0,
      "outputs": []
    },
    {
      "metadata": {
        "id": "pZ1kpJ7xQOre",
        "colab_type": "code",
        "outputId": "bc0de3f0-5c60-4483-af67-c6965180a7aa",
        "colab": {
          "base_uri": "https://localhost:8080/",
          "height": 86
        }
      },
      "cell_type": "code",
      "source": [
        "from sklearn.preprocessing import LabelEncoder\n",
        "from keras.utils import np_utils\n",
        "\n",
        "print((y_train.shape))\n",
        "print((y_test.shape))\n",
        "# convert class vectors to binary class matrices - this is for use in the\n",
        "encoder = LabelEncoder()\n",
        "encoder.fit(GCodes2)\n",
        "encoded_Y = encoder.transform(y_train)\n",
        "# convert integers to dummy variables (i.e. one hot encoded)\n",
        "y_trainEnc = np_utils.to_categorical(encoded_Y,num_classes=Num_classes)\n",
        "\n",
        "#encoder.fit(GCodes2)\n",
        "encoded_Ytest = encoder.transform(y_test)\n",
        "y_testEnc = np_utils.to_categorical(encoded_Ytest,num_classes=Num_classes)\n",
        "\n",
        "print((y_trainEnc.shape))\n",
        "print((y_testEnc.shape))\n",
        "#input_shape = (size_x, size_y, 1)"
      ],
      "execution_count": 0,
      "outputs": [
        {
          "output_type": "stream",
          "text": [
            "(8487,)\n",
            "(1499,)\n",
            "(8487, 9565)\n",
            "(1499, 9565)\n"
          ],
          "name": "stdout"
        }
      ]
    },
    {
      "metadata": {
        "id": "1OWdDQDPiBDM",
        "colab_type": "code",
        "outputId": "b0b4bf9d-23fb-4eee-c4f7-b0fa91742c88",
        "colab": {
          "base_uri": "https://localhost:8080/",
          "height": 34
        }
      },
      "cell_type": "code",
      "source": [
        "Num_classes\n",
        "#GCodes2.head()"
      ],
      "execution_count": 0,
      "outputs": [
        {
          "output_type": "execute_result",
          "data": {
            "text/plain": [
              "9565"
            ]
          },
          "metadata": {
            "tags": []
          },
          "execution_count": 69
        }
      ]
    },
    {
      "metadata": {
        "id": "7cd_NqOmpgRZ",
        "colab_type": "code",
        "outputId": "270bad33-522b-4df3-b951-619031eccf4e",
        "colab": {
          "base_uri": "https://localhost:8080/",
          "height": 347
        }
      },
      "cell_type": "code",
      "source": [
        "model = Sequential()\n",
        "model.add(Conv2D(32, kernel_size=(5, 5), strides=(1, 1),\n",
        "                 activation='relu',\n",
        "                 input_shape=input_shape))\n",
        "model.add(MaxPooling2D(pool_size=(2, 2), strides=(2, 2)))\n",
        "model.add(Conv2D(32, (5, 5), activation='relu'))\n",
        "model.add(MaxPooling2D(pool_size=(2, 2)))\n",
        "model.add(Flatten())\n",
        "#model.add(Dense(1000, activation='relu'))\n",
        "model.add(Dense(Num_classes, activation='softmax'))\n",
        "\n",
        "model.compile(loss=keras.losses.categorical_crossentropy,\n",
        "              optimizer=keras.optimizers.Adam(),\n",
        "              metrics=['accuracy'])\n",
        "\n",
        "model.summary()\n"
      ],
      "execution_count": 0,
      "outputs": [
        {
          "output_type": "stream",
          "text": [
            "_________________________________________________________________\n",
            "Layer (type)                 Output Shape              Param #   \n",
            "=================================================================\n",
            "conv2d_8 (Conv2D)            (None, 26, 296, 32)       832       \n",
            "_________________________________________________________________\n",
            "max_pooling2d_8 (MaxPooling2 (None, 13, 148, 32)       0         \n",
            "_________________________________________________________________\n",
            "conv2d_9 (Conv2D)            (None, 9, 144, 32)        25632     \n",
            "_________________________________________________________________\n",
            "max_pooling2d_9 (MaxPooling2 (None, 4, 72, 32)         0         \n",
            "_________________________________________________________________\n",
            "flatten_6 (Flatten)          (None, 9216)              0         \n",
            "_________________________________________________________________\n",
            "dense_9 (Dense)              (None, 9565)              88160605  \n",
            "=================================================================\n",
            "Total params: 88,187,069\n",
            "Trainable params: 88,187,069\n",
            "Non-trainable params: 0\n",
            "_________________________________________________________________\n"
          ],
          "name": "stdout"
        }
      ]
    },
    {
      "metadata": {
        "id": "LrEI-TDGbcAZ",
        "colab_type": "code",
        "colab": {}
      },
      "cell_type": "code",
      "source": [
        "from tensorflow.python.client import device_lib\n",
        "print(device_lib.list_local_devices())\n",
        "from keras import backend as K\n",
        "K.tensorflow_backend._get_available_gpus()"
      ],
      "execution_count": 0,
      "outputs": []
    },
    {
      "metadata": {
        "id": "vvReBfVZxM4y",
        "colab_type": "code",
        "outputId": "a82d794b-9d02-4148-ad55-9576d082b11f",
        "colab": {
          "base_uri": "https://localhost:8080/",
          "height": 237
        }
      },
      "cell_type": "code",
      "source": [
        "class AccuracyHistory(keras.callbacks.Callback):\n",
        "    def on_train_begin(self, logs={}):\n",
        "        self.acc = []\n",
        "\n",
        "    def on_epoch_end(self, batch, logs={}):\n",
        "        self.acc.append(logs.get('acc'))\n",
        "\n",
        "history = AccuracyHistory()\n",
        "\n",
        "model.fit(x_train, y_trainEnc,\n",
        "          batch_size=batch_size,\n",
        "          epochs=epochs,\n",
        "          verbose=1,\n",
        "          validation_data=(x_test, y_testEnc),\n",
        "          callbacks=[history])\n"
      ],
      "execution_count": 0,
      "outputs": [
        {
          "output_type": "error",
          "ename": "NameError",
          "evalue": "ignored",
          "traceback": [
            "\u001b[0;31m---------------------------------------------------------------------------\u001b[0m",
            "\u001b[0;31mNameError\u001b[0m                                 Traceback (most recent call last)",
            "\u001b[0;32m<ipython-input-1-d1aec54e256c>\u001b[0m in \u001b[0;36m<module>\u001b[0;34m()\u001b[0m\n\u001b[0;32m----> 1\u001b[0;31m \u001b[0;32mclass\u001b[0m \u001b[0mAccuracyHistory\u001b[0m\u001b[0;34m(\u001b[0m\u001b[0mkeras\u001b[0m\u001b[0;34m.\u001b[0m\u001b[0mcallbacks\u001b[0m\u001b[0;34m.\u001b[0m\u001b[0mCallback\u001b[0m\u001b[0;34m)\u001b[0m\u001b[0;34m:\u001b[0m\u001b[0;34m\u001b[0m\u001b[0;34m\u001b[0m\u001b[0m\n\u001b[0m\u001b[1;32m      2\u001b[0m     \u001b[0;32mdef\u001b[0m \u001b[0mon_train_begin\u001b[0m\u001b[0;34m(\u001b[0m\u001b[0mself\u001b[0m\u001b[0;34m,\u001b[0m \u001b[0mlogs\u001b[0m\u001b[0;34m=\u001b[0m\u001b[0;34m{\u001b[0m\u001b[0;34m}\u001b[0m\u001b[0;34m)\u001b[0m\u001b[0;34m:\u001b[0m\u001b[0;34m\u001b[0m\u001b[0;34m\u001b[0m\u001b[0m\n\u001b[1;32m      3\u001b[0m         \u001b[0mself\u001b[0m\u001b[0;34m.\u001b[0m\u001b[0macc\u001b[0m \u001b[0;34m=\u001b[0m \u001b[0;34m[\u001b[0m\u001b[0;34m]\u001b[0m\u001b[0;34m\u001b[0m\u001b[0;34m\u001b[0m\u001b[0m\n\u001b[1;32m      4\u001b[0m \u001b[0;34m\u001b[0m\u001b[0m\n\u001b[1;32m      5\u001b[0m     \u001b[0;32mdef\u001b[0m \u001b[0mon_epoch_end\u001b[0m\u001b[0;34m(\u001b[0m\u001b[0mself\u001b[0m\u001b[0;34m,\u001b[0m \u001b[0mbatch\u001b[0m\u001b[0;34m,\u001b[0m \u001b[0mlogs\u001b[0m\u001b[0;34m=\u001b[0m\u001b[0;34m{\u001b[0m\u001b[0;34m}\u001b[0m\u001b[0;34m)\u001b[0m\u001b[0;34m:\u001b[0m\u001b[0;34m\u001b[0m\u001b[0;34m\u001b[0m\u001b[0m\n",
            "\u001b[0;31mNameError\u001b[0m: name 'keras' is not defined"
          ]
        }
      ]
    },
    {
      "metadata": {
        "id": "q4A3FK0qd6o7",
        "colab_type": "code",
        "outputId": "9fb27d38-7289-4c2a-c363-dec798c4aea4",
        "colab": {
          "base_uri": "https://localhost:8080/",
          "height": 396
        }
      },
      "cell_type": "code",
      "source": [
        "score = model.evaluate(x_test, y_testEnc, verbose=0)\n",
        "print('Test loss:', score[0])\n",
        "print('Test accuracy:', score[1])\n",
        "plt.plot(range(1, epochs+1), history.acc)\n",
        "plt.xlabel('Epochs')\n",
        "plt.ylabel('Accuracy')\n",
        "plt.show()"
      ],
      "execution_count": 0,
      "outputs": [
        {
          "output_type": "stream",
          "text": [
            "Test loss: 11.24745820791742\n",
            "Test accuracy: 0.00066711140760507\n"
          ],
          "name": "stdout"
        },
        {
          "output_type": "display_data",
          "data": {
            "image/png": "[encoded data removed]",
            "text/plain": [
              "<Figure size 576x396 with 1 Axes>"
            ]
          },
          "metadata": {
            "tags": []
          }
        }
      ]
    },
    {
      "metadata": {
        "id": "eRqoNb5HMckx",
        "colab_type": "code",
        "outputId": "2028f9f4-6f64-4102-db51-a040612c4f70",
        "colab": {
          "base_uri": "https://localhost:8080/",
          "height": 237
        }
      },
      "cell_type": "code",
      "source": [
        "from keras.layers import Input, Dense, Embedding, Conv2D, MaxPool2D\n",
        "from keras.layers import Reshape, Flatten, Dropout, Concatenate\n",
        "from keras.callbacks import ModelCheckpoint\n",
        "from keras.optimizers import Adam\n",
        "from keras.models import Model\n",
        "from sklearn.model_selection import train_test_split\n",
        "\n",
        "#New CNN based on https://github.com/bhaveshoswal/CNN-text-classification-keras/blob/master/model.py\n",
        "#x_train -> (15981, 30, 300)\n",
        "#x_test  -> (3991, 30, 300)\n",
        "#y_train -> (15981,)\n",
        "#y_test  -> (3991,)\n",
        "\n",
        "\n",
        "# load the data set, which already splits into train and test sets for us\n",
        "x_train, y_train = np.array(MatrixList),np.array(Codes2)\n",
        "x_test, y_test = np.array(testMatrixList),np.array(testCodes2)\n",
        "\n",
        "sequence_length = x_train.shape[1] # 56\n",
        "vocabulary_size = len(G) # \n",
        "print(x_train.shape)\n",
        "print(sequence_length)\n",
        "embedding_dim = 300#x_train.shape[2]\n",
        "filter_sizes = [3,4,5]\n",
        "num_filters = 512\n",
        "drop = 0.5\n",
        "\n",
        "epochs = 10\n",
        "batch_size = 32\n",
        "\n",
        "# this returns a tensor\n",
        "print(\"Creating Model...\")\n",
        "inputs = Input(shape=(sequence_length,), dtype='int32')\n",
        "print(inputs)\n",
        "size_x, size_y = x_train.shape[1:]\n",
        "print(\"size_x:\",size_x,\"size_y:\",size_y)\n",
        "vocabulary_size =  x_train.shape[0]# 18372\n",
        "\n",
        "embedding = Embedding(input_dim=vocabulary_size, output_dim=embedding_dim, input_length=sequence_length)(inputs)\n",
        "reshape = Reshape((sequence_length,embedding_dim,1))(embedding)"
      ],
      "execution_count": 0,
      "outputs": [
        {
          "output_type": "error",
          "ename": "NameError",
          "evalue": "ignored",
          "traceback": [
            "\u001b[0;31m---------------------------------------------------------------------------\u001b[0m",
            "\u001b[0;31mNameError\u001b[0m                                 Traceback (most recent call last)",
            "\u001b[0;32m<ipython-input-49-59479d0864b2>\u001b[0m in \u001b[0;36m<module>\u001b[0;34m()\u001b[0m\n\u001b[1;32m     18\u001b[0m \u001b[0;34m\u001b[0m\u001b[0m\n\u001b[1;32m     19\u001b[0m \u001b[0msequence_length\u001b[0m \u001b[0;34m=\u001b[0m \u001b[0mx_train\u001b[0m\u001b[0;34m.\u001b[0m\u001b[0mshape\u001b[0m\u001b[0;34m[\u001b[0m\u001b[0;36m1\u001b[0m\u001b[0;34m]\u001b[0m \u001b[0;31m# 56\u001b[0m\u001b[0;34m\u001b[0m\u001b[0;34m\u001b[0m\u001b[0m\n\u001b[0;32m---> 20\u001b[0;31m \u001b[0mvocabulary_size\u001b[0m \u001b[0;34m=\u001b[0m \u001b[0mlen\u001b[0m\u001b[0;34m(\u001b[0m\u001b[0mG\u001b[0m\u001b[0;34m)\u001b[0m \u001b[0;31m#\u001b[0m\u001b[0;34m\u001b[0m\u001b[0;34m\u001b[0m\u001b[0m\n\u001b[0m\u001b[1;32m     21\u001b[0m \u001b[0mprint\u001b[0m\u001b[0;34m(\u001b[0m\u001b[0mx_train\u001b[0m\u001b[0;34m.\u001b[0m\u001b[0mshape\u001b[0m\u001b[0;34m)\u001b[0m\u001b[0;34m\u001b[0m\u001b[0;34m\u001b[0m\u001b[0m\n\u001b[1;32m     22\u001b[0m \u001b[0mprint\u001b[0m\u001b[0;34m(\u001b[0m\u001b[0msequence_length\u001b[0m\u001b[0;34m)\u001b[0m\u001b[0;34m\u001b[0m\u001b[0;34m\u001b[0m\u001b[0m\n",
            "\u001b[0;31mNameError\u001b[0m: name 'G' is not defined"
          ]
        }
      ]
    },
    {
      "metadata": {
        "id": "T0vstxcy_8xe",
        "colab_type": "code",
        "colab": {}
      },
      "cell_type": "code",
      "source": [
        "conv_0 = Conv2D(num_filters, kernel_size=(filter_sizes[0], embedding_dim), padding='valid', kernel_initializer='normal', activation='relu')\n",
        "conv_1 = Conv2D(num_filters, kernel_size=(filter_sizes[1], embedding_dim), padding='valid', kernel_initializer='normal', activation='relu')\n",
        "conv_2 = Conv2D(num_filters, kernel_size=(filter_sizes[2], embedding_dim), padding='valid', kernel_initializer='normal', activation='relu')(reshape)\n",
        "\n",
        "maxpool_0 = MaxPool2D(pool_size=(sequence_length - filter_sizes[0] + 1, 1), strides=(1,1), padding='valid')(conv_0)\n",
        "maxpool_1 = MaxPool2D(pool_size=(sequence_length - filter_sizes[1] + 1, 1), strides=(1,1), padding='valid')(conv_1)\n",
        "maxpool_2 = MaxPool2D(pool_size=(sequence_length - filter_sizes[2] + 1, 1), strides=(1,1), padding='valid')(conv_2)\n",
        "\n",
        "concatenated_tensor = Concatenate(axis=1)([maxpool_0, maxpool_1, maxpool_2])\n",
        "flatten = Flatten()(concatenated_tensor)\n",
        "dropout = Dropout(drop)(flatten)\n",
        "output = Dense(units=2, activation='softmax')(dropout)\n",
        "\n",
        "# this creates a model that includes\n",
        "model = Model(inputs=inputs, outputs=output)\n",
        "\n",
        "checkpoint = ModelCheckpoint('weights.{epoch:03d}-{val_acc:.4f}.hdf5', monitor='val_acc', verbose=1, save_best_only=True, mode='auto')\n",
        "adam = Adam(lr=1e-4, beta_1=0.9, beta_2=0.999, epsilon=1e-08, decay=0.0)\n",
        "\n",
        "model.compile(optimizer=adam, loss='binary_crossentropy', metrics=['accuracy'])\n",
        "print(\"Traning Model...\")\n",
        "model.fit(X_train, y_train, batch_size=batch_size, epochs=epochs, verbose=1, callbacks=[checkpoint], validation_data=(X_test, y_test))  # starts training\n"
      ],
      "execution_count": 0,
      "outputs": []
    }
  ]
}