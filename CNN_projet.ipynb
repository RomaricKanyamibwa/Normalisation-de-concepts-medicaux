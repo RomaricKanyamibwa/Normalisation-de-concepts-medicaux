{
  "nbformat": 4,
  "nbformat_minor": 0,
  "metadata": {
    "colab": {
      "name": "CNN_projet.ipynb",
      "version": "0.3.2",
      "provenance": [],
      "collapsed_sections": [],
      "include_colab_link": true
    },
    "kernelspec": {
      "name": "python3",
      "display_name": "Python 3"
    }
  },
  "cells": [
    {
      "cell_type": "markdown",
      "metadata": {
        "id": "view-in-github",
        "colab_type": "text"
      },
      "source": [
        "<a href=\"https://colab.research.google.com/github/RomaricKanyamibwa/Normalisation-de-concepts-medicaux/blob/master/CNN_projet.ipynb\" target=\"_parent\"><img src=\"https://colab.research.google.com/assets/colab-badge.svg\" alt=\"Open In Colab\"/></a>"
      ]
    },
    {
      "metadata": {
        "id": "Ak_51v7RzKSF",
        "colab_type": "code",
        "colab": {}
      },
      "cell_type": "code",
      "source": [
        "from __future__ import print_function\n",
        "import keras\n",
        "from keras.datasets import mnist\n",
        "from keras.layers import Dense, Flatten\n",
        "from keras.layers import Conv2D, MaxPooling2D\n",
        "from keras.models import Sequential\n",
        "import matplotlib.pylab as plt\n",
        "import logging\n"
      ],
      "execution_count": 0,
      "outputs": []
    },
    {
      "metadata": {
        "id": "eRkwdNOQVCD9",
        "colab_type": "code",
        "colab": {}
      },
      "cell_type": "code",
      "source": [
        "!pip3 install --upgrade gensim"
      ],
      "execution_count": 0,
      "outputs": []
    },
    {
      "metadata": {
        "id": "86zeEgZ5lQtt",
        "colab_type": "code",
        "outputId": "ac253aad-2083-4db7-b3f4-39e228d1b444",
        "colab": {
          "base_uri": "https://localhost:8080/",
          "height": 224
        }
      },
      "cell_type": "code",
      "source": [
        "!apt-get install -y -qq software-properties-common python-software-properties module-init-tools\n",
        "!add-apt-repository -y ppa:alessandro-strada/ppa 2>&1 > /dev/null\n",
        "!apt-get update -qq 2>&1 > /dev/null\n",
        "!apt-get -y install -qq google-drive-ocamlfuse fuse\n",
        "from google.colab import auth\n",
        "auth.authenticate_user()\n",
        "from oauth2client.client import GoogleCredentials\n",
        "creds = GoogleCredentials.get_application_default()\n",
        "import getpass\n",
        "!google-drive-ocamlfuse -headless -id={creds.client_id} -secret={creds.client_secret} < /dev/null 2>&1 | grep URL\n",
        "vcode = getpass.getpass()\n",
        "!echo {vcode} | google-drive-ocamlfuse -headless -id={creds.client_id} -secret={creds.client_secret}"
      ],
      "execution_count": 0,
      "outputs": [
        {
          "output_type": "stream",
          "text": [
            "E: Package 'python-software-properties' has no installation candidate\n",
            "Selecting previously unselected package google-drive-ocamlfuse.\n",
            "(Reading database ... 110377 files and directories currently installed.)\n",
            "Preparing to unpack .../google-drive-ocamlfuse_0.7.1-0ubuntu3~ubuntu18.04.1_amd64.deb ...\n",
            "Unpacking google-drive-ocamlfuse (0.7.1-0ubuntu3~ubuntu18.04.1) ...\n",
            "Setting up google-drive-ocamlfuse (0.7.1-0ubuntu3~ubuntu18.04.1) ...\n",
            "Processing triggers for man-db (2.8.3-2ubuntu0.1) ...\n",
            "Please, open the following URL in a web browser: https://accounts.google.com/o/oauth2/auth?client_id=32555940559.apps.googleusercontent.com&redirect_uri=urn%3Aietf%3Awg%3Aoauth%3A2.0%3Aoob&scope=https%3A%2F%2Fwww.googleapis.com%2Fauth%2Fdrive&response_type=code&access_type=offline&approval_prompt=force\n",
            "··········\n",
            "Please, open the following URL in a web browser: https://accounts.google.com/o/oauth2/auth?client_id=32555940559.apps.googleusercontent.com&redirect_uri=urn%3Aietf%3Awg%3Aoauth%3A2.0%3Aoob&scope=https%3A%2F%2Fwww.googleapis.com%2Fauth%2Fdrive&response_type=code&access_type=offline&approval_prompt=force\n",
            "Please enter the verification code: Access token retrieved correctly.\n"
          ],
          "name": "stdout"
        }
      ]
    },
    {
      "metadata": {
        "id": "7wmOPwdLVFJc",
        "colab_type": "code",
        "colab": {}
      },
      "cell_type": "code",
      "source": [
        "from gensim.models import Word2Vec\n",
        "import gensim\n",
        "import pandas as pd\n",
        "from gensim.parsing.preprocessing import remove_stopwords\n",
        "import numpy as np"
      ],
      "execution_count": 0,
      "outputs": []
    },
    {
      "metadata": {
        "id": "s2gz4OY7Zf6A",
        "colab_type": "code",
        "colab": {}
      },
      "cell_type": "code",
      "source": [
        "!mkdir drive\n",
        "!google-drive-ocamlfuse drive\n",
        "!ls drive/Word2VecModels/\n",
        "!ls -l drive/Coolab/"
      ],
      "execution_count": 0,
      "outputs": []
    },
    {
      "metadata": {
        "id": "o-YG0tZubYfe",
        "colab_type": "code",
        "outputId": "5e3dbd77-8957-4f00-fdd7-bfe1ebe21487",
        "colab": {
          "base_uri": "https://localhost:8080/",
          "height": 85
        }
      },
      "cell_type": "code",
      "source": [
        "google_drive=\"drive/Coolab/\"\n",
        "df_disorders=pd.read_csv(\"drive/Coolab/Disorders.csv\",names=[\"Code\",\"Disorder\",\"GenDisorder\"],sep=\"\\t\") \n",
        "num_rows=df_disorders.shape[0]\n",
        "\n",
        "#step 2:Clean data\n",
        "count_empty=df_disorders.isnull().sum()\n",
        "count_non_empty=count_empty[count_empty==0]\n",
        "print(count_non_empty)\n",
        "#remove empty rows\n",
        "df_disorders=df_disorders[count_non_empty.keys()]"
      ],
      "execution_count": 0,
      "outputs": [
        {
          "output_type": "stream",
          "text": [
            "Code           0\n",
            "Disorder       0\n",
            "GenDisorder    0\n",
            "dtype: int64\n"
          ],
          "name": "stdout"
        }
      ]
    },
    {
      "metadata": {
        "id": "ieCSyU6ex2de",
        "colab_type": "code",
        "outputId": "ee67ae78-7728-4096-9708-52daca63569f",
        "colab": {
          "base_uri": "https://localhost:8080/",
          "height": 51
        }
      },
      "cell_type": "code",
      "source": [
        "GCodes=df_disorders['Code']#Y vector (outputs)\n",
        "GDisorders=df_disorders['Disorder']#X vector(test)\n",
        "GenDisorders=df_disorders['GenDisorder']#X vector (train)\n",
        "print(len(GDisorders))\n",
        "print(len(GCodes))"
      ],
      "execution_count": 0,
      "outputs": [
        {
          "output_type": "stream",
          "text": [
            "623509\n",
            "623509\n"
          ],
          "name": "stdout"
        }
      ]
    },
    {
      "metadata": {
        "id": "bhyAgbxXmxCy",
        "colab_type": "code",
        "outputId": "3033c85e-8d14-4749-82c1-fbcd91df3f67",
        "colab": {
          "base_uri": "https://localhost:8080/",
          "height": 34
        }
      },
      "cell_type": "code",
      "source": [
        "Gsample_size=20000#global sample size\n",
        "sample_size=16000#train size\n",
        "#train\n",
        "GDisorders=GDisorders.sample(Gsample_size,random_state=10)\n",
        "GCodes=GCodes[GDisorders.index]\n",
        "len(GCodes)\n"
      ],
      "execution_count": 0,
      "outputs": [
        {
          "output_type": "execute_result",
          "data": {
            "text/plain": [
              "20000"
            ]
          },
          "metadata": {
            "tags": []
          },
          "execution_count": 69
        }
      ]
    },
    {
      "metadata": {
        "id": "Q6osWfA0sJbj",
        "colab_type": "code",
        "outputId": "52bd1a14-a9b2-481c-eb20-e43694c2d8f0",
        "colab": {
          "base_uri": "https://localhost:8080/",
          "height": 34
        }
      },
      "cell_type": "code",
      "source": [
        "Disorders=GDisorders.sample(sample_size,random_state=10)\n",
        "Codes=GCodes[Disorders.index]\n",
        "len(Codes)"
      ],
      "execution_count": 0,
      "outputs": [
        {
          "output_type": "execute_result",
          "data": {
            "text/plain": [
              "16000"
            ]
          },
          "metadata": {
            "tags": []
          },
          "execution_count": 70
        }
      ]
    },
    {
      "metadata": {
        "id": "TpkLwc_xU40H",
        "colab_type": "code",
        "outputId": "3f1b9fc4-c4be-44a5-f046-dd7cc165ef87",
        "colab": {
          "base_uri": "https://localhost:8080/",
          "height": 34
        }
      },
      "cell_type": "code",
      "source": [
        "#test set\n",
        "#tsample_size=4000\n",
        "#testDisorders=df_disorders['Disorder']\n",
        "testDisorders=GDisorders.drop(Disorders.index)\n",
        "#testDisorders=testDisorders.sample(tsample_size,random_state=10)\n",
        "#testCodes=df_disorders['Code']\n",
        "testCodes=GCodes[testDisorders.index]\n",
        "len(testCodes)"
      ],
      "execution_count": 0,
      "outputs": [
        {
          "output_type": "execute_result",
          "data": {
            "text/plain": [
              "4000"
            ]
          },
          "metadata": {
            "tags": []
          },
          "execution_count": 112
        }
      ]
    },
    {
      "metadata": {
        "id": "j0ndGcvTjrDo",
        "colab_type": "code",
        "outputId": "f1b4e6af-71bc-48bb-a9ca-3a463ca5282e",
        "colab": {
          "base_uri": "https://localhost:8080/",
          "height": 119
        }
      },
      "cell_type": "code",
      "source": [
        "print(Disorders.index)"
      ],
      "execution_count": 0,
      "outputs": [
        {
          "output_type": "stream",
          "text": [
            "Int64Index([244939, 428856, 329881, 494410, 543603, 350144, 323567,  78847,\n",
            "            495420, 178560,\n",
            "            ...\n",
            "            227877, 565009, 186306, 191936,  88999, 569797, 572940, 587735,\n",
            "            382323, 422008],\n",
            "           dtype='int64', length=16000)\n"
          ],
          "name": "stdout"
        }
      ]
    },
    {
      "metadata": {
        "id": "xzGtyWctn2Ub",
        "colab_type": "code",
        "outputId": "2ba25ce1-328d-45a6-c557-1641d4dd97fc",
        "colab": {
          "base_uri": "https://localhost:8080/",
          "height": 221
        }
      },
      "cell_type": "code",
      "source": [
        "for i,j in enumerate(zip(Codes,Disorders)):\n",
        "  print(j)\n",
        "  if(i>10):break"
      ],
      "execution_count": 0,
      "outputs": [
        {
          "output_type": "stream",
          "text": [
            "('C0341679', 'tubular; disease, phosphate-losing')\n",
            "('C2855139', 'lacerat flexor musc/fasc/tend unsp fngr at wrs/hnd lv, subs')\n",
            "('C0007760', 'cerebellar diseases [disease/finding]')\n",
            "('C0161400', 'injury to optic pathways')\n",
            "('C2892151', 'unsp pedl cyclst injured in collision w hv veh nontraf, subs')\n",
            "('C2831884', 'penetrating wound w/o foreign body of unsp eyeball, init')\n",
            "('C1865882', 'arrhythmogenic right ventricular cardiomyopathy 3')\n",
            "('C0151977', 'intestine small ulcer')\n",
            "('C0417623', 'accident caused by gases evolved in volcanic eruption')\n",
            "('C1404510', 'myocarditis; typhus')\n",
            "('C2834800', 'open bite of unspecified breast, initial encounter')\n",
            "('C0413711', 'acetaminophen adverse reaction')\n"
          ],
          "name": "stdout"
        }
      ]
    },
    {
      "metadata": {
        "id": "lWLAr6605lU4",
        "colab_type": "code",
        "outputId": "135e3cc5-6782-4721-ce58-aff28c97cdf4",
        "colab": {
          "base_uri": "https://localhost:8080/",
          "height": 221
        }
      },
      "cell_type": "code",
      "source": [
        "for i,j in enumerate(zip(testCodes,testDisorders)):\n",
        "  print(j)\n",
        "  if(i>10):break"
      ],
      "execution_count": 0,
      "outputs": [
        {
          "output_type": "stream",
          "text": [
            "('C2118738', 'self-inflicted overdose of anterior pituitary hormones')\n",
            "('C2892793', 'driver of three-wheeled motor vehicle injured in collision with car, pick-up truck or van in nontraffic accident, sequela')\n",
            "('C0423351', 'lens; calcification')\n",
            "('C2977177', 'fall from motorized mobility scooter, sequela')\n",
            "('C3829363', 'kras gln61xxx')\n",
            "('C1389440', 'abscess; pelvic, female, molar pregnancy')\n",
            "('C0751847', 'middle cerebral artery embolic infarct')\n",
            "('C2203991', 'toxicity from propionic acid derivatives due to a self-inflicted overdose')\n",
            "('C2851623', 'disp fx of neck of fifth mc bone, left hand, init for opn fx')\n",
            "('C0151772', 'reaction manic')\n",
            "('C3507105', 'injury of lumbar spinal cord at l5 level with complete lesion of cord')\n",
            "('C0333400', 'chronic gangrenous inflammation, nos')\n"
          ],
          "name": "stdout"
        }
      ]
    },
    {
      "metadata": {
        "id": "u9sFnrt7gpvA",
        "colab_type": "code",
        "colab": {}
      },
      "cell_type": "code",
      "source": [
        "def removed_elements_generator(input_list):\n",
        "    \"\"\"This function creates an id generator of the empty tokenized elements\"\"\"\n",
        "    \n",
        "    logging.info(\"reading file {0}...this may take a while\".format(input_list))\n",
        "    \n",
        "    for i, line in enumerate (input_list): \n",
        "        if (i%10000==0):\n",
        "            logging.info (\"read {0} reviews\".format (i))\n",
        "        # do some pre-processing and return a list of words for each review text\n",
        "        line_process=remove_stopwords(line)\n",
        "        line_process=gensim.utils.simple_preprocess(line_process,min_len=3,max_len=30)\n",
        "        if not line_process:\n",
        "          print(line_process,\"before preprocess-\",i,\":\",line)\n",
        "          RemovedElements.append(i)\n",
        "          #line_process=line.split()\n",
        "          yield i\n",
        "\n",
        "def input_tokenize(input_list,RemovedElements):\n",
        "    \"\"\"This creates a generator of the tokenized elements \"\"\"\n",
        "    \n",
        "    logging.info(\"reading file {0}...this may take a while\".format(input_list))\n",
        "    \n",
        "    for i, line in enumerate (input_list): \n",
        "        if (i%10000==0):\n",
        "            logging.info (\"read {0} reviews\".format (i))\n",
        "        # do some pre-processing and return a list of words for each review text\n",
        "        line_process=remove_stopwords(line)\n",
        "        line_process=gensim.utils.simple_preprocess(line_process,min_len=3,max_len=30)\n",
        "        if not line_process:\n",
        "          print(line_process,\"before preprocess-\",i,\":\",line)\n",
        "          RemovedElements.append(i)\n",
        "          #line_process=line.split()\n",
        "        else:    \n",
        "          yield line_process"
      ],
      "execution_count": 0,
      "outputs": []
    },
    {
      "metadata": {
        "id": "r6Y6zDGugrL1",
        "colab_type": "code",
        "colab": {}
      },
      "cell_type": "code",
      "source": [
        "logging.info (\"Tokenization\")\n",
        "RemovedElements=[]\n",
        "Disorders_corpus=(input_tokenize(Disorders,RemovedElements))\n",
        "#GenDisorders_corpus=(input_tokenize(GenDisorders))\n",
        "logging.info (\"End of Tokenization\")"
      ],
      "execution_count": 0,
      "outputs": []
    },
    {
      "metadata": {
        "id": "WbHl8p65n2Nd",
        "colab_type": "code",
        "outputId": "70481dde-0ae3-4853-f4c4-5fdcee556065",
        "colab": {
          "base_uri": "https://localhost:8080/",
          "height": 357
        }
      },
      "cell_type": "code",
      "source": [
        "for i,s in enumerate(Disorders_corpus):\n",
        "  #print(s)\n",
        "  k=1\n",
        "  #if i >:break\n",
        "    \n",
        "print(RemovedElements)"
      ],
      "execution_count": 0,
      "outputs": [
        {
          "output_type": "stream",
          "text": [
            "[] before preprocess- 557 : mc5dm2\n",
            "[] before preprocess- 2634 : ea4\n",
            "[] before preprocess- 4086 : rp73\n",
            "[] before preprocess- 4708 : t(2;17)(p23;q35)\n",
            "[] before preprocess- 6676 : cd332 c.1645a>c\n",
            "[] before preprocess- 7283 : oi14\n",
            "[] before preprocess- 8917 : hs5\n",
            "[] before preprocess- 10456 : dn\n",
            "[] before preprocess- 12247 : rp15\n",
            "[] before preprocess- 12580 : ad18\n",
            "[] before preprocess- 12720 : ad5\n",
            "[] before preprocess- 13014 : cd332 c.1144t>c\n",
            "[] before preprocess- 13351 : t(17;21)(q11;q22)\n",
            "[] before preprocess- 13516 : as\n",
            "[] before preprocess- 13768 : fire in mine\n",
            "[] before preprocess- 14060 : ml i\n",
            "[] before preprocess- 15851 : ts\n",
            "[] before preprocess- 15897 : oi9\n",
            "[] before preprocess- 15934 : rp13\n",
            "[557, 2634, 4086, 4708, 6676, 7283, 8917, 10456, 12247, 12580, 12720, 13014, 13351, 13516, 13768, 14060, 15851, 15897, 15934]\n"
          ],
          "name": "stdout"
        }
      ]
    },
    {
      "metadata": {
        "id": "xkGxL6dLugLC",
        "colab_type": "code",
        "colab": {}
      },
      "cell_type": "code",
      "source": [
        "model_dir=google_drive+\"Disorders\"\n",
        "model=Word2Vec.load(model_dir)\n"
      ],
      "execution_count": 0,
      "outputs": []
    },
    {
      "metadata": {
        "id": "pGMzWPS0egKe",
        "colab_type": "code",
        "colab": {}
      },
      "cell_type": "code",
      "source": [
        "def getsentence_matrix(sentence,gensim_model,nrows=30):\n",
        "  #print(\"sent:\",sentence)\n",
        "  sentence_matrix=[gensim_model.wv.get_vector(token) for token in sentence]\n",
        " \n",
        "  sentence_matrix=np.matrix(sentence_matrix)\n",
        "#  print(\"Before padding:\")\n",
        "#  pprint(sentence_matrix.T[:2,:])\n",
        "  #print(\"size before padding:\",nrows-sentence_matrix.shape[0])\n",
        "  if(nrows-sentence_matrix.shape[0]<0 or sentence_matrix.shape[1]<=0):\n",
        "    print(\"Sentence:\",sentence)\n",
        "    print(\"MatrixShape:\",sentence_matrix.shape)\n",
        "    print(sentence_matrix)\n",
        "  sentence_matrix=np.lib.pad(sentence_matrix,((0,max(0,nrows-sentence_matrix.shape[0])),(0,0)), 'constant', constant_values=(0))\n",
        "  #sentence_matrix=np.delete(sentence_matrix,np.s_[::2],axis=0)\n",
        "  #sentence_matrix=np.delete(sentence_matrix,np.s_[::2],axis=1)\n",
        "  #sentence_matrix=np.delete(sentence_matrix,np.s_[::2],axis=0)\n",
        "  #sentence_matrix=np.delete(sentence_matrix,np.s_[::2],axis=1)\n",
        "  #sentence_matrix=np.delete(sentence_matrix,np.s_[::2],axis=0)\n",
        "  #sentence_matrix=np.delete(sentence_matrix,np.s_[::2],axis=1)\n",
        "  \n",
        "  #sentence_matrix=np.delete(sentence_matrix,np.s_[::2],axis=1)\n",
        "  #sentence_matrix=np.delete(sentence_matrix,np.s_[::2],axis=1)\n",
        "  #sentence_matrix=np.delete(sentence_matrix,np.s_[::2],axis=1)\n",
        "#  print(\"After padding:\")\n",
        "#  pprint(sentence_matrix.T[:2,:])\n",
        "  #print(\"shape=\",sentence_matrix.shape)\n",
        "  return sentence_matrix#.T"
      ],
      "execution_count": 0,
      "outputs": []
    },
    {
      "metadata": {
        "id": "ASG8Vr4hu5Al",
        "colab_type": "code",
        "colab": {}
      },
      "cell_type": "code",
      "source": [
        "def get_termes_matrices(Corpus,model):\n",
        "  \n",
        "#  pprint(Corpus)\n",
        "  matrix_list=[]\n",
        "  IndexOfEmptyElem=[]\n",
        "  nrows=30\n",
        "  empty=True\n",
        "  for i,sentence in enumerate(Corpus):\n",
        "    if not(not sentence):\n",
        "      if empty==True:\n",
        "        matrix_list=np.array([getsentence_matrix(sentence,model,nrows=30)])\n",
        "        empty=False\n",
        "        #print(matrix_list[0].shape)\n",
        "      else:\n",
        "        #print(i,\":\",getsentence_matrix(sentence,model).shape)\n",
        "        matrix_list=np.append(matrix_list,[getsentence_matrix(sentence,model,nrows=30)],axis=0)\n",
        "      #print(\"i:\",i)#,matrix_list)\n",
        "      if(i%1000==0):\n",
        "        print(\"i:\",i)\n",
        "       # break\n",
        "    else:\n",
        "      print(\"Empty element's index:\",i)\n",
        "      IndexOfEmptyElem.append(i)\n",
        "      #print(np.zeros((5,5)))\n",
        "      matrix_list=np.append(matrix_list,[np.zeros((nrows,model.wv.vector_size))],axis=0)\n",
        "  print(\"length:\",len(matrix_list))\n",
        "  print(\"shape=\",matrix_list.shape)\n",
        "  #print(matrix_list)\n",
        "  return matrix_list,IndexOfEmptyElem\n"
      ],
      "execution_count": 0,
      "outputs": []
    },
    {
      "metadata": {
        "id": "TDMB-E3BwIyp",
        "colab_type": "code",
        "colab": {}
      },
      "cell_type": "code",
      "source": [
        "RemovedElements=[]\n",
        "Disorders_corpus=(input_tokenize(Disorders,RemovedElements))\n",
        "testRemovedElements=[]\n",
        "testDisorders_corpus=(input_tokenize(testDisorders,testRemovedElements))"
      ],
      "execution_count": 0,
      "outputs": []
    },
    {
      "metadata": {
        "id": "9hUvL7rBUROB",
        "colab_type": "code",
        "colab": {}
      },
      "cell_type": "code",
      "source": [
        "RemovedElementsIter=removed_elements_generator(Disorders)\n",
        "testRemovedElementsIter=removed_elements_generator(testDisorders)"
      ],
      "execution_count": 0,
      "outputs": []
    },
    {
      "metadata": {
        "id": "AgRpNvJJXlLT",
        "colab_type": "code",
        "colab": {}
      },
      "cell_type": "code",
      "source": [
        "print(list(RemovedElementsIter))\n",
        "print(\"Test\")\n",
        "print(list(testRemovedElementsIter))"
      ],
      "execution_count": 0,
      "outputs": []
    },
    {
      "metadata": {
        "id": "i7p2psJ8GJRY",
        "colab_type": "code",
        "cellView": "code",
        "colab": {}
      },
      "cell_type": "code",
      "source": [
        "RemovedElements=[]\n",
        "Disorders_corpus=(input_tokenize(Disorders,RemovedElements))\n",
        "testRemovedElements=[]\n",
        "testDisorders_corpus=(input_tokenize(testDisorders,testRemovedElements))\n"
      ],
      "execution_count": 0,
      "outputs": []
    },
    {
      "metadata": {
        "id": "kceXLofHXLXZ",
        "colab_type": "code",
        "outputId": "1736e9fc-1e08-470b-e812-0ef99ee98efc",
        "colab": {
          "base_uri": "https://localhost:8080/",
          "height": 646
        }
      },
      "cell_type": "code",
      "source": [
        "MatrixList,empty=get_termes_matrices(Disorders_corpus,model)"
      ],
      "execution_count": 0,
      "outputs": [
        {
          "output_type": "stream",
          "text": [
            "i: 0\n",
            "[] before preprocess- 557 : mc5dm2\n",
            "i: 1000\n",
            "i: 2000\n",
            "[] before preprocess- 2634 : ea4\n",
            "i: 3000\n",
            "i: 4000\n",
            "[] before preprocess- 4086 : rp73\n",
            "[] before preprocess- 4708 : t(2;17)(p23;q35)\n",
            "i: 5000\n",
            "i: 6000\n",
            "[] before preprocess- 6676 : cd332 c.1645a>c\n",
            "i: 7000\n",
            "[] before preprocess- 7283 : oi14\n",
            "i: 8000\n",
            "[] before preprocess- 8917 : hs5\n",
            "i: 9000\n",
            "i: 10000\n",
            "[] before preprocess- 10456 : dn\n",
            "i: 11000\n",
            "i: 12000\n",
            "[] before preprocess- 12247 : rp15\n",
            "[] before preprocess- 12580 : ad18\n",
            "[] before preprocess- 12720 : ad5\n",
            "i: 13000\n",
            "[] before preprocess- 13014 : cd332 c.1144t>c\n",
            "[] before preprocess- 13351 : t(17;21)(q11;q22)\n",
            "[] before preprocess- 13516 : as\n",
            "[] before preprocess- 13768 : fire in mine\n",
            "i: 14000\n",
            "[] before preprocess- 14060 : ml i\n",
            "i: 15000\n",
            "[] before preprocess- 15851 : ts\n",
            "[] before preprocess- 15897 : oi9\n",
            "[] before preprocess- 15934 : rp13\n",
            "length: 15981\n",
            "shape= (15981, 30, 300)\n"
          ],
          "name": "stdout"
        }
      ]
    },
    {
      "metadata": {
        "id": "bvfxZMquMf62",
        "colab_type": "code",
        "outputId": "9f7fd412-70fd-43a0-9f46-2be35c6efe35",
        "colab": {
          "base_uri": "https://localhost:8080/",
          "height": 289
        }
      },
      "cell_type": "code",
      "source": [
        "print(\"test sample\")\n",
        "testMatrixList,testempty=get_termes_matrices(testDisorders_corpus,model)"
      ],
      "execution_count": 0,
      "outputs": [
        {
          "output_type": "stream",
          "text": [
            "test sample\n",
            "i: 0\n",
            "[] before preprocess- 230 : t(17;22)(q22;q13)\n",
            "[] before preprocess- 232 : rp69\n",
            "i: 1000\n",
            "[] before preprocess- 1730 : t2d\n",
            "[] before preprocess- 1836 : k20r\n",
            "i: 2000\n",
            "[] before preprocess- 2974 : md1\n",
            "i: 3000\n",
            "[] before preprocess- 3354 : f2 20210g-a\n",
            "[] before preprocess- 3567 : t(7;10)(q34;q24)\n",
            "[] before preprocess- 3949 : a2md\n",
            "[] before preprocess- 3993 : pc2\n",
            "length: 3991\n",
            "shape= (3991, 30, 300)\n"
          ],
          "name": "stdout"
        }
      ]
    },
    {
      "metadata": {
        "id": "3iIdVDfTf-Op",
        "colab_type": "code",
        "colab": {}
      },
      "cell_type": "code",
      "source": [
        "def remove_element_byIndex(panda_dataset,listOfIndexes):\n",
        "  Indexes=[]\n",
        "  for elem in listOfIndexes:\n",
        "    Indexes.append(panda_dataset[elem:elem+1].index[0])\n",
        "  \n",
        "  print(Indexes)\n",
        "  return panda_dataset.drop(Indexes)"
      ],
      "execution_count": 0,
      "outputs": []
    },
    {
      "metadata": {
        "id": "uqVt0PK8N_JF",
        "colab_type": "code",
        "outputId": "1b5ae30e-7a74-4b10-b6e0-069993759eea",
        "colab": {
          "base_uri": "https://localhost:8080/",
          "height": 207
        }
      },
      "cell_type": "code",
      "source": [
        "\n",
        "\n",
        "print(Codes.reindex([219126, 267602]))\n",
        "#print(Disorders[RemovedElements[0]:RemovedElements[0]+1])\n",
        "print(Codes[RemovedElements[0]:RemovedElements[0]+1])\n",
        "#print(Disorders[RemovedElements[1]:RemovedElements[1]+1])\n",
        "#po=pd.Int64Index([], dtype='int64')\n",
        "#po.append(224267)\n",
        "\n",
        "print(\"Before drop:\",len(Codes))\n",
        "Codes2=remove_element_byIndex(Codes,RemovedElements)\n",
        "print(\"After drop:\",len(Codes2))\n",
        "print(testempty)\n",
        "print(\"after drop\")"
      ],
      "execution_count": 0,
      "outputs": [
        {
          "output_type": "stream",
          "text": [
            "219126    C3810041\n",
            "267602    C2675192\n",
            "Name: Code, dtype: object\n",
            "224267    C3275685\n",
            "Name: Code, dtype: object\n",
            "Before drop: 16000\n",
            "[224267, 110224, 151841, 30167, 24110, 304425, 267602, 315505, 231113, 219126, 314043, 26207, 23305, 285892, 381658, 124679, 323019, 125081, 244552]\n",
            "After drop: 15981\n",
            "[]\n",
            "after drop\n"
          ],
          "name": "stdout"
        }
      ]
    },
    {
      "metadata": {
        "id": "nb7SqX7eisgt",
        "colab_type": "code",
        "outputId": "8bcec6db-d96f-4dc9-b113-cacd1f4dd373",
        "colab": {
          "base_uri": "https://localhost:8080/",
          "height": 68
        }
      },
      "cell_type": "code",
      "source": [
        "print(\"Before drop:\",len(testCodes))\n",
        "testCodes2=remove_element_byIndex(testCodes,testRemovedElements)\n",
        "print(\"After drop:\",len(testCodes2))"
      ],
      "execution_count": 0,
      "outputs": [
        {
          "output_type": "stream",
          "text": [
            "Before drop: 4000\n",
            "[26735, 284050, 67531, 29851, 563840, 23240, 31064, 216601, 298433]\n",
            "After drop: 3991\n"
          ],
          "name": "stdout"
        }
      ]
    },
    {
      "metadata": {
        "id": "Be-_w8_Nvn_S",
        "colab_type": "code",
        "outputId": "2832e29f-3608-49da-b490-5a4b3dfb428d",
        "colab": {
          "base_uri": "https://localhost:8080/",
          "height": 85
        }
      },
      "cell_type": "code",
      "source": [
        "print(\"Before drop:\",len(GCodes))\n",
        "GCodes2=GCodes.drop(Codes2.index)\n",
        "print(\"After drop:\",len(GCodes2))\n",
        "GCodes2=GCodes2.drop(testCodes2.index)\n",
        "print(\"After drop:\",len(GCodes2))\n",
        "GCodes2=GCodes.drop(GCodes2.index)\n",
        "print(\"After Final Global drop:\",len(GCodes2))\n"
      ],
      "execution_count": 0,
      "outputs": [
        {
          "output_type": "stream",
          "text": [
            "Before drop: 20000\n",
            "After drop: 4019\n",
            "After drop: 28\n",
            "After Final Global drop: 19972\n"
          ],
          "name": "stdout"
        }
      ]
    },
    {
      "metadata": {
        "id": "ktF4WxRmwnKq",
        "colab_type": "code",
        "colab": {}
      },
      "cell_type": "code",
      "source": [
        "def get_code_classes(Codes,gensim_model):\n",
        "  unique_Codes=list(set(Codes))\n",
        "  nb_classes=len(unique_Codes)\n",
        "  print(\"number of codes:\",nb_classes)\n",
        "  Code_vectors=[gensim_model.wv.get_vector(token) for token in Codes]\n",
        "  Code_dict=dict(zip(Codes,Code_vectors))\n",
        "  #inv_Code_dict=dict(zip(Code_vectors,Codes))\n",
        "  #print(Code_vectors[0][0:5])\n",
        "  #print(\"'C0009021'\",Code_dict['C0009021'][0:5])\n",
        "  return nb_classes,Code_vectors,Code_dict"
      ],
      "execution_count": 0,
      "outputs": []
    },
    {
      "metadata": {
        "id": "u29aDrbXxdMC",
        "colab_type": "code",
        "outputId": "6a469252-c6d4-483c-8c34-5ec4a0d05e73",
        "colab": {
          "base_uri": "https://localhost:8080/",
          "height": 34
        }
      },
      "cell_type": "code",
      "source": [
        "nb_classes,Code_vectors,Code_dict=get_code_classes(Codes2,model)"
      ],
      "execution_count": 0,
      "outputs": [
        {
          "output_type": "stream",
          "text": [
            "number of codes: 14912\n"
          ],
          "name": "stdout"
        }
      ]
    },
    {
      "metadata": {
        "id": "HyM7h_vpA_Ka",
        "colab_type": "code",
        "outputId": "8e862cef-b153-448b-ab61-c502123614be",
        "colab": {
          "base_uri": "https://localhost:8080/",
          "height": 68
        }
      },
      "cell_type": "code",
      "source": [
        "print(Codes[222160])\n",
        "print(\"Dict:\",Code_dict[\"C0275585\"][0:5])\n",
        "print(\"Vect:\",Code_vectors[0][0:5])"
      ],
      "execution_count": 0,
      "outputs": [
        {
          "output_type": "stream",
          "text": [
            "C0275585\n",
            "Dict: [-0.08187973 -0.05139588 -0.13897417 -0.08761195 -0.03717935]\n",
            "Vect: [-0.028957    0.01374186  0.1307545   0.02424315  0.04272182]\n"
          ],
          "name": "stdout"
        }
      ]
    },
    {
      "metadata": {
        "id": "q3S51Zx3ELso",
        "colab_type": "code",
        "outputId": "7bb94b29-83de-4a82-f19e-2bf7d19100c4",
        "colab": {
          "base_uri": "https://localhost:8080/",
          "height": 34
        }
      },
      "cell_type": "code",
      "source": [
        "#testnb_classes,testCode_vectors,testCode_dict=get_code_classes(testCodes2,model)\n",
        "\n",
        "Num_classes,GCode_vectors,GCode_dict=get_code_classes(GCodes2,model)"
      ],
      "execution_count": 0,
      "outputs": [
        {
          "output_type": "stream",
          "text": [
            "number of codes: 18372\n"
          ],
          "name": "stdout"
        }
      ]
    },
    {
      "metadata": {
        "id": "EWszuJLwjOd2",
        "colab_type": "code",
        "colab": {}
      },
      "cell_type": "code",
      "source": [
        "frames = [Codes2,testCodes2]\n",
        "result = pd.concat(frames)\n",
        "\n",
        "print(len(((result))))\n",
        "\n",
        "print( len( result[Codes2.index] ) )\n",
        "print(result[0:len(Codes2)+1])"
      ],
      "execution_count": 0,
      "outputs": []
    },
    {
      "metadata": {
        "id": "Ven1_2pfucqz",
        "colab_type": "code",
        "colab": {}
      },
      "cell_type": "code",
      "source": [
        "print(result)"
      ],
      "execution_count": 0,
      "outputs": []
    },
    {
      "metadata": {
        "id": "rLSvN9133bES",
        "colab_type": "code",
        "outputId": "87abe89f-5052-4dcb-8d41-24607cd548f5",
        "colab": {
          "base_uri": "https://localhost:8080/",
          "height": 51
        }
      },
      "cell_type": "code",
      "source": [
        "batch_size = 128\n",
        "num_classes = nb_classes\n",
        "epochs = 10\n",
        "\n",
        "# input dimensions\n",
        "size_x, size_y = MatrixList[0].shape\n",
        "keras_model = Sequential()\n",
        "print(type(np.array(MatrixList)))\n",
        "\n",
        "# load the MNIST data set, which already splits into train and test sets for us\n",
        "x_train, y_train = np.array(MatrixList),np.array(Codes2)\n",
        "x_test, y_test = np.array(testMatrixList),np.array(testCodes2)\n",
        "print(type(x_train[0]))"
      ],
      "execution_count": 0,
      "outputs": [
        {
          "output_type": "stream",
          "text": [
            "<class 'numpy.ndarray'>\n",
            "<class 'numpy.ndarray'>\n"
          ],
          "name": "stdout"
        }
      ]
    },
    {
      "metadata": {
        "id": "DJ4ty4IOKQjz",
        "colab_type": "code",
        "outputId": "4b9ed4aa-25d6-4b81-bde9-bc22b507531a",
        "colab": {
          "base_uri": "https://localhost:8080/",
          "height": 85
        }
      },
      "cell_type": "code",
      "source": [
        "print((x_train.shape))\n",
        "print((x_test.shape))\n",
        "print((y_train.shape))\n",
        "print((y_test.shape))"
      ],
      "execution_count": 0,
      "outputs": [
        {
          "output_type": "stream",
          "text": [
            "(15981, 30, 300)\n",
            "(3991, 30, 300)\n",
            "(15981,)\n",
            "(3991,)\n"
          ],
          "name": "stdout"
        }
      ]
    },
    {
      "metadata": {
        "id": "8zoSkAQsQn_s",
        "colab_type": "code",
        "colab": {}
      },
      "cell_type": "code",
      "source": [
        "# reshape the data into a 4D tensor - (sample_number, x_size, y_size, num_channels)\n",
        "# we only have a single channel\n",
        "x_train = x_train.reshape(x_train.shape[0], size_x, size_y, 1)\n",
        "x_test = x_test.reshape(x_test.shape[0], size_x, size_y, 1)\n",
        "input_shape = (size_x, size_y, 1)"
      ],
      "execution_count": 0,
      "outputs": []
    },
    {
      "metadata": {
        "id": "fujynUUOkGIH",
        "colab_type": "code",
        "outputId": "90ead5c6-ea32-4b36-95be-eac79dca33f4",
        "colab": {
          "base_uri": "https://localhost:8080/",
          "height": 68
        }
      },
      "cell_type": "code",
      "source": [
        "# convert the data to the right type\n",
        "x_train = x_train.astype('float32')\n",
        "x_test = x_test.astype('float32')\n",
        "print('x_train shape:', x_train.shape)\n",
        "print(x_train.shape[0], 'train samples')\n",
        "print(x_test.shape[0], 'test samples')"
      ],
      "execution_count": 0,
      "outputs": [
        {
          "output_type": "stream",
          "text": [
            "x_train shape: (15981, 30, 300, 1)\n",
            "15981 train samples\n",
            "3991 test samples\n"
          ],
          "name": "stdout"
        }
      ]
    },
    {
      "metadata": {
        "id": "JyWjvxA1q5wy",
        "colab_type": "code",
        "colab": {}
      },
      "cell_type": "code",
      "source": [
        "# convert class vectors to binary class matrices - this is for use in the\n",
        "# categorical_crossentropy loss below\n",
        "#y_train = y_train.reshape(y_train.shape[0], 1)#keras.utils.to_categorical(y_train, nb_classes)\n",
        "#y_test = y_test.reshape(y_test.shape[0], 1)#keras.utils.to_categorical(y_test, testnb_classes)\n"
      ],
      "execution_count": 0,
      "outputs": []
    },
    {
      "metadata": {
        "id": "pZ1kpJ7xQOre",
        "colab_type": "code",
        "outputId": "2a968105-b6fa-4fc8-bc79-9bd1d407f553",
        "colab": {
          "base_uri": "https://localhost:8080/",
          "height": 85
        }
      },
      "cell_type": "code",
      "source": [
        "from sklearn.preprocessing import LabelEncoder\n",
        "from keras.utils import np_utils\n",
        "\n",
        "print((y_train.shape))\n",
        "print((y_test.shape))\n",
        "# convert class vectors to binary class matrices - this is for use in the\n",
        "encoder = LabelEncoder()\n",
        "encoder.fit(GCodes2)\n",
        "encoded_Y = encoder.transform(y_train)\n",
        "# convert integers to dummy variables (i.e. one hot encoded)\n",
        "y_train = np_utils.to_categorical(encoded_Y)\n",
        "\n",
        "encoded_Ytest = encoder.transform(y_test)\n",
        "y_test = np_utils.to_categorical(encoded_Ytest)\n",
        "\n",
        "print((y_train.shape))\n",
        "print((y_test.shape))"
      ],
      "execution_count": 0,
      "outputs": [
        {
          "output_type": "stream",
          "text": [
            "(15981,)\n",
            "(3991,)\n",
            "(15981, 18372)\n",
            "(3991, 18371)\n"
          ],
          "name": "stdout"
        }
      ]
    },
    {
      "metadata": {
        "id": "7cd_NqOmpgRZ",
        "colab_type": "code",
        "outputId": "fc0dbd33-2984-4236-cda2-120ba583319e",
        "colab": {
          "base_uri": "https://localhost:8080/",
          "height": 608
        }
      },
      "cell_type": "code",
      "source": [
        "model = Sequential()\n",
        "model.add(Conv2D(32, kernel_size=(5, 5), strides=(1, 1),\n",
        "                 activation='relu',\n",
        "                 input_shape=input_shape))\n",
        "model.add(MaxPooling2D(pool_size=(2, 2), strides=(2, 2)))\n",
        "model.add(Conv2D(64, (5, 5), activation='relu'))\n",
        "model.add(MaxPooling2D(pool_size=(2, 2)))\n",
        "model.add(Flatten())\n",
        "model.add(Dense(1000, activation='relu'))\n",
        "model.add(Dense(num_classes, activation='softmax'))\n",
        "\n",
        "model.compile(loss=keras.losses.categorical_crossentropy,\n",
        "              optimizer=keras.optimizers.Adam(),\n",
        "              metrics=['accuracy'])\n",
        "\n",
        "\n",
        "class AccuracyHistory(keras.callbacks.Callback):\n",
        "    def on_train_begin(self, logs={}):\n",
        "        self.acc = []\n",
        "\n",
        "    def on_epoch_end(self, batch, logs={}):\n",
        "        self.acc.append(logs.get('acc'))\n",
        "\n",
        "history = AccuracyHistory()\n",
        "\n",
        "model.fit(x_train, y_train,\n",
        "          batch_size=batch_size,\n",
        "          epochs=epochs,\n",
        "          verbose=1,\n",
        "          validation_data=(x_test, y_test),\n",
        "          callbacks=[history])\n",
        "score = model.evaluate(x_test, y_test, verbose=0)\n",
        "print('Test loss:', score[0])\n",
        "print('Test accuracy:', score[1])\n",
        "plt.plot(range(1, 11), history.acc)\n",
        "plt.xlabel('Epochs')\n",
        "plt.ylabel('Accuracy')\n",
        "plt.show()"
      ],
      "execution_count": 0,
      "outputs": [
        {
          "output_type": "error",
          "ename": "ValueError",
          "evalue": "ignored",
          "traceback": [
            "\u001b[0;31m---------------------------------------------------------------------------\u001b[0m",
            "\u001b[0;31mValueError\u001b[0m                                Traceback (most recent call last)",
            "\u001b[0;32m<ipython-input-148-2c4557c475ad>\u001b[0m in \u001b[0;36m<module>\u001b[0;34m()\u001b[0m\n\u001b[1;32m     29\u001b[0m           \u001b[0mverbose\u001b[0m\u001b[0;34m=\u001b[0m\u001b[0;36m1\u001b[0m\u001b[0;34m,\u001b[0m\u001b[0;34m\u001b[0m\u001b[0;34m\u001b[0m\u001b[0m\n\u001b[1;32m     30\u001b[0m           \u001b[0mvalidation_data\u001b[0m\u001b[0;34m=\u001b[0m\u001b[0;34m(\u001b[0m\u001b[0mx_test\u001b[0m\u001b[0;34m,\u001b[0m \u001b[0my_test\u001b[0m\u001b[0;34m)\u001b[0m\u001b[0;34m,\u001b[0m\u001b[0;34m\u001b[0m\u001b[0;34m\u001b[0m\u001b[0m\n\u001b[0;32m---> 31\u001b[0;31m           callbacks=[history])\n\u001b[0m\u001b[1;32m     32\u001b[0m \u001b[0mscore\u001b[0m \u001b[0;34m=\u001b[0m \u001b[0mmodel\u001b[0m\u001b[0;34m.\u001b[0m\u001b[0mevaluate\u001b[0m\u001b[0;34m(\u001b[0m\u001b[0mx_test\u001b[0m\u001b[0;34m,\u001b[0m \u001b[0my_test\u001b[0m\u001b[0;34m,\u001b[0m \u001b[0mverbose\u001b[0m\u001b[0;34m=\u001b[0m\u001b[0;36m0\u001b[0m\u001b[0;34m)\u001b[0m\u001b[0;34m\u001b[0m\u001b[0;34m\u001b[0m\u001b[0m\n\u001b[1;32m     33\u001b[0m \u001b[0mprint\u001b[0m\u001b[0;34m(\u001b[0m\u001b[0;34m'Test loss:'\u001b[0m\u001b[0;34m,\u001b[0m \u001b[0mscore\u001b[0m\u001b[0;34m[\u001b[0m\u001b[0;36m0\u001b[0m\u001b[0;34m]\u001b[0m\u001b[0;34m)\u001b[0m\u001b[0;34m\u001b[0m\u001b[0;34m\u001b[0m\u001b[0m\n",
            "\u001b[0;32m/usr/local/lib/python3.6/dist-packages/keras/engine/training.py\u001b[0m in \u001b[0;36mfit\u001b[0;34m(self, x, y, batch_size, epochs, verbose, callbacks, validation_split, validation_data, shuffle, class_weight, sample_weight, initial_epoch, steps_per_epoch, validation_steps, **kwargs)\u001b[0m\n\u001b[1;32m    950\u001b[0m             \u001b[0msample_weight\u001b[0m\u001b[0;34m=\u001b[0m\u001b[0msample_weight\u001b[0m\u001b[0;34m,\u001b[0m\u001b[0;34m\u001b[0m\u001b[0;34m\u001b[0m\u001b[0m\n\u001b[1;32m    951\u001b[0m             \u001b[0mclass_weight\u001b[0m\u001b[0;34m=\u001b[0m\u001b[0mclass_weight\u001b[0m\u001b[0;34m,\u001b[0m\u001b[0;34m\u001b[0m\u001b[0;34m\u001b[0m\u001b[0m\n\u001b[0;32m--> 952\u001b[0;31m             batch_size=batch_size)\n\u001b[0m\u001b[1;32m    953\u001b[0m         \u001b[0;31m# Prepare validation data.\u001b[0m\u001b[0;34m\u001b[0m\u001b[0;34m\u001b[0m\u001b[0;34m\u001b[0m\u001b[0m\n\u001b[1;32m    954\u001b[0m         \u001b[0mdo_validation\u001b[0m \u001b[0;34m=\u001b[0m \u001b[0;32mFalse\u001b[0m\u001b[0;34m\u001b[0m\u001b[0;34m\u001b[0m\u001b[0m\n",
            "\u001b[0;32m/usr/local/lib/python3.6/dist-packages/keras/engine/training.py\u001b[0m in \u001b[0;36m_standardize_user_data\u001b[0;34m(self, x, y, sample_weight, class_weight, check_array_lengths, batch_size)\u001b[0m\n\u001b[1;32m    787\u001b[0m                 \u001b[0mfeed_output_shapes\u001b[0m\u001b[0;34m,\u001b[0m\u001b[0;34m\u001b[0m\u001b[0;34m\u001b[0m\u001b[0m\n\u001b[1;32m    788\u001b[0m                 \u001b[0mcheck_batch_axis\u001b[0m\u001b[0;34m=\u001b[0m\u001b[0;32mFalse\u001b[0m\u001b[0;34m,\u001b[0m  \u001b[0;31m# Don't enforce the batch size.\u001b[0m\u001b[0;34m\u001b[0m\u001b[0;34m\u001b[0m\u001b[0m\n\u001b[0;32m--> 789\u001b[0;31m                 exception_prefix='target')\n\u001b[0m\u001b[1;32m    790\u001b[0m \u001b[0;34m\u001b[0m\u001b[0m\n\u001b[1;32m    791\u001b[0m             \u001b[0;31m# Generate sample-wise weight values given the `sample_weight` and\u001b[0m\u001b[0;34m\u001b[0m\u001b[0;34m\u001b[0m\u001b[0;34m\u001b[0m\u001b[0m\n",
            "\u001b[0;32m/usr/local/lib/python3.6/dist-packages/keras/engine/training_utils.py\u001b[0m in \u001b[0;36mstandardize_input_data\u001b[0;34m(data, names, shapes, check_batch_axis, exception_prefix)\u001b[0m\n\u001b[1;32m    136\u001b[0m                             \u001b[0;34m': expected '\u001b[0m \u001b[0;34m+\u001b[0m \u001b[0mnames\u001b[0m\u001b[0;34m[\u001b[0m\u001b[0mi\u001b[0m\u001b[0;34m]\u001b[0m \u001b[0;34m+\u001b[0m \u001b[0;34m' to have shape '\u001b[0m \u001b[0;34m+\u001b[0m\u001b[0;34m\u001b[0m\u001b[0;34m\u001b[0m\u001b[0m\n\u001b[1;32m    137\u001b[0m                             \u001b[0mstr\u001b[0m\u001b[0;34m(\u001b[0m\u001b[0mshape\u001b[0m\u001b[0;34m)\u001b[0m \u001b[0;34m+\u001b[0m \u001b[0;34m' but got array with shape '\u001b[0m \u001b[0;34m+\u001b[0m\u001b[0;34m\u001b[0m\u001b[0;34m\u001b[0m\u001b[0m\n\u001b[0;32m--> 138\u001b[0;31m                             str(data_shape))\n\u001b[0m\u001b[1;32m    139\u001b[0m     \u001b[0;32mreturn\u001b[0m \u001b[0mdata\u001b[0m\u001b[0;34m\u001b[0m\u001b[0;34m\u001b[0m\u001b[0m\n\u001b[1;32m    140\u001b[0m \u001b[0;34m\u001b[0m\u001b[0m\n",
            "\u001b[0;31mValueError\u001b[0m: Error when checking target: expected dense_2 to have shape (14912,) but got array with shape (18372,)"
          ]
        }
      ]
    }
  ]
}