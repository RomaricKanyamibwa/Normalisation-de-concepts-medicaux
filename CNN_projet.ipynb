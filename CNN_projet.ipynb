{
  "nbformat": 4,
  "nbformat_minor": 0,
  "metadata": {
    "colab": {
      "name": "CNN_projet.ipynb",
      "version": "0.3.2",
      "provenance": [],
      "collapsed_sections": [],
      "include_colab_link": true
    },
    "kernelspec": {
      "name": "python3",
      "display_name": "Python 3"
    }
  },
  "cells": [
    {
      "cell_type": "markdown",
      "metadata": {
        "id": "view-in-github",
        "colab_type": "text"
      },
      "source": [
        "<a href=\"https://colab.research.google.com/github/RomaricKanyamibwa/Normalisation-de-concepts-medicaux/blob/master/CNN_projet.ipynb\" target=\"_parent\"><img src=\"https://colab.research.google.com/assets/colab-badge.svg\" alt=\"Open In Colab\"/></a>"
      ]
    },
    {
      "metadata": {
        "id": "Ak_51v7RzKSF",
        "colab_type": "code",
        "outputId": "2e4a44e7-5fd2-40c9-95a5-1331e2f2612a",
        "colab": {
          "base_uri": "https://localhost:8080/",
          "height": 34
        }
      },
      "cell_type": "code",
      "source": [
        "from __future__ import print_function\n",
        "import keras\n",
        "from keras.datasets import mnist\n",
        "from keras.layers import Dense, Flatten\n",
        "from keras.layers import Conv2D, MaxPooling2D\n",
        "from keras.models import Sequential\n",
        "import matplotlib.pylab as plt\n",
        "import logging\n"
      ],
      "execution_count": 1,
      "outputs": [
        {
          "output_type": "stream",
          "text": [
            "Using TensorFlow backend.\n"
          ],
          "name": "stderr"
        }
      ]
    },
    {
      "metadata": {
        "id": "eRkwdNOQVCD9",
        "colab_type": "code",
        "colab": {}
      },
      "cell_type": "code",
      "source": [
        "!pip3 install --upgrade gensim"
      ],
      "execution_count": 0,
      "outputs": []
    },
    {
      "metadata": {
        "id": "86zeEgZ5lQtt",
        "colab_type": "code",
        "colab": {
          "base_uri": "https://localhost:8080/",
          "height": 224
        },
        "outputId": "435b31d2-7504-40b8-d5e6-8dc107d2ab65"
      },
      "cell_type": "code",
      "source": [
        "!apt-get install -y -qq software-properties-common python-software-properties module-init-tools\n",
        "!add-apt-repository -y ppa:alessandro-strada/ppa 2>&1 > /dev/null\n",
        "!apt-get update -qq 2>&1 > /dev/null\n",
        "!apt-get -y install -qq google-drive-ocamlfuse fuse\n",
        "from google.colab import auth\n",
        "auth.authenticate_user()\n",
        "from oauth2client.client import GoogleCredentials\n",
        "creds = GoogleCredentials.get_application_default()\n",
        "import getpass\n",
        "!google-drive-ocamlfuse -headless -id={creds.client_id} -secret={creds.client_secret} < /dev/null 2>&1 | grep URL\n",
        "vcode = getpass.getpass()\n",
        "!echo {vcode} | google-drive-ocamlfuse -headless -id={creds.client_id} -secret={creds.client_secret}"
      ],
      "execution_count": 4,
      "outputs": [
        {
          "output_type": "stream",
          "text": [
            "E: Package 'python-software-properties' has no installation candidate\n",
            "Selecting previously unselected package google-drive-ocamlfuse.\n",
            "(Reading database ... 110377 files and directories currently installed.)\n",
            "Preparing to unpack .../google-drive-ocamlfuse_0.7.1-0ubuntu3~ubuntu18.04.1_amd64.deb ...\n",
            "Unpacking google-drive-ocamlfuse (0.7.1-0ubuntu3~ubuntu18.04.1) ...\n",
            "Setting up google-drive-ocamlfuse (0.7.1-0ubuntu3~ubuntu18.04.1) ...\n",
            "Processing triggers for man-db (2.8.3-2ubuntu0.1) ...\n",
            "Please, open the following URL in a web browser: https://accounts.google.com/o/oauth2/auth?client_id=32555940559.apps.googleusercontent.com&redirect_uri=urn%3Aietf%3Awg%3Aoauth%3A2.0%3Aoob&scope=https%3A%2F%2Fwww.googleapis.com%2Fauth%2Fdrive&response_type=code&access_type=offline&approval_prompt=force\n",
            "··········\n",
            "Please, open the following URL in a web browser: https://accounts.google.com/o/oauth2/auth?client_id=32555940559.apps.googleusercontent.com&redirect_uri=urn%3Aietf%3Awg%3Aoauth%3A2.0%3Aoob&scope=https%3A%2F%2Fwww.googleapis.com%2Fauth%2Fdrive&response_type=code&access_type=offline&approval_prompt=force\n",
            "Please enter the verification code: Access token retrieved correctly.\n"
          ],
          "name": "stdout"
        }
      ]
    },
    {
      "metadata": {
        "id": "7wmOPwdLVFJc",
        "colab_type": "code",
        "colab": {}
      },
      "cell_type": "code",
      "source": [
        "from gensim.models import Word2Vec\n",
        "import gensim\n",
        "import pandas as pd\n",
        "from gensim.parsing.preprocessing import remove_stopwords\n",
        "import numpy as np"
      ],
      "execution_count": 0,
      "outputs": []
    },
    {
      "metadata": {
        "id": "s2gz4OY7Zf6A",
        "colab_type": "code",
        "colab": {
          "base_uri": "https://localhost:8080/",
          "height": 238
        },
        "outputId": "68859474-56f9-4d9a-fea0-5593cd83c661"
      },
      "cell_type": "code",
      "source": [
        "!mkdir drive\n",
        "!google-drive-ocamlfuse drive\n",
        "!ls drive/Word2VecModels/\n",
        "!ls -l drive/Coolab/"
      ],
      "execution_count": 6,
      "outputs": [
        {
          "output_type": "stream",
          "text": [
            "model_2_LivingBeingsTrainingSet.bin\n",
            "modelLivingBeingsTrainingSet.bin\n",
            "modelPourRomaricLivingBeingsTrainingSet.bin\n",
            "total 818310\n",
            "-rw-r--r-- 1 root root     30397 Dec 14 19:51 CNN_projet.ipynb\n",
            "-rw-r--r-- 1 root root  20688992 Dec 13 20:53 Disorders\n",
            "-rw-r--r-- 1 root root  62187545 Nov 25 22:57 Disorders.csv\n",
            "-rw-r--r-- 1 root root 377493728 Dec 13 20:53 Disorders.trainables.syn1neg.npy\n",
            "-rw-r--r-- 1 root root 377493728 Dec 13 20:53 Disorders.wv.vectors.npy\n",
            "-rw-r--r-- 1 root root      8864 Dec  8 20:50 loadmodel.ipynb\n",
            "drwxr-xr-x 2 root root      4096 Dec  8 17:30 sg-s0200-w08-m004-ns05-s0.001-a0.025-i05\n",
            "-rw-r--r-- 1 root root     17800 Dec 11 10:19 visualize.ipynb\n",
            "-rw-r--r-- 1 root root     21012 Dec 13 22:28 word2vec.ipynb\n"
          ],
          "name": "stdout"
        }
      ]
    },
    {
      "metadata": {
        "id": "o-YG0tZubYfe",
        "colab_type": "code",
        "outputId": "e5e126b1-4238-46f5-df15-948e7442bb38",
        "colab": {
          "base_uri": "https://localhost:8080/",
          "height": 85
        }
      },
      "cell_type": "code",
      "source": [
        "google_drive=\"drive/Coolab/\"\n",
        "df_disorders=pd.read_csv(\"drive/Coolab/Disorders.csv\",names=[\"Code\",\"Disorder\",\"GenDisorder\"],sep=\"\\t\") \n",
        "num_rows=df_disorders.shape[0]\n",
        "\n",
        "#step 2:Clean data\n",
        "count_empty=df_disorders.isnull().sum()\n",
        "count_non_empty=count_empty[count_empty==0]\n",
        "print(count_non_empty)\n",
        "#remove empty rows\n",
        "df_disorders=df_disorders[count_non_empty.keys()]"
      ],
      "execution_count": 44,
      "outputs": [
        {
          "output_type": "stream",
          "text": [
            "Code           0\n",
            "Disorder       0\n",
            "GenDisorder    0\n",
            "dtype: int64\n"
          ],
          "name": "stdout"
        }
      ]
    },
    {
      "metadata": {
        "id": "ieCSyU6ex2de",
        "colab_type": "code",
        "outputId": "015f6ea2-6f71-4c89-8aca-b986be75d3f2",
        "colab": {
          "base_uri": "https://localhost:8080/",
          "height": 51
        }
      },
      "cell_type": "code",
      "source": [
        "Codes=df_disorders['Code']#Y vector (outputs)\n",
        "Disorders=df_disorders['Disorder']#X vector(test)\n",
        "GenDisorders=df_disorders['GenDisorder']#X vector (train)\n",
        "print(len(Disorders))\n",
        "print(len(Codes))"
      ],
      "execution_count": 69,
      "outputs": [
        {
          "output_type": "stream",
          "text": [
            "623509\n",
            "623509\n"
          ],
          "name": "stdout"
        }
      ]
    },
    {
      "metadata": {
        "id": "bhyAgbxXmxCy",
        "colab_type": "code",
        "colab": {}
      },
      "cell_type": "code",
      "source": [
        "sample_size=15000#Disorders.size//10\n",
        "#train\n",
        "Disorders=Disorders.sample(sample_size,random_state=10)\n",
        "Codes=Codes[Disorders.index]\n"
      ],
      "execution_count": 0,
      "outputs": []
    },
    {
      "metadata": {
        "id": "TpkLwc_xU40H",
        "colab_type": "code",
        "colab": {
          "base_uri": "https://localhost:8080/",
          "height": 34
        },
        "outputId": "7b5e9505-dca6-4bde-b4ab-e3a17c575c7a"
      },
      "cell_type": "code",
      "source": [
        "#test set\n",
        "tsample_size=sample_size//5\n",
        "testDisorders=df_disorders['Disorder']\n",
        "testDisorders=testDisorders.drop(Disorders.index)\n",
        "testDisorders=testDisorders.sample(tsample_size,random_state=10)\n",
        "testCodes=df_disorders['Code']\n",
        "testCodes=testCodes[testDisorders.index]\n",
        "len(testCodes)"
      ],
      "execution_count": 71,
      "outputs": [
        {
          "output_type": "execute_result",
          "data": {
            "text/plain": [
              "3000"
            ]
          },
          "metadata": {
            "tags": []
          },
          "execution_count": 71
        }
      ]
    },
    {
      "metadata": {
        "id": "j0ndGcvTjrDo",
        "colab_type": "code",
        "outputId": "2570a1dc-90b1-4bc5-94e7-5a9d67651cf0",
        "colab": {
          "base_uri": "https://localhost:8080/",
          "height": 119
        }
      },
      "cell_type": "code",
      "source": [
        "print(Disorders.index)"
      ],
      "execution_count": 48,
      "outputs": [
        {
          "output_type": "stream",
          "text": [
            "Int64Index([222160,  56824, 426769, 154154, 173255, 125527, 183515, 548570,\n",
            "            552073, 249167,\n",
            "            ...\n",
            "            515022,  72110, 344502,  74068, 271092, 161909, 552885, 470888,\n",
            "            304302, 451694],\n",
            "           dtype='int64', length=15000)\n"
          ],
          "name": "stdout"
        }
      ]
    },
    {
      "metadata": {
        "id": "xzGtyWctn2Ub",
        "colab_type": "code",
        "outputId": "4990c242-16c6-418b-f7e1-062c9574f4d1",
        "colab": {
          "base_uri": "https://localhost:8080/",
          "height": 221
        }
      },
      "cell_type": "code",
      "source": [
        "for i,j in enumerate(zip(Codes,Disorders)):\n",
        "  print(j)\n",
        "  if(i>10):break"
      ],
      "execution_count": 49,
      "outputs": [
        {
          "output_type": "stream",
          "text": [
            "('C0423346', 'morax-axenfeld; conjunctivitis')\n",
            "('C4510595', 'malposition; congenital, clavicle')\n",
            "('C1394389', 'self-inflicted overdose of anterior pituitary hormones')\n",
            "('C1394389', 'headache syndrome, hypnic')\n",
            "('C1394389', 'gonococcal septicaemia affecting skin')\n",
            "('C1394389', 'disease (or disorder); pulmonary, vessels')\n",
            "('C1394389', 'cryptococcus neoformans; infection')\n",
            "('C1394389', 'abuse aged')\n",
            "('C0520729', 'other natural environment type phobia')\n",
            "('C0332603', 'acute haematogenous osteomyelitis, multiple sites')\n",
            "('C0333292', 'cellulitis of right thumb')\n",
            "('C0333292', 'driver of three-wheeled motor vehicle injured in collision with car, pick-up truck or van in nontraffic accident, sequela')\n"
          ],
          "name": "stdout"
        }
      ]
    },
    {
      "metadata": {
        "id": "lWLAr6605lU4",
        "colab_type": "code",
        "outputId": "430e917a-ebcc-49ea-ea93-2f2d7d5f648e",
        "colab": {
          "base_uri": "https://localhost:8080/",
          "height": 221
        }
      },
      "cell_type": "code",
      "source": [
        "for i,j in enumerate(zip(testCodes,testDisorders)):\n",
        "  print(j)\n",
        "  if(i>10):break"
      ],
      "execution_count": 50,
      "outputs": [
        {
          "output_type": "stream",
          "text": [
            "('C0553642', 'nonarticular rheumatism')\n",
            "('C2841666', 'nondisp fx of lateral epicondyl of l humer, 7thg')\n",
            "('C4024440', 'fragmentation of end part of the middle bone of the middle finger')\n",
            "('C0475604', 'tracheobronchial hemorrhage origin in the perinatal period')\n",
            "('C0349318', 'unspecified mental retardation with the statement of no, or minimal, impairment of behavior')\n",
            "('C2903289', 'oophoritis following (induced) termination of pregnancy')\n",
            "('C2867100', 'nondisplaced fracture of anterior process of left calcaneus, subsequent encounter for fracture with nonunion')\n",
            "('C0232066', 'induced apnea')\n",
            "('C2883613', 'poisoning by electrolytic, caloric and water-balance agents, assault')\n",
            "('C2103537', 'trauma of left eye')\n",
            "('C0375046', 'pl cocidioidomycosis nos')\n",
            "('C2904131', 'walked into furniture')\n"
          ],
          "name": "stdout"
        }
      ]
    },
    {
      "metadata": {
        "id": "u9sFnrt7gpvA",
        "colab_type": "code",
        "colab": {}
      },
      "cell_type": "code",
      "source": [
        "def removed_elements_generator(input_list):\n",
        "    \"\"\"This function creates an id generator of the empty tokenized elements\"\"\"\n",
        "    \n",
        "    logging.info(\"reading file {0}...this may take a while\".format(input_list))\n",
        "    \n",
        "    for i, line in enumerate (input_list): \n",
        "        if (i%10000==0):\n",
        "            logging.info (\"read {0} reviews\".format (i))\n",
        "        # do some pre-processing and return a list of words for each review text\n",
        "        line_process=remove_stopwords(line)\n",
        "        line_process=gensim.utils.simple_preprocess(line_process,min_len=3,max_len=30)\n",
        "        if not line_process:\n",
        "          print(line_process,\"before preprocess-\",i,\":\",line)\n",
        "          RemovedElements.append(i)\n",
        "          #line_process=line.split()\n",
        "          yield i\n",
        "\n",
        "def input_tokenize(input_list,RemovedElements):\n",
        "    \"\"\"This creates a generator of the tokenized elements \"\"\"\n",
        "    \n",
        "    logging.info(\"reading file {0}...this may take a while\".format(input_list))\n",
        "    \n",
        "    for i, line in enumerate (input_list): \n",
        "        if (i%10000==0):\n",
        "            logging.info (\"read {0} reviews\".format (i))\n",
        "        # do some pre-processing and return a list of words for each review text\n",
        "        line_process=remove_stopwords(line)\n",
        "        line_process=gensim.utils.simple_preprocess(line_process,min_len=3,max_len=30)\n",
        "        if not line_process:\n",
        "          print(line_process,\"before preprocess-\",i,\":\",line)\n",
        "          RemovedElements.append(i)\n",
        "          #line_process=line.split()\n",
        "        else:    \n",
        "          yield line_process"
      ],
      "execution_count": 0,
      "outputs": []
    },
    {
      "metadata": {
        "id": "r6Y6zDGugrL1",
        "colab_type": "code",
        "colab": {}
      },
      "cell_type": "code",
      "source": [
        "logging.info (\"Tokenization\")\n",
        "RemovedElements=[]\n",
        "Disorders_corpus=(input_tokenize(Disorders,RemovedElements))\n",
        "#GenDisorders_corpus=(input_tokenize(GenDisorders))\n",
        "logging.info (\"End of Tokenization\")"
      ],
      "execution_count": 0,
      "outputs": []
    },
    {
      "metadata": {
        "id": "WbHl8p65n2Nd",
        "colab_type": "code",
        "outputId": "ad88f1b9-d153-47de-b700-181d724f259e",
        "colab": {
          "base_uri": "https://localhost:8080/",
          "height": 374
        }
      },
      "cell_type": "code",
      "source": [
        "for i,s in enumerate(Disorders_corpus):\n",
        "  #print(s)\n",
        "  k=1\n",
        "  #if i >:break\n",
        "    \n",
        "print(RemovedElements)"
      ],
      "execution_count": 53,
      "outputs": [
        {
          "output_type": "stream",
          "text": [
            "[] before preprocess- 469 : ad18\n",
            "[] before preprocess- 767 : hs5\n",
            "[] before preprocess- 1235 : t(17;22)(q22;q13)\n",
            "[] before preprocess- 1238 : rp69\n",
            "[] before preprocess- 2640 : t(17;21)(q11;q22)\n",
            "[] before preprocess- 3070 : ts\n",
            "[] before preprocess- 4897 : ml i\n",
            "[] before preprocess- 4960 : rp15\n",
            "[] before preprocess- 6175 : cd332 c.1645a>c\n",
            "[] before preprocess- 7334 : cd332 c.1144t>c\n",
            "[] before preprocess- 8473 : ad5\n",
            "[] before preprocess- 8543 : t(2;17)(p23;q35)\n",
            "[] before preprocess- 8678 : t2d\n",
            "[] before preprocess- 9224 : k20r\n",
            "[] before preprocess- 10574 : fire in mine\n",
            "[] before preprocess- 11674 : dn\n",
            "[] before preprocess- 13630 : ea4\n",
            "[] before preprocess- 14399 : rp73\n",
            "[] before preprocess- 14671 : oi9\n",
            "[] before preprocess- 14865 : md1\n",
            "[469, 767, 1235, 1238, 2640, 3070, 4897, 4960, 6175, 7334, 8473, 8543, 8678, 9224, 10574, 11674, 13630, 14399, 14671, 14865]\n"
          ],
          "name": "stdout"
        }
      ]
    },
    {
      "metadata": {
        "id": "xkGxL6dLugLC",
        "colab_type": "code",
        "colab": {}
      },
      "cell_type": "code",
      "source": [
        "model_dir=google_drive+\"Disorders\"\n",
        "model=Word2Vec.load(model_dir)\n"
      ],
      "execution_count": 0,
      "outputs": []
    },
    {
      "metadata": {
        "id": "pGMzWPS0egKe",
        "colab_type": "code",
        "colab": {}
      },
      "cell_type": "code",
      "source": [
        "def getsentence_matrix(sentence,gensim_model,nrows=30):\n",
        "  #print(\"sent:\",sentence)\n",
        "  sentence_matrix=[gensim_model.wv.get_vector(token) for token in sentence]\n",
        " \n",
        "  sentence_matrix=np.matrix(sentence_matrix)\n",
        "#  print(\"Before padding:\")\n",
        "#  pprint(sentence_matrix.T[:2,:])\n",
        "  #print(\"size before padding:\",nrows-sentence_matrix.shape[0])\n",
        "  if(nrows-sentence_matrix.shape[0]<0 or sentence_matrix.shape[1]<=0):\n",
        "    print(\"Sentence:\",sentence)\n",
        "    print(\"MatrixShape:\",sentence_matrix.shape)\n",
        "    print(sentence_matrix)\n",
        "  sentence_matrix=np.lib.pad(sentence_matrix,((0,max(0,nrows-sentence_matrix.shape[0])),(0,0)), 'constant', constant_values=(0))\n",
        "  #sentence_matrix=np.delete(sentence_matrix,np.s_[::2],axis=0)\n",
        "  #sentence_matrix=np.delete(sentence_matrix,np.s_[::2],axis=1)\n",
        "  #sentence_matrix=np.delete(sentence_matrix,np.s_[::2],axis=0)\n",
        "  #sentence_matrix=np.delete(sentence_matrix,np.s_[::2],axis=1)\n",
        "  #sentence_matrix=np.delete(sentence_matrix,np.s_[::2],axis=0)\n",
        "  #sentence_matrix=np.delete(sentence_matrix,np.s_[::2],axis=1)\n",
        "  \n",
        "  #sentence_matrix=np.delete(sentence_matrix,np.s_[::2],axis=1)\n",
        "  #sentence_matrix=np.delete(sentence_matrix,np.s_[::2],axis=1)\n",
        "  #sentence_matrix=np.delete(sentence_matrix,np.s_[::2],axis=1)\n",
        "#  print(\"After padding:\")\n",
        "#  pprint(sentence_matrix.T[:2,:])\n",
        "  #print(\"shape=\",sentence_matrix.shape)\n",
        "  return sentence_matrix#.T"
      ],
      "execution_count": 0,
      "outputs": []
    },
    {
      "metadata": {
        "id": "ASG8Vr4hu5Al",
        "colab_type": "code",
        "colab": {}
      },
      "cell_type": "code",
      "source": [
        "def get_termes_matrices(Corpus,model):\n",
        "  \n",
        "#  pprint(Corpus)\n",
        "  matrix_list=[]\n",
        "  IndexOfEmptyElem=[]\n",
        "  nrows=30\n",
        "  empty=True\n",
        "  for i,sentence in enumerate(Corpus):\n",
        "    if not(not sentence):\n",
        "      if empty==True:\n",
        "        matrix_list=np.array([getsentence_matrix(sentence,model,nrows=30)])\n",
        "        empty=False\n",
        "        #print(matrix_list[0].shape)\n",
        "      else:\n",
        "        #print(i,\":\",getsentence_matrix(sentence,model).shape)\n",
        "        matrix_list=np.append(matrix_list,[getsentence_matrix(sentence,model,nrows=30)],axis=0)\n",
        "      #print(\"i:\",i)#,matrix_list)\n",
        "      if(i%1000==0):\n",
        "        print(\"i:\",i)\n",
        "       # break\n",
        "    else:\n",
        "      print(\"Empty element's index:\",i)\n",
        "      IndexOfEmptyElem.append(i)\n",
        "      #print(np.zeros((5,5)))\n",
        "      matrix_list=np.append(matrix_list,[np.zeros((nrows,model.wv.vector_size))],axis=0)\n",
        "  print(\"length:\",len(matrix_list))\n",
        "  print(\"shape=\",matrix_list.shape)\n",
        "  #print(matrix_list)\n",
        "  return matrix_list,IndexOfEmptyElem\n"
      ],
      "execution_count": 0,
      "outputs": []
    },
    {
      "metadata": {
        "id": "TDMB-E3BwIyp",
        "colab_type": "code",
        "colab": {}
      },
      "cell_type": "code",
      "source": [
        "RemovedElements=[]\n",
        "Disorders_corpus=(input_tokenize(Disorders,RemovedElements))\n",
        "testRemovedElements=[]\n",
        "testDisorders_corpus=(input_tokenize(testDisorders,testRemovedElements))"
      ],
      "execution_count": 0,
      "outputs": []
    },
    {
      "metadata": {
        "id": "9hUvL7rBUROB",
        "colab_type": "code",
        "colab": {}
      },
      "cell_type": "code",
      "source": [
        "RemovedElementsIter=removed_elements_generator(Disorders)\n",
        "testRemovedElementsIter=removed_elements_generator(testDisorders)"
      ],
      "execution_count": 0,
      "outputs": []
    },
    {
      "metadata": {
        "id": "AgRpNvJJXlLT",
        "colab_type": "code",
        "outputId": "2749d32e-bb7e-4466-ba4a-4796ccfb5621",
        "colab": {
          "base_uri": "https://localhost:8080/",
          "height": 510
        }
      },
      "cell_type": "code",
      "source": [
        "print(list(RemovedElementsIter))\n",
        "print(\"Test\")\n",
        "print(list(testRemovedElementsIter))"
      ],
      "execution_count": 59,
      "outputs": [
        {
          "output_type": "stream",
          "text": [
            "[] before preprocess- 469 : ad18\n",
            "[] before preprocess- 767 : hs5\n",
            "[] before preprocess- 1235 : t(17;22)(q22;q13)\n",
            "[] before preprocess- 1238 : rp69\n",
            "[] before preprocess- 2640 : t(17;21)(q11;q22)\n",
            "[] before preprocess- 3070 : ts\n",
            "[] before preprocess- 4897 : ml i\n",
            "[] before preprocess- 4960 : rp15\n",
            "[] before preprocess- 6175 : cd332 c.1645a>c\n",
            "[] before preprocess- 7334 : cd332 c.1144t>c\n",
            "[] before preprocess- 8473 : ad5\n",
            "[] before preprocess- 8543 : t(2;17)(p23;q35)\n",
            "[] before preprocess- 8678 : t2d\n",
            "[] before preprocess- 9224 : k20r\n",
            "[] before preprocess- 10574 : fire in mine\n",
            "[] before preprocess- 11674 : dn\n",
            "[] before preprocess- 13630 : ea4\n",
            "[] before preprocess- 14399 : rp73\n",
            "[] before preprocess- 14671 : oi9\n",
            "[] before preprocess- 14865 : md1\n",
            "[469, 767, 1235, 1238, 2640, 3070, 4897, 4960, 6175, 7334, 8473, 8543, 8678, 9224, 10574, 11674, 13630, 14399, 14671, 14865]\n",
            "Test\n",
            "[] before preprocess- 217 : t(11;14)\n",
            "[] before preprocess- 1556 : ss\n",
            "[] before preprocess- 1647 : xp-a\n",
            "[] before preprocess- 2276 : t(3;12)(q27-q28;q13-q15)\n",
            "[] before preprocess- 2605 : dd\n",
            "[] before preprocess- 2820 : hs1\n",
            "[217, 1556, 1647, 2276, 2605, 2820]\n"
          ],
          "name": "stdout"
        }
      ]
    },
    {
      "metadata": {
        "id": "i7p2psJ8GJRY",
        "colab_type": "code",
        "cellView": "code",
        "colab": {}
      },
      "cell_type": "code",
      "source": [
        "RemovedElements=[]\n",
        "Disorders_corpus=(input_tokenize(Disorders,RemovedElements))\n",
        "testRemovedElements=[]\n",
        "testDisorders_corpus=(input_tokenize(testDisorders,testRemovedElements))\n"
      ],
      "execution_count": 0,
      "outputs": []
    },
    {
      "metadata": {
        "id": "kceXLofHXLXZ",
        "colab_type": "code",
        "outputId": "bb40408c-5bf6-4535-bdb3-76dd278af927",
        "colab": {
          "base_uri": "https://localhost:8080/",
          "height": 646
        }
      },
      "cell_type": "code",
      "source": [
        "MatrixList,empty=get_termes_matrices(Disorders_corpus,model)"
      ],
      "execution_count": 61,
      "outputs": [
        {
          "output_type": "stream",
          "text": [
            "i: 0\n",
            "[] before preprocess- 469 : ad18\n",
            "[] before preprocess- 767 : hs5\n",
            "i: 1000\n",
            "[] before preprocess- 1235 : t(17;22)(q22;q13)\n",
            "[] before preprocess- 1238 : rp69\n",
            "i: 2000\n",
            "[] before preprocess- 2640 : t(17;21)(q11;q22)\n",
            "i: 3000\n",
            "[] before preprocess- 3070 : ts\n",
            "i: 4000\n",
            "[] before preprocess- 4897 : ml i\n",
            "[] before preprocess- 4960 : rp15\n",
            "i: 5000\n",
            "i: 6000\n",
            "[] before preprocess- 6175 : cd332 c.1645a>c\n",
            "i: 7000\n",
            "[] before preprocess- 7334 : cd332 c.1144t>c\n",
            "i: 8000\n",
            "[] before preprocess- 8473 : ad5\n",
            "[] before preprocess- 8543 : t(2;17)(p23;q35)\n",
            "[] before preprocess- 8678 : t2d\n",
            "i: 9000\n",
            "[] before preprocess- 9224 : k20r\n",
            "i: 10000\n",
            "[] before preprocess- 10574 : fire in mine\n",
            "i: 11000\n",
            "[] before preprocess- 11674 : dn\n",
            "i: 12000\n",
            "i: 13000\n",
            "[] before preprocess- 13630 : ea4\n",
            "i: 14000\n",
            "[] before preprocess- 14399 : rp73\n",
            "[] before preprocess- 14671 : oi9\n",
            "[] before preprocess- 14865 : md1\n",
            "length: 14980\n",
            "shape= (14980, 30, 300)\n"
          ],
          "name": "stdout"
        }
      ]
    },
    {
      "metadata": {
        "id": "bvfxZMquMf62",
        "colab_type": "code",
        "outputId": "25382e11-0a5d-47cc-8c4e-ee7396be399d",
        "colab": {
          "base_uri": "https://localhost:8080/",
          "height": 221
        }
      },
      "cell_type": "code",
      "source": [
        "print(\"test sample\")\n",
        "testMatrixList,testempty=get_termes_matrices(testDisorders_corpus,model)"
      ],
      "execution_count": 62,
      "outputs": [
        {
          "output_type": "stream",
          "text": [
            "test sample\n",
            "i: 0\n",
            "[] before preprocess- 217 : t(11;14)\n",
            "i: 1000\n",
            "[] before preprocess- 1556 : ss\n",
            "[] before preprocess- 1647 : xp-a\n",
            "i: 2000\n",
            "[] before preprocess- 2276 : t(3;12)(q27-q28;q13-q15)\n",
            "[] before preprocess- 2605 : dd\n",
            "[] before preprocess- 2820 : hs1\n",
            "length: 2994\n",
            "shape= (2994, 30, 300)\n"
          ],
          "name": "stdout"
        }
      ]
    },
    {
      "metadata": {
        "id": "3iIdVDfTf-Op",
        "colab_type": "code",
        "colab": {}
      },
      "cell_type": "code",
      "source": [
        "def remove_element_byIndex(panda_dataset,listOfIndexes):\n",
        "  Indexes=[]\n",
        "  for elem in listOfIndexes:\n",
        "    Indexes.append(panda_dataset[elem:elem+1].index[0])\n",
        "  \n",
        "  print(Indexes)\n",
        "  return panda_dataset.drop(Indexes)"
      ],
      "execution_count": 0,
      "outputs": []
    },
    {
      "metadata": {
        "id": "uqVt0PK8N_JF",
        "colab_type": "code",
        "outputId": "fad4b752-830c-4b6c-dc0b-924e859f7529",
        "colab": {
          "base_uri": "https://localhost:8080/",
          "height": 207
        }
      },
      "cell_type": "code",
      "source": [
        "\n",
        "\n",
        "print(Codes.reindex([219126, 267602]))\n",
        "#print(Disorders[RemovedElements[0]:RemovedElements[0]+1])\n",
        "print(Codes[RemovedElements[0]:RemovedElements[0]+1])\n",
        "#print(Disorders[RemovedElements[1]:RemovedElements[1]+1])\n",
        "#po=pd.Int64Index([], dtype='int64')\n",
        "#po.append(224267)\n",
        "\n",
        "print(\"Before drop:\",len(Codes))\n",
        "Codes2=remove_element_byIndex(Codes,RemovedElements)\n",
        "print(\"After drop:\",len(Codes2))\n",
        "print(testempty)\n",
        "print(\"after drop\")"
      ],
      "execution_count": 72,
      "outputs": [
        {
          "output_type": "stream",
          "text": [
            "219126    C3810041\n",
            "267602    C2675192\n",
            "Name: Code, dtype: object\n",
            "219126    C3810041\n",
            "Name: Code, dtype: object\n",
            "Before drop: 15000\n",
            "[219126, 267602, 26735, 284050, 23305, 323019, 124679, 231113, 24110, 26207, 314043, 30167, 67531, 29851, 381658, 315505, 110224, 151841, 125081, 563840]\n",
            "After drop: 14980\n",
            "[]\n",
            "after drop\n"
          ],
          "name": "stdout"
        }
      ]
    },
    {
      "metadata": {
        "id": "nb7SqX7eisgt",
        "colab_type": "code",
        "outputId": "86ddc4f1-8b75-4d85-8bf0-e99532b7b089",
        "colab": {
          "base_uri": "https://localhost:8080/",
          "height": 68
        }
      },
      "cell_type": "code",
      "source": [
        "print(\"Before drop:\",len(testCodes))\n",
        "testCodes2=remove_element_byIndex(testCodes,testRemovedElements)\n",
        "print(\"After drop:\",len(testCodes2))"
      ],
      "execution_count": 73,
      "outputs": [
        {
          "output_type": "stream",
          "text": [
            "Before drop: 3000\n",
            "[24260, 121969, 343403, 25037, 43115, 87803]\n",
            "After drop: 2994\n"
          ],
          "name": "stdout"
        }
      ]
    },
    {
      "metadata": {
        "id": "ktF4WxRmwnKq",
        "colab_type": "code",
        "colab": {}
      },
      "cell_type": "code",
      "source": [
        "def get_code_classes(Codes,gensim_model):\n",
        "  unique_Codes=list(set(Codes))\n",
        "  nb_classes=len(unique_Codes)\n",
        "  print(\"number of codes:\",nb_classes)\n",
        "  Code_vectors=[gensim_model.wv.get_vector(token) for token in Codes]\n",
        "  Code_dict=dict(zip(Codes,Code_vectors))\n",
        "  #inv_Code_dict=dict(zip(Code_vectors,Codes))\n",
        "  #print(Code_vectors[0][0:5])\n",
        "  #print(\"'C0009021'\",Code_dict['C0009021'][0:5])\n",
        "  return nb_classes,Code_vectors,Code_dict"
      ],
      "execution_count": 0,
      "outputs": []
    },
    {
      "metadata": {
        "id": "u29aDrbXxdMC",
        "colab_type": "code",
        "outputId": "2a0da975-8cfd-4ac1-89cf-a37944a97882",
        "colab": {
          "base_uri": "https://localhost:8080/",
          "height": 34
        }
      },
      "cell_type": "code",
      "source": [
        "nb_classes,Code_vectors,Code_dict=get_code_classes(Codes2,model)"
      ],
      "execution_count": 75,
      "outputs": [
        {
          "output_type": "stream",
          "text": [
            "number of codes: 14059\n"
          ],
          "name": "stdout"
        }
      ]
    },
    {
      "metadata": {
        "id": "HyM7h_vpA_Ka",
        "colab_type": "code",
        "outputId": "25dd9081-3576-4440-9281-f25b930ca14e",
        "colab": {
          "base_uri": "https://localhost:8080/",
          "height": 51
        }
      },
      "cell_type": "code",
      "source": [
        "Codes[222160]\n",
        "print(\"Dict:\",Code_dict[\"C0275585\"][0:5])\n",
        "print(\"Vect:\",Code_vectors[0][0:5])"
      ],
      "execution_count": 76,
      "outputs": [
        {
          "output_type": "stream",
          "text": [
            "Dict: [-0.08187973 -0.05139588 -0.13897417 -0.08761195 -0.03717935]\n",
            "Vect: [-0.08187973 -0.05139588 -0.13897417 -0.08761195 -0.03717935]\n"
          ],
          "name": "stdout"
        }
      ]
    },
    {
      "metadata": {
        "id": "q3S51Zx3ELso",
        "colab_type": "code",
        "outputId": "90e7461e-dde7-49a0-be19-f1fee89ea4c7",
        "colab": {
          "base_uri": "https://localhost:8080/",
          "height": 34
        }
      },
      "cell_type": "code",
      "source": [
        "testnb_classes,testCode_vectors,testCode_dict=get_code_classes(testCodes2,model)\n",
        "\n",
        "#testCodes[244939]\n",
        "#print(\"Dict:\",testCode_dict[\"C0341679\"][0:5])\n",
        "#print(\"Vect:\",testCode_vectors[0][0:5])"
      ],
      "execution_count": 77,
      "outputs": [
        {
          "output_type": "stream",
          "text": [
            "number of codes: 2950\n"
          ],
          "name": "stdout"
        }
      ]
    },
    {
      "metadata": {
        "id": "EWszuJLwjOd2",
        "colab_type": "code",
        "colab": {
          "base_uri": "https://localhost:8080/",
          "height": 51
        },
        "outputId": "cfd512f5-2bc9-453e-ac9a-f6770b4cc12b"
      },
      "cell_type": "code",
      "source": [
        "frames = [Codes2,testCodes2]\n",
        "result = pd.concat(frames)\n",
        "\n",
        "print(len(((result))))\n",
        "\n",
        "print( len( result[Codes2.index] ) )"
      ],
      "execution_count": 132,
      "outputs": [
        {
          "output_type": "stream",
          "text": [
            "17974\n",
            "14980\n"
          ],
          "name": "stdout"
        }
      ]
    },
    {
      "metadata": {
        "id": "Ven1_2pfucqz",
        "colab_type": "code",
        "colab": {}
      },
      "cell_type": "code",
      "source": [
        "print(result)"
      ],
      "execution_count": 0,
      "outputs": []
    },
    {
      "metadata": {
        "id": "rLSvN9133bES",
        "colab_type": "code",
        "outputId": "cc827a4f-bb54-42d2-9430-a2f36746abc3",
        "colab": {
          "base_uri": "https://localhost:8080/",
          "height": 51
        }
      },
      "cell_type": "code",
      "source": [
        "batch_size = 128\n",
        "num_classes = nb_classes\n",
        "epochs = 10\n",
        "\n",
        "# input dimensions\n",
        "size_x, size_y = MatrixList[0].shape\n",
        "keras_model = Sequential()\n",
        "print(type(np.array(MatrixList)))\n",
        "\n",
        "# load the MNIST data set, which already splits into train and test sets for us\n",
        "x_train, y_train = np.array(MatrixList),np.array(Codes2)\n",
        "x_test, y_test = np.array(testMatrixList),np.array(testCodes2)\n",
        "print(type(x_train[0]))"
      ],
      "execution_count": 116,
      "outputs": [
        {
          "output_type": "stream",
          "text": [
            "<class 'numpy.ndarray'>\n",
            "<class 'numpy.ndarray'>\n"
          ],
          "name": "stdout"
        }
      ]
    },
    {
      "metadata": {
        "id": "DJ4ty4IOKQjz",
        "colab_type": "code",
        "outputId": "3ed2916d-64a0-47cb-80c0-9b0ff45aa5df",
        "colab": {
          "base_uri": "https://localhost:8080/",
          "height": 85
        }
      },
      "cell_type": "code",
      "source": [
        "print((x_train.shape))\n",
        "print((x_test.shape))\n",
        "print((y_train.shape))\n",
        "print((y_test.shape))"
      ],
      "execution_count": 117,
      "outputs": [
        {
          "output_type": "stream",
          "text": [
            "(14980, 30, 300)\n",
            "(2994, 30, 300)\n",
            "(14980,)\n",
            "(2994,)\n"
          ],
          "name": "stdout"
        }
      ]
    },
    {
      "metadata": {
        "id": "8zoSkAQsQn_s",
        "colab_type": "code",
        "colab": {}
      },
      "cell_type": "code",
      "source": [
        "# reshape the data into a 4D tensor - (sample_number, x_size, y_size, num_channels)\n",
        "# we only have a single channel\n",
        "x_train = x_train.reshape(x_train.shape[0], size_x, size_y, 1)\n",
        "x_test = x_test.reshape(x_test.shape[0], size_x, size_y, 1)\n",
        "input_shape = (size_x, size_y, 1)"
      ],
      "execution_count": 0,
      "outputs": []
    },
    {
      "metadata": {
        "id": "fujynUUOkGIH",
        "colab_type": "code",
        "outputId": "ae664362-47ba-4593-d452-18dac259f909",
        "colab": {
          "base_uri": "https://localhost:8080/",
          "height": 68
        }
      },
      "cell_type": "code",
      "source": [
        "# convert the data to the right type\n",
        "x_train = x_train.astype('float32')\n",
        "x_test = x_test.astype('float32')\n",
        "print('x_train shape:', x_train.shape)\n",
        "print(x_train.shape[0], 'train samples')\n",
        "print(x_test.shape[0], 'test samples')"
      ],
      "execution_count": 119,
      "outputs": [
        {
          "output_type": "stream",
          "text": [
            "x_train shape: (14980, 30, 300, 1)\n",
            "14980 train samples\n",
            "2994 test samples\n"
          ],
          "name": "stdout"
        }
      ]
    },
    {
      "metadata": {
        "id": "JyWjvxA1q5wy",
        "colab_type": "code",
        "colab": {}
      },
      "cell_type": "code",
      "source": [
        "# convert class vectors to binary class matrices - this is for use in the\n",
        "# categorical_crossentropy loss below\n",
        "y_train = y_train.reshape(y_train.shape[0], 1)#keras.utils.to_categorical(y_train, nb_classes)\n",
        "y_test = y_test.reshape(y_test.shape[0], 1)#keras.utils.to_categorical(y_test, testnb_classes)\n"
      ],
      "execution_count": 0,
      "outputs": []
    },
    {
      "metadata": {
        "id": "pZ1kpJ7xQOre",
        "colab_type": "code",
        "colab": {
          "base_uri": "https://localhost:8080/",
          "height": 503
        },
        "outputId": "fad9ed55-7159-4788-9f7b-78f7d9777e11"
      },
      "cell_type": "code",
      "source": [
        "from sklearn.preprocessing import LabelEncoder\n",
        "from keras.utils import np_utils\n",
        "\n",
        "print((y_train.shape))\n",
        "print((y_test.shape))\n",
        "\n",
        "encoder = LabelEncoder()\n",
        "encoder.fit(y_train)\n",
        "encoded_Y = encoder.transform(y_train)\n",
        "# convert integers to dummy variables (i.e. one hot encoded)\n",
        "y_train = np_utils.to_categorical(encoded_Y)\n",
        "\n",
        "encoder.fit(y_test)\n",
        "encoded_Ytest = encoder.transform(y_test)\n",
        "y_test = np_utils.to_categorical(encoded_Ytest)\n",
        "\n",
        "#y_train = keras.utils.to_categorical(y_train, num_classes)\n",
        "#y_test = keras.utils.to_categorical(y_test, num_classes)\n",
        "\n",
        "print((y_train.shape))\n",
        "print((y_test.shape))"
      ],
      "execution_count": 124,
      "outputs": [
        {
          "output_type": "stream",
          "text": [
            "(14980, 14059)\n",
            "(2994, 2950)\n"
          ],
          "name": "stdout"
        },
        {
          "output_type": "error",
          "ename": "ValueError",
          "evalue": "ignored",
          "traceback": [
            "\u001b[0;31m---------------------------------------------------------------------------\u001b[0m",
            "\u001b[0;31mValueError\u001b[0m                                Traceback (most recent call last)",
            "\u001b[0;32m<ipython-input-124-8fa78581a53c>\u001b[0m in \u001b[0;36m<module>\u001b[0;34m()\u001b[0m\n\u001b[1;32m      6\u001b[0m \u001b[0;34m\u001b[0m\u001b[0m\n\u001b[1;32m      7\u001b[0m \u001b[0mencoder\u001b[0m \u001b[0;34m=\u001b[0m \u001b[0mLabelEncoder\u001b[0m\u001b[0;34m(\u001b[0m\u001b[0;34m)\u001b[0m\u001b[0;34m\u001b[0m\u001b[0;34m\u001b[0m\u001b[0m\n\u001b[0;32m----> 8\u001b[0;31m \u001b[0mencoder\u001b[0m\u001b[0;34m.\u001b[0m\u001b[0mfit\u001b[0m\u001b[0;34m(\u001b[0m\u001b[0my_train\u001b[0m\u001b[0;34m)\u001b[0m\u001b[0;34m\u001b[0m\u001b[0;34m\u001b[0m\u001b[0m\n\u001b[0m\u001b[1;32m      9\u001b[0m \u001b[0mencoded_Y\u001b[0m \u001b[0;34m=\u001b[0m \u001b[0mencoder\u001b[0m\u001b[0;34m.\u001b[0m\u001b[0mtransform\u001b[0m\u001b[0;34m(\u001b[0m\u001b[0my_train\u001b[0m\u001b[0;34m)\u001b[0m\u001b[0;34m\u001b[0m\u001b[0;34m\u001b[0m\u001b[0m\n\u001b[1;32m     10\u001b[0m \u001b[0;31m# convert integers to dummy variables (i.e. one hot encoded)\u001b[0m\u001b[0;34m\u001b[0m\u001b[0;34m\u001b[0m\u001b[0;34m\u001b[0m\u001b[0m\n",
            "\u001b[0;32m/usr/local/lib/python3.6/dist-packages/sklearn/preprocessing/label.py\u001b[0m in \u001b[0;36mfit\u001b[0;34m(self, y)\u001b[0m\n\u001b[1;32m    217\u001b[0m         \u001b[0mself\u001b[0m \u001b[0;34m:\u001b[0m \u001b[0mreturns\u001b[0m \u001b[0man\u001b[0m \u001b[0minstance\u001b[0m \u001b[0mof\u001b[0m \u001b[0mself\u001b[0m\u001b[0;34m.\u001b[0m\u001b[0;34m\u001b[0m\u001b[0;34m\u001b[0m\u001b[0m\n\u001b[1;32m    218\u001b[0m         \"\"\"\n\u001b[0;32m--> 219\u001b[0;31m         \u001b[0my\u001b[0m \u001b[0;34m=\u001b[0m \u001b[0mcolumn_or_1d\u001b[0m\u001b[0;34m(\u001b[0m\u001b[0my\u001b[0m\u001b[0;34m,\u001b[0m \u001b[0mwarn\u001b[0m\u001b[0;34m=\u001b[0m\u001b[0;32mTrue\u001b[0m\u001b[0;34m)\u001b[0m\u001b[0;34m\u001b[0m\u001b[0;34m\u001b[0m\u001b[0m\n\u001b[0m\u001b[1;32m    220\u001b[0m         \u001b[0mself\u001b[0m\u001b[0;34m.\u001b[0m\u001b[0mclasses_\u001b[0m \u001b[0;34m=\u001b[0m \u001b[0m_encode\u001b[0m\u001b[0;34m(\u001b[0m\u001b[0my\u001b[0m\u001b[0;34m)\u001b[0m\u001b[0;34m\u001b[0m\u001b[0;34m\u001b[0m\u001b[0m\n\u001b[1;32m    221\u001b[0m         \u001b[0;32mreturn\u001b[0m \u001b[0mself\u001b[0m\u001b[0;34m\u001b[0m\u001b[0;34m\u001b[0m\u001b[0m\n",
            "\u001b[0;32m/usr/local/lib/python3.6/dist-packages/sklearn/utils/validation.py\u001b[0m in \u001b[0;36mcolumn_or_1d\u001b[0;34m(y, warn)\u001b[0m\n\u001b[1;32m    795\u001b[0m         \u001b[0;32mreturn\u001b[0m \u001b[0mnp\u001b[0m\u001b[0;34m.\u001b[0m\u001b[0mravel\u001b[0m\u001b[0;34m(\u001b[0m\u001b[0my\u001b[0m\u001b[0;34m)\u001b[0m\u001b[0;34m\u001b[0m\u001b[0;34m\u001b[0m\u001b[0m\n\u001b[1;32m    796\u001b[0m \u001b[0;34m\u001b[0m\u001b[0m\n\u001b[0;32m--> 797\u001b[0;31m     \u001b[0;32mraise\u001b[0m \u001b[0mValueError\u001b[0m\u001b[0;34m(\u001b[0m\u001b[0;34m\"bad input shape {0}\"\u001b[0m\u001b[0;34m.\u001b[0m\u001b[0mformat\u001b[0m\u001b[0;34m(\u001b[0m\u001b[0mshape\u001b[0m\u001b[0;34m)\u001b[0m\u001b[0;34m)\u001b[0m\u001b[0;34m\u001b[0m\u001b[0;34m\u001b[0m\u001b[0m\n\u001b[0m\u001b[1;32m    798\u001b[0m \u001b[0;34m\u001b[0m\u001b[0m\n\u001b[1;32m    799\u001b[0m \u001b[0;34m\u001b[0m\u001b[0m\n",
            "\u001b[0;31mValueError\u001b[0m: bad input shape (14980, 14059)"
          ]
        }
      ]
    },
    {
      "metadata": {
        "id": "7cd_NqOmpgRZ",
        "colab_type": "code",
        "colab": {
          "base_uri": "https://localhost:8080/",
          "height": 608
        },
        "outputId": "06f2e8d3-5310-49e0-e2cf-2bcee4e79e2b"
      },
      "cell_type": "code",
      "source": [
        "model = Sequential()\n",
        "model.add(Conv2D(32, kernel_size=(5, 5), strides=(1, 1),\n",
        "                 activation='relu',\n",
        "                 input_shape=input_shape))\n",
        "model.add(MaxPooling2D(pool_size=(2, 2), strides=(2, 2)))\n",
        "model.add(Conv2D(64, (5, 5), activation='relu'))\n",
        "model.add(MaxPooling2D(pool_size=(2, 2)))\n",
        "model.add(Flatten())\n",
        "model.add(Dense(1000, activation='relu'))\n",
        "model.add(Dense(num_classes, activation='softmax'))\n",
        "\n",
        "model.compile(loss=keras.losses.categorical_crossentropy,\n",
        "              optimizer=keras.optimizers.Adam(),\n",
        "              metrics=['accuracy'])\n",
        "\n",
        "\n",
        "class AccuracyHistory(keras.callbacks.Callback):\n",
        "    def on_train_begin(self, logs={}):\n",
        "        self.acc = []\n",
        "\n",
        "    def on_epoch_end(self, batch, logs={}):\n",
        "        self.acc.append(logs.get('acc'))\n",
        "\n",
        "history = AccuracyHistory()\n",
        "\n",
        "model.fit(x_train, y_train,\n",
        "          batch_size=batch_size,\n",
        "          epochs=epochs,\n",
        "          verbose=1,\n",
        "          validation_data=(x_test, y_test),\n",
        "          callbacks=[history])\n",
        "score = model.evaluate(x_test, y_test, verbose=0)\n",
        "print('Test loss:', score[0])\n",
        "print('Test accuracy:', score[1])\n",
        "plt.plot(range(1, 11), history.acc)\n",
        "plt.xlabel('Epochs')\n",
        "plt.ylabel('Accuracy')\n",
        "plt.show()"
      ],
      "execution_count": 123,
      "outputs": [
        {
          "output_type": "error",
          "ename": "ValueError",
          "evalue": "ignored",
          "traceback": [
            "\u001b[0;31m---------------------------------------------------------------------------\u001b[0m",
            "\u001b[0;31mValueError\u001b[0m                                Traceback (most recent call last)",
            "\u001b[0;32m<ipython-input-123-2c4557c475ad>\u001b[0m in \u001b[0;36m<module>\u001b[0;34m()\u001b[0m\n\u001b[1;32m     29\u001b[0m           \u001b[0mverbose\u001b[0m\u001b[0;34m=\u001b[0m\u001b[0;36m1\u001b[0m\u001b[0;34m,\u001b[0m\u001b[0;34m\u001b[0m\u001b[0;34m\u001b[0m\u001b[0m\n\u001b[1;32m     30\u001b[0m           \u001b[0mvalidation_data\u001b[0m\u001b[0;34m=\u001b[0m\u001b[0;34m(\u001b[0m\u001b[0mx_test\u001b[0m\u001b[0;34m,\u001b[0m \u001b[0my_test\u001b[0m\u001b[0;34m)\u001b[0m\u001b[0;34m,\u001b[0m\u001b[0;34m\u001b[0m\u001b[0;34m\u001b[0m\u001b[0m\n\u001b[0;32m---> 31\u001b[0;31m           callbacks=[history])\n\u001b[0m\u001b[1;32m     32\u001b[0m \u001b[0mscore\u001b[0m \u001b[0;34m=\u001b[0m \u001b[0mmodel\u001b[0m\u001b[0;34m.\u001b[0m\u001b[0mevaluate\u001b[0m\u001b[0;34m(\u001b[0m\u001b[0mx_test\u001b[0m\u001b[0;34m,\u001b[0m \u001b[0my_test\u001b[0m\u001b[0;34m,\u001b[0m \u001b[0mverbose\u001b[0m\u001b[0;34m=\u001b[0m\u001b[0;36m0\u001b[0m\u001b[0;34m)\u001b[0m\u001b[0;34m\u001b[0m\u001b[0;34m\u001b[0m\u001b[0m\n\u001b[1;32m     33\u001b[0m \u001b[0mprint\u001b[0m\u001b[0;34m(\u001b[0m\u001b[0;34m'Test loss:'\u001b[0m\u001b[0;34m,\u001b[0m \u001b[0mscore\u001b[0m\u001b[0;34m[\u001b[0m\u001b[0;36m0\u001b[0m\u001b[0;34m]\u001b[0m\u001b[0;34m)\u001b[0m\u001b[0;34m\u001b[0m\u001b[0;34m\u001b[0m\u001b[0m\n",
            "\u001b[0;32m/usr/local/lib/python3.6/dist-packages/keras/engine/training.py\u001b[0m in \u001b[0;36mfit\u001b[0;34m(self, x, y, batch_size, epochs, verbose, callbacks, validation_split, validation_data, shuffle, class_weight, sample_weight, initial_epoch, steps_per_epoch, validation_steps, **kwargs)\u001b[0m\n\u001b[1;32m    970\u001b[0m                 \u001b[0mval_x\u001b[0m\u001b[0;34m,\u001b[0m \u001b[0mval_y\u001b[0m\u001b[0;34m,\u001b[0m\u001b[0;34m\u001b[0m\u001b[0;34m\u001b[0m\u001b[0m\n\u001b[1;32m    971\u001b[0m                 \u001b[0msample_weight\u001b[0m\u001b[0;34m=\u001b[0m\u001b[0mval_sample_weight\u001b[0m\u001b[0;34m,\u001b[0m\u001b[0;34m\u001b[0m\u001b[0;34m\u001b[0m\u001b[0m\n\u001b[0;32m--> 972\u001b[0;31m                 batch_size=batch_size)\n\u001b[0m\u001b[1;32m    973\u001b[0m             \u001b[0;32mif\u001b[0m \u001b[0mself\u001b[0m\u001b[0;34m.\u001b[0m\u001b[0m_uses_dynamic_learning_phase\u001b[0m\u001b[0;34m(\u001b[0m\u001b[0;34m)\u001b[0m\u001b[0;34m:\u001b[0m\u001b[0;34m\u001b[0m\u001b[0;34m\u001b[0m\u001b[0m\n\u001b[1;32m    974\u001b[0m                 \u001b[0mval_ins\u001b[0m \u001b[0;34m=\u001b[0m \u001b[0mval_x\u001b[0m \u001b[0;34m+\u001b[0m \u001b[0mval_y\u001b[0m \u001b[0;34m+\u001b[0m \u001b[0mval_sample_weights\u001b[0m \u001b[0;34m+\u001b[0m \u001b[0;34m[\u001b[0m\u001b[0;36m0.\u001b[0m\u001b[0;34m]\u001b[0m\u001b[0;34m\u001b[0m\u001b[0;34m\u001b[0m\u001b[0m\n",
            "\u001b[0;32m/usr/local/lib/python3.6/dist-packages/keras/engine/training.py\u001b[0m in \u001b[0;36m_standardize_user_data\u001b[0;34m(self, x, y, sample_weight, class_weight, check_array_lengths, batch_size)\u001b[0m\n\u001b[1;32m    787\u001b[0m                 \u001b[0mfeed_output_shapes\u001b[0m\u001b[0;34m,\u001b[0m\u001b[0;34m\u001b[0m\u001b[0;34m\u001b[0m\u001b[0m\n\u001b[1;32m    788\u001b[0m                 \u001b[0mcheck_batch_axis\u001b[0m\u001b[0;34m=\u001b[0m\u001b[0;32mFalse\u001b[0m\u001b[0;34m,\u001b[0m  \u001b[0;31m# Don't enforce the batch size.\u001b[0m\u001b[0;34m\u001b[0m\u001b[0;34m\u001b[0m\u001b[0m\n\u001b[0;32m--> 789\u001b[0;31m                 exception_prefix='target')\n\u001b[0m\u001b[1;32m    790\u001b[0m \u001b[0;34m\u001b[0m\u001b[0m\n\u001b[1;32m    791\u001b[0m             \u001b[0;31m# Generate sample-wise weight values given the `sample_weight` and\u001b[0m\u001b[0;34m\u001b[0m\u001b[0;34m\u001b[0m\u001b[0;34m\u001b[0m\u001b[0m\n",
            "\u001b[0;32m/usr/local/lib/python3.6/dist-packages/keras/engine/training_utils.py\u001b[0m in \u001b[0;36mstandardize_input_data\u001b[0;34m(data, names, shapes, check_batch_axis, exception_prefix)\u001b[0m\n\u001b[1;32m    136\u001b[0m                             \u001b[0;34m': expected '\u001b[0m \u001b[0;34m+\u001b[0m \u001b[0mnames\u001b[0m\u001b[0;34m[\u001b[0m\u001b[0mi\u001b[0m\u001b[0;34m]\u001b[0m \u001b[0;34m+\u001b[0m \u001b[0;34m' to have shape '\u001b[0m \u001b[0;34m+\u001b[0m\u001b[0;34m\u001b[0m\u001b[0;34m\u001b[0m\u001b[0m\n\u001b[1;32m    137\u001b[0m                             \u001b[0mstr\u001b[0m\u001b[0;34m(\u001b[0m\u001b[0mshape\u001b[0m\u001b[0;34m)\u001b[0m \u001b[0;34m+\u001b[0m \u001b[0;34m' but got array with shape '\u001b[0m \u001b[0;34m+\u001b[0m\u001b[0;34m\u001b[0m\u001b[0;34m\u001b[0m\u001b[0m\n\u001b[0;32m--> 138\u001b[0;31m                             str(data_shape))\n\u001b[0m\u001b[1;32m    139\u001b[0m     \u001b[0;32mreturn\u001b[0m \u001b[0mdata\u001b[0m\u001b[0;34m\u001b[0m\u001b[0;34m\u001b[0m\u001b[0m\n\u001b[1;32m    140\u001b[0m \u001b[0;34m\u001b[0m\u001b[0m\n",
            "\u001b[0;31mValueError\u001b[0m: Error when checking target: expected dense_10 to have shape (14059,) but got array with shape (2950,)"
          ]
        }
      ]
    }
  ]
}