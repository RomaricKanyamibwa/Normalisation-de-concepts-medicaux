{
  "nbformat": 4,
  "nbformat_minor": 0,
  "metadata": {
    "colab": {
      "name": "word2vec.ipynb",
      "version": "0.3.2",
      "provenance": [],
      "collapsed_sections": [],
      "include_colab_link": true
    },
    "kernelspec": {
      "name": "python3",
      "display_name": "Python 3"
    }
  },
  "cells": [
    {
      "cell_type": "markdown",
      "metadata": {
        "id": "view-in-github",
        "colab_type": "text"
      },
      "source": [
        "<a href=\"https://colab.research.google.com/github/RomaricKanyamibwa/Normalisation-de-concepts-medicaux/blob/master/word2vec.ipynb\" target=\"_parent\"><img src=\"https://colab.research.google.com/assets/colab-badge.svg\" alt=\"Open In Colab\"/></a>"
      ]
    },
    {
      "metadata": {
        "id": "i44XEEMoHyP3",
        "colab_type": "code",
        "colab": {}
      },
      "cell_type": "code",
      "source": [
        "!pip3 install --upgrade gensim"
      ],
      "execution_count": 0,
      "outputs": []
    },
    {
      "metadata": {
        "id": "pVjvOoGUGJhc",
        "colab_type": "code",
        "colab": {}
      },
      "cell_type": "code",
      "source": [
        "\n",
        "import pandas as pd\n",
        "#import collections\n",
        "from pprint import pprint  # pretty-printer\n",
        "import gensim\n",
        "from gensim.models import word2vec\n",
        "from gensim.parsing.preprocessing import remove_stopwords\n",
        "import logging"
      ],
      "execution_count": 0,
      "outputs": []
    },
    {
      "metadata": {
        "id": "d9Mkk97CKVyB",
        "colab_type": "code",
        "colab": {}
      },
      "cell_type": "code",
      "source": [
        "%pwd\n",
        "%cd home/\n",
        "%ls -l"
      ],
      "execution_count": 0,
      "outputs": []
    },
    {
      "metadata": {
        "id": "Ga-iU27COCKJ",
        "colab_type": "code",
        "colab": {}
      },
      "cell_type": "code",
      "source": [
        "!apt-get install -y -qq software-properties-common python-software-properties module-init-tools\n",
        "!add-apt-repository -y ppa:alessandro-strada/ppa 2>&1 > /dev/null\n",
        "!apt-get update -qq 2>&1 > /dev/null\n",
        "!apt-get -y install -qq google-drive-ocamlfuse fuse\n",
        "from google.colab import auth\n",
        "auth.authenticate_user()\n",
        "from oauth2client.client import GoogleCredentials\n",
        "creds = GoogleCredentials.get_application_default()\n",
        "import getpass\n",
        "!google-drive-ocamlfuse -headless -id={creds.client_id} -secret={creds.client_secret} < /dev/null 2>&1 | grep URL\n",
        "vcode = getpass.getpass()\n",
        "!echo {vcode} | google-drive-ocamlfuse -headless -id={creds.client_id} -secret={creds.client_secret}\n"
      ],
      "execution_count": 0,
      "outputs": []
    },
    {
      "metadata": {
        "id": "z2gSBYTeOqPx",
        "colab_type": "code",
        "colab": {
          "base_uri": "https://localhost:8080/",
          "height": 51
        },
        "outputId": "ecfaefd6-0ca6-47ee-c32d-7281cef3f0e5"
      },
      "cell_type": "code",
      "source": [
        "\n",
        "!cd drive/Coolab/\n",
        "!ls -l"
      ],
      "execution_count": 35,
      "outputs": [
        {
          "output_type": "stream",
          "text": [
            "total 4\n",
            "drwxr-xr-x 2 root root 4096 Nov 25 23:35 drive\n"
          ],
          "name": "stdout"
        }
      ]
    },
    {
      "metadata": {
        "id": "OGyuHLUKF_yY",
        "colab_type": "code",
        "colab": {}
      },
      "cell_type": "code",
      "source": [
        "df_disorders=pd.read_csv(\"drive/Coolab/Disorders.csv\",names=[\"Code\",\"Disorder\",\"GenDisorder\"],sep=\"\\t\") \n",
        "Codes=df_disorders['Code']#Y vector (outputs)\n",
        "Disorders=df_disorders['Disorder']#X vector(test)\n",
        "GenDisorders=df_disorders['GenDisorder']#X vector (train)"
      ],
      "execution_count": 0,
      "outputs": []
    },
    {
      "metadata": {
        "id": "B83DOAhAIXEW",
        "colab_type": "code",
        "colab": {}
      },
      "cell_type": "code",
      "source": [
        "def input_tokenize(input_list):\n",
        "    \"\"\"This method reads the input file which is in gzip format\"\"\"\n",
        "    \n",
        "    logging.info(\"reading file {0}...this may take a while\".format(input_list))\n",
        "    \n",
        "    for i, line in enumerate (input_list): \n",
        "        if (i%10000==0):\n",
        "            logging.info (\"read {0} reviews\".format (i))\n",
        "        # do some pre-processing and return a list of words for each review text\n",
        "        line=remove_stopwords(line)\n",
        "        yield gensim.utils.simple_preprocess(line,min_len=3)\n",
        "\n",
        "for i,k in enumerate(input_tokenize(Disorders)):\n",
        "  print(k)\n",
        "  if i>10:break"
      ],
      "execution_count": 0,
      "outputs": []
    },
    {
      "metadata": {
        "id": "pYpjiGonJTQA",
        "colab_type": "code",
        "colab": {}
      },
      "cell_type": "code",
      "source": [
        "logging.info (\"Tokenization\")\n",
        "Disorders_corpus=(input_tokenize(Disorders))\n",
        "GenDisorders_corpus=(input_tokenize(GenDisorders))\n",
        "logging.info (\"Done Tokenization\")\n",
        "\n",
        "Corpus=[[m]+n for m,n in zip(Codes,GenDisorders_corpus)]\n"
      ],
      "execution_count": 0,
      "outputs": []
    },
    {
      "metadata": {
        "id": "6Jau1N8nQwo_",
        "colab_type": "code",
        "colab": {
          "base_uri": "https://localhost:8080/",
          "height": 442
        },
        "outputId": "85b5f5b0-7543-442e-d410-ad4acfca0545"
      },
      "cell_type": "code",
      "source": [
        "\n",
        "for i,k in enumerate(Corpus):\n",
        "  print(k)\n",
        "  if i>10:break\n",
        "\n",
        "print(\"Iterator\")\n",
        "iter_Corpus=iter(Corpus)\n",
        "for i,k in enumerate(iter_Corpus):\n",
        "  print(k)\n",
        "  if i>10:break"
      ],
      "execution_count": 55,
      "outputs": [
        {
          "output_type": "stream",
          "text": [
            "['C0423346', 'cupuliform', 'cataract']\n",
            "['C4510595', 'acquired', 'hallux', 'limitus', 'right', 'great', 'toe']\n",
            "['C1394389', 'cyst', 'ora', 'serrata', 'retina']\n",
            "['C1394389', 'cyst', 'ora', 'serrata', 'retina']\n",
            "['C1394389', 'cyst', 'ora', 'serrata', 'retina']\n",
            "['C1394389', 'cyst', 'ora', 'serrata', 'retina']\n",
            "['C1394389', 'cyst', 'ora', 'serrata', 'retina']\n",
            "['C1394389', 'cyst', 'ora', 'serrata', 'retina']\n",
            "['C0520729', 'subconjunctival', 'cyst']\n",
            "['C0332603', 'leonine', 'facies']\n",
            "['C0333292', 'perforated', 'ulcer']\n",
            "['C0333292', 'perforated', 'ulcer']\n",
            "Iterator\n",
            "['C0423346', 'cupuliform', 'cataract']\n",
            "['C4510595', 'acquired', 'hallux', 'limitus', 'right', 'great', 'toe']\n",
            "['C1394389', 'cyst', 'ora', 'serrata', 'retina']\n",
            "['C1394389', 'cyst', 'ora', 'serrata', 'retina']\n",
            "['C1394389', 'cyst', 'ora', 'serrata', 'retina']\n",
            "['C1394389', 'cyst', 'ora', 'serrata', 'retina']\n",
            "['C1394389', 'cyst', 'ora', 'serrata', 'retina']\n",
            "['C1394389', 'cyst', 'ora', 'serrata', 'retina']\n",
            "['C0520729', 'subconjunctival', 'cyst']\n",
            "['C0332603', 'leonine', 'facies']\n",
            "['C0333292', 'perforated', 'ulcer']\n",
            "['C0333292', 'perforated', 'ulcer']\n"
          ],
          "name": "stdout"
        }
      ]
    },
    {
      "metadata": {
        "id": "mPE7ppdRP6WQ",
        "colab_type": "code",
        "colab": {}
      },
      "cell_type": "code",
      "source": [
        "def gensim_demo(sentences):\n",
        "    logging.basicConfig(format='%(asctime)s : %(levelname)s : %(message)s', level=logging.INFO)\n",
        "    model = word2vec.Word2Vec(sentences, iter=10, min_count=1, size=500, workers=6)\n",
        "\n",
        "    # get the word vector of \"the\"\n",
        "    #print(model.wv['the'])\n",
        "\n",
        "    # get the most common words\n",
        "    print(model.wv.index2word[0], model.wv.index2word[1], model.wv.index2word[2])\n",
        "\n",
        "    # get the least common words\n",
        "    vocab_size = len(model.wv.vocab)\n",
        "    print(model.wv.index2word[vocab_size - 1], model.wv.index2word[vocab_size - 2], model.wv.index2word[vocab_size - 3])\n",
        "\n",
        "    # find the index of the 2nd most common word (\"of\")\n",
        "#    print('Index of \"of\" is: {}'.format(model.wv.vocab['of'].index))\n",
        "\n",
        "    # some similarity fun\n",
        "    print(model.wv.similarity('fracture', 'bone'), model.wv.similarity('broken', 'arm'))\n",
        "\n",
        "    # what doesn't fit?\n",
        "    print(model.wv.doesnt_match(\"green blue red zebra\".split()))\n",
        "\n",
        "#    str_data = read_data(root_path + filename)\n",
        "#    index_data = convert_data_to_index(str_data, model.wv)\n",
        "#    print(str_data[:4], index_data[:4])\n",
        "\n",
        "    # save and reload the model\n",
        "#    model.save(\"Disorders\")\n",
        "    return model\n",
        "\n"
      ],
      "execution_count": 0,
      "outputs": []
    },
    {
      "metadata": {
        "id": "Tz5MbPvaYpx9",
        "colab_type": "code",
        "colab": {
          "base_uri": "https://localhost:8080/",
          "height": 343
        },
        "outputId": "6f2afdb1-6f7a-428d-d4e0-661f625f03fa"
      },
      "cell_type": "code",
      "source": [
        "\n",
        "#print(\"size corpus:\",len(list(iter_Corpus)))\n",
        "logging.info (\"Tokenization\")\n",
        "Disorders_corpus=(input_tokenize(Disorders))\n",
        "GenDisorders_corpus=(input_tokenize(GenDisorders))\n",
        "logging.info (\"Done Tokenization\")\n",
        "#pense à cree des fichier avec les donées\n",
        "\n",
        "\n",
        "Corpus=[[m]+n for m,n in zip(Codes,GenDisorders_corpus)]\n",
        "iter_Corpus=(Corpus)\n",
        "\n",
        "model=gensim_demo(iter_Corpus)\n",
        "model.most_similar('fracture')"
      ],
      "execution_count": 63,
      "outputs": [
        {
          "output_type": "stream",
          "text": [
            "fracture encounter unspecified\n",
            "C2214472 ivc C0857024\n",
            "0.48722538 0.060895473\n"
          ],
          "name": "stdout"
        },
        {
          "output_type": "stream",
          "text": [
            "/usr/local/lib/python3.6/dist-packages/gensim/matutils.py:737: FutureWarning: Conversion of the second argument of issubdtype from `int` to `np.signedinteger` is deprecated. In future, it will be treated as `np.int64 == np.dtype(int).type`.\n",
            "  if np.issubdtype(vec.dtype, np.int):\n"
          ],
          "name": "stderr"
        },
        {
          "output_type": "stream",
          "text": [
            "zebra\n"
          ],
          "name": "stdout"
        },
        {
          "output_type": "stream",
          "text": [
            "/usr/local/lib/python3.6/dist-packages/ipykernel_launcher.py:10: DeprecationWarning: Call to deprecated `most_similar` (Method will be removed in 4.0.0, use self.wv.most_similar() instead).\n",
            "  # Remove the CWD from sys.path while we load stuff.\n"
          ],
          "name": "stderr"
        },
        {
          "output_type": "execute_result",
          "data": {
            "text/plain": [
              "[('routine', 0.5865849852561951),\n",
              " ('nonunion', 0.5744647979736328),\n",
              " ('closed', 0.5593452453613281),\n",
              " ('delayed', 0.5548031330108643),\n",
              " ('dislocation', 0.5514476299285889),\n",
              " ('malunion', 0.5488807559013367),\n",
              " ('healing', 0.5481484532356262),\n",
              " ('bone', 0.48722541332244873),\n",
              " ('displacement', 0.48619863390922546),\n",
              " ('nondisplaced', 0.476291686296463)]"
            ]
          },
          "metadata": {
            "tags": []
          },
          "execution_count": 63
        }
      ]
    }
  ]
}