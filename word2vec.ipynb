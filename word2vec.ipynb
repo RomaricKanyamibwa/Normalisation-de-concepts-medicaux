{
  "nbformat": 4,
  "nbformat_minor": 0,
  "metadata": {
    "colab": {
      "name": "word2vec.ipynb",
      "version": "0.3.2",
      "provenance": [],
      "collapsed_sections": [],
      "include_colab_link": true
    },
    "kernelspec": {
      "name": "python3",
      "display_name": "Python 3"
    }
  },
  "cells": [
    {
      "cell_type": "markdown",
      "metadata": {
        "id": "view-in-github",
        "colab_type": "text"
      },
      "source": [
        "<a href=\"https://colab.research.google.com/github/RomaricKanyamibwa/Normalisation-de-concepts-medicaux/blob/master/word2vec.ipynb\" target=\"_parent\"><img src=\"https://colab.research.google.com/assets/colab-badge.svg\" alt=\"Open In Colab\"/></a>"
      ]
    },
    {
      "metadata": {
        "id": "i44XEEMoHyP3",
        "colab_type": "code",
        "outputId": "b63cb966-082e-4698-abad-ed08a2c00f15",
        "colab": {
          "base_uri": "https://localhost:8080/",
          "height": 343
        }
      },
      "cell_type": "code",
      "source": [
        "!pip3 install --upgrade gensim"
      ],
      "execution_count": 0,
      "outputs": [
        {
          "output_type": "stream",
          "text": [
            "Requirement already up-to-date: gensim in /usr/local/lib/python3.6/dist-packages (3.6.0)\n",
            "Requirement already satisfied, skipping upgrade: six>=1.5.0 in /usr/local/lib/python3.6/dist-packages (from gensim) (1.11.0)\n",
            "Requirement already satisfied, skipping upgrade: smart-open>=1.2.1 in /usr/local/lib/python3.6/dist-packages (from gensim) (1.7.1)\n",
            "Requirement already satisfied, skipping upgrade: numpy>=1.11.3 in /usr/local/lib/python3.6/dist-packages (from gensim) (1.14.6)\n",
            "Requirement already satisfied, skipping upgrade: scipy>=0.18.1 in /usr/local/lib/python3.6/dist-packages (from gensim) (1.1.0)\n",
            "Requirement already satisfied, skipping upgrade: boto3 in /usr/local/lib/python3.6/dist-packages (from smart-open>=1.2.1->gensim) (1.9.62)\n",
            "Requirement already satisfied, skipping upgrade: requests in /usr/local/lib/python3.6/dist-packages (from smart-open>=1.2.1->gensim) (2.18.4)\n",
            "Requirement already satisfied, skipping upgrade: bz2file in /usr/local/lib/python3.6/dist-packages (from smart-open>=1.2.1->gensim) (0.98)\n",
            "Requirement already satisfied, skipping upgrade: boto>=2.32 in /usr/local/lib/python3.6/dist-packages (from smart-open>=1.2.1->gensim) (2.49.0)\n",
            "Requirement already satisfied, skipping upgrade: botocore<1.13.0,>=1.12.62 in /usr/local/lib/python3.6/dist-packages (from boto3->smart-open>=1.2.1->gensim) (1.12.62)\n",
            "Requirement already satisfied, skipping upgrade: s3transfer<0.2.0,>=0.1.10 in /usr/local/lib/python3.6/dist-packages (from boto3->smart-open>=1.2.1->gensim) (0.1.13)\n",
            "Requirement already satisfied, skipping upgrade: jmespath<1.0.0,>=0.7.1 in /usr/local/lib/python3.6/dist-packages (from boto3->smart-open>=1.2.1->gensim) (0.9.3)\n",
            "Requirement already satisfied, skipping upgrade: certifi>=2017.4.17 in /usr/local/lib/python3.6/dist-packages (from requests->smart-open>=1.2.1->gensim) (2018.11.29)\n",
            "Requirement already satisfied, skipping upgrade: idna<2.7,>=2.5 in /usr/local/lib/python3.6/dist-packages (from requests->smart-open>=1.2.1->gensim) (2.6)\n",
            "Requirement already satisfied, skipping upgrade: urllib3<1.23,>=1.21.1 in /usr/local/lib/python3.6/dist-packages (from requests->smart-open>=1.2.1->gensim) (1.22)\n",
            "Requirement already satisfied, skipping upgrade: chardet<3.1.0,>=3.0.2 in /usr/local/lib/python3.6/dist-packages (from requests->smart-open>=1.2.1->gensim) (3.0.4)\n",
            "Requirement already satisfied, skipping upgrade: python-dateutil<3.0.0,>=2.1; python_version >= \"2.7\" in /usr/local/lib/python3.6/dist-packages (from botocore<1.13.0,>=1.12.62->boto3->smart-open>=1.2.1->gensim) (2.5.3)\n",
            "Requirement already satisfied, skipping upgrade: docutils>=0.10 in /usr/local/lib/python3.6/dist-packages (from botocore<1.13.0,>=1.12.62->boto3->smart-open>=1.2.1->gensim) (0.14)\n"
          ],
          "name": "stdout"
        }
      ]
    },
    {
      "metadata": {
        "id": "pVjvOoGUGJhc",
        "colab_type": "code",
        "colab": {}
      },
      "cell_type": "code",
      "source": [
        "\n",
        "import pandas as pd\n",
        "#import collections\n",
        "from pprint import pprint  # pretty-printer\n",
        "import gensim\n",
        "from gensim.models import word2vec\n",
        "from gensim.parsing.preprocessing import remove_stopwords\n",
        "import logging"
      ],
      "execution_count": 0,
      "outputs": []
    },
    {
      "metadata": {
        "id": "d9Mkk97CKVyB",
        "colab_type": "code",
        "outputId": "4ed177fa-a130-48f6-cd0a-6fc668bffe28",
        "colab": {
          "base_uri": "https://localhost:8080/",
          "height": 68
        }
      },
      "cell_type": "code",
      "source": [
        "%pwd\n",
        "%cd /home/\n",
        "%ls -l"
      ],
      "execution_count": 0,
      "outputs": [
        {
          "output_type": "stream",
          "text": [
            "/home\n",
            "total 4\n",
            "drwxr-xr-x 2 root root 4096 Dec  8 15:38 \u001b[0m\u001b[01;34mdrive\u001b[0m/\n"
          ],
          "name": "stdout"
        }
      ]
    },
    {
      "metadata": {
        "id": "Ga-iU27COCKJ",
        "colab_type": "code",
        "outputId": "8e6b88cc-6e96-4c51-e909-7e7c2edc30f9",
        "colab": {
          "base_uri": "https://localhost:8080/",
          "height": 360
        }
      },
      "cell_type": "code",
      "source": [
        "!apt-get install -y -qq software-properties-common python-software-properties module-init-tools\n",
        "!add-apt-repository -y ppa:alessandro-strada/ppa 2>&1 > /dev/null\n",
        "!apt-get update -qq 2>&1 > /dev/null\n",
        "!apt-get -y install -qq google-drive-ocamlfuse fuse\n",
        "from google.colab import auth\n",
        "auth.authenticate_user()\n",
        "from oauth2client.client import GoogleCredentials\n",
        "creds = GoogleCredentials.get_application_default()\n",
        "import getpass\n",
        "!google-drive-ocamlfuse -headless -id={creds.client_id} -secret={creds.client_secret} < /dev/null 2>&1 | grep URL\n",
        "vcode = getpass.getpass()\n",
        "!echo {vcode} | google-drive-ocamlfuse -headless -id={creds.client_id} -secret={creds.client_secret}\n"
      ],
      "execution_count": 0,
      "outputs": [
        {
          "output_type": "stream",
          "text": [
            "E: Package 'python-software-properties' has no installation candidate\n",
            "Selecting previously unselected package libfuse2:amd64.\n",
            "(Reading database ... 22298 files and directories currently installed.)\n",
            "Preparing to unpack .../libfuse2_2.9.7-1ubuntu1_amd64.deb ...\n",
            "Unpacking libfuse2:amd64 (2.9.7-1ubuntu1) ...\n",
            "Selecting previously unselected package fuse.\n",
            "Preparing to unpack .../fuse_2.9.7-1ubuntu1_amd64.deb ...\n",
            "Unpacking fuse (2.9.7-1ubuntu1) ...\n",
            "Selecting previously unselected package google-drive-ocamlfuse.\n",
            "Preparing to unpack .../google-drive-ocamlfuse_0.7.1-0ubuntu2~ubuntu18.04.1_amd64.deb ...\n",
            "Unpacking google-drive-ocamlfuse (0.7.1-0ubuntu2~ubuntu18.04.1) ...\n",
            "Setting up libfuse2:amd64 (2.9.7-1ubuntu1) ...\n",
            "Processing triggers for libc-bin (2.27-3ubuntu1) ...\n",
            "Setting up fuse (2.9.7-1ubuntu1) ...\n",
            "Setting up google-drive-ocamlfuse (0.7.1-0ubuntu2~ubuntu18.04.1) ...\n",
            "Please, open the following URL in a web browser: https://accounts.google.com/o/oauth2/auth?client_id=32555940559.apps.googleusercontent.com&redirect_uri=urn%3Aietf%3Awg%3Aoauth%3A2.0%3Aoob&scope=https%3A%2F%2Fwww.googleapis.com%2Fauth%2Fdrive&response_type=code&access_type=offline&approval_prompt=force\n",
            "··········\n",
            "Please, open the following URL in a web browser: https://accounts.google.com/o/oauth2/auth?client_id=32555940559.apps.googleusercontent.com&redirect_uri=urn%3Aietf%3Awg%3Aoauth%3A2.0%3Aoob&scope=https%3A%2F%2Fwww.googleapis.com%2Fauth%2Fdrive&response_type=code&access_type=offline&approval_prompt=force\n",
            "Please enter the verification code: Access token retrieved correctly.\n"
          ],
          "name": "stdout"
        }
      ]
    },
    {
      "metadata": {
        "id": "z2gSBYTeOqPx",
        "colab_type": "code",
        "outputId": "9b3e7e09-f2ea-4093-f020-cbe7b4a39e91",
        "colab": {
          "base_uri": "https://localhost:8080/",
          "height": 340
        }
      },
      "cell_type": "code",
      "source": [
        "!mkdir drive\n",
        "!google-drive-ocamlfuse drive\n",
        "!ls drive/\n",
        "!cd drive/Coolab/\n",
        "!ls -l"
      ],
      "execution_count": 0,
      "outputs": [
        {
          "output_type": "stream",
          "text": [
            "mkdir: cannot create directory ‘drive’: File exists\n",
            "fuse: mountpoint is not empty\n",
            "fuse: if you are sure this is safe, use the 'nonempty' mount option\n",
            " code\n",
            "'Colab Notebooks'\n",
            " Coolab\n",
            " deeplearningbook.pdf\n",
            " drive-download-20181103T154811Z-001.zip\n",
            " kusnerb15.pdf\n",
            " norm\n",
            " raw\n",
            " sujet-normalisation.odp\n",
            " tokenized\n",
            " Training_test\n",
            " Word2VecModels\n",
            " word2vec-sg-s0100-w08-m004-ns05-s0.001-a0.025-i05.zip\n",
            " word2vec-sg-s0200-w08-m004-ns05-s0.001-a0.025-i05.zip\n",
            "total 4\n",
            "drwxr-xr-x 2 root root 4096 Dec  8 15:38 drive\n"
          ],
          "name": "stdout"
        }
      ]
    },
    {
      "metadata": {
        "id": "OGyuHLUKF_yY",
        "colab_type": "code",
        "outputId": "270ee617-68fb-4480-c670-4c0f26c5163f",
        "colab": {
          "base_uri": "https://localhost:8080/",
          "height": 34
        }
      },
      "cell_type": "code",
      "source": [
        "google_drive=\"drive/Coolab/\"\n",
        "df_disorders=pd.read_csv(\"drive/Coolab/Disorders.csv\",names=[\"Code\",\"Disorder\",\"GenDisorder\"],sep=\"\\t\") \n",
        "Codes=df_disorders['Code']#Y vector (outputs)\n",
        "Disorders=df_disorders['Disorder']#X vector(test)\n",
        "GenDisorders=df_disorders['GenDisorder']#X vector (train)\n",
        "\n",
        "Disorders=[m+\" \"+n for m,n in zip(Disorders,GenDisorders)]\n",
        "print(Disorders[30])\n",
        "for i,j in enumerate(zip(Codes,Disorders)):\n",
        "  if('postaural' in j):\n",
        "    print(j)"
      ],
      "execution_count": 0,
      "outputs": [
        {
          "output_type": "stream",
          "text": [
            "postaural fistula postauricular fistula\n"
          ],
          "name": "stdout"
        }
      ]
    },
    {
      "metadata": {
        "id": "B83DOAhAIXEW",
        "colab_type": "code",
        "colab": {}
      },
      "cell_type": "code",
      "source": [
        "def input_tokenize(input_list):\n",
        "    \"\"\"This method reads the input file which is in gzip format\"\"\"\n",
        "    \n",
        "    logging.info(\"reading file {0}...this may take a while\".format(input_list))\n",
        "    \n",
        "    for i, line in enumerate (input_list): \n",
        "        if (i%10000==0):\n",
        "            logging.info (\"read {0} reviews\".format (i))\n",
        "        # do some pre-processing and return a list of words for each review text\n",
        "        line=remove_stopwords(line)\n",
        "        yield gensim.utils.simple_preprocess(line,min_len=3)"
      ],
      "execution_count": 0,
      "outputs": []
    },
    {
      "metadata": {
        "id": "pYpjiGonJTQA",
        "colab_type": "code",
        "colab": {}
      },
      "cell_type": "code",
      "source": [
        "logging.info (\"Tokenization\")\n",
        "Disorders_corpus=(input_tokenize(Disorders))\n",
        "GenDisorders_corpus=(input_tokenize(GenDisorders))\n",
        "logging.info (\"Done Tokenization\")\n",
        "\n",
        "Corpus=[[m]+n for m,n in zip(Codes,Disorders_corpus)]\n",
        "#print(Disorders_corpus[30])"
      ],
      "execution_count": 0,
      "outputs": []
    },
    {
      "metadata": {
        "id": "zfwwq7SB_plK",
        "colab_type": "code",
        "outputId": "a39dc154-d1e1-44a4-ffed-e2fa89cb3572",
        "colab": {
          "base_uri": "https://localhost:8080/",
          "height": 51
        }
      },
      "cell_type": "code",
      "source": [
        "print(\"DisordrersLen:\",len(Disorders))\n",
        "print(\"CodesLen:\",len(Codes))"
      ],
      "execution_count": 0,
      "outputs": [
        {
          "output_type": "stream",
          "text": [
            "DisordrersLen: 623509\n",
            "CodesLen: 623509\n"
          ],
          "name": "stdout"
        }
      ]
    },
    {
      "metadata": {
        "id": "6Jau1N8nQwo_",
        "colab_type": "code",
        "outputId": "a4ce91c7-6b46-4776-99c8-2bbab9ed87c6",
        "colab": {
          "base_uri": "https://localhost:8080/",
          "height": 51
        }
      },
      "cell_type": "code",
      "source": [
        "\n",
        "#for i,k in enumerate(Corpus):\n",
        " # print(k)\n",
        "  #if i>10:break\n",
        "\n",
        "print(\"Iterator\")\n",
        "iter_Corpus=iter(Corpus)\n",
        "for i,k in enumerate(iter_Corpus):\n",
        "  if  i==30:\n",
        "    print(k)"
      ],
      "execution_count": 0,
      "outputs": [
        {
          "output_type": "stream",
          "text": [
            "Iterator\n",
            "['C0395905', 'postaural', 'fistula', 'postauricular', 'fistula']\n"
          ],
          "name": "stdout"
        }
      ]
    },
    {
      "metadata": {
        "id": "mPE7ppdRP6WQ",
        "colab_type": "code",
        "colab": {}
      },
      "cell_type": "code",
      "source": [
        "def gensim_demo(sentences):\n",
        "    logging.basicConfig(format='%(asctime)s : %(levelname)s : %(message)s', level=logging.INFO)\n",
        "    model = word2vec.Word2Vec(sentences, iter=20, min_count=1, size=300, workers=6)\n",
        "\n",
        "    # get the word vector of \"the\"\n",
        "    #print(model.wv['the'])\n",
        "\n",
        "    # get the most common words\n",
        "    print(model.wv.index2word[0], model.wv.index2word[1], model.wv.index2word[2])\n",
        "\n",
        "    # get the least common words\n",
        "    vocab_size = len(model.wv.vocab)\n",
        "    print(model.wv.index2word[vocab_size - 1], model.wv.index2word[vocab_size - 2], model.wv.index2word[vocab_size - 3])\n",
        "\n",
        "    # find the index of the 2nd most common word (\"of\")\n",
        "#    print('Index of \"of\" is: {}'.format(model.wv.vocab['of'].index))\n",
        "\n",
        "    # some similarity fun\n",
        "    print(model.wv.similarity('fracture', 'bone'), model.wv.similarity('broken', 'arm'))\n",
        "\n",
        "    # what doesn't fit?\n",
        "    print(model.wv.doesnt_match(\"green blue red zebra\".split()))\n",
        "\n",
        "#    str_data = read_data(root_path + filename)\n",
        "#    index_data = convert_data_to_index(str_data, model.wv)\n",
        "#    print(str_data[:4], index_data[:4])\n",
        "\n",
        "    # save and reload the model\n",
        "    model.save(\"drive/Coolab/Disorders\")\n",
        "    return model\n",
        "\n"
      ],
      "execution_count": 0,
      "outputs": []
    },
    {
      "metadata": {
        "id": "Tz5MbPvaYpx9",
        "colab_type": "code",
        "outputId": "44017ee5-69e4-4245-90c3-fe93fcc5bbf4",
        "colab": {
          "base_uri": "https://localhost:8080/",
          "height": 275
        }
      },
      "cell_type": "code",
      "source": [
        "\n",
        "#print(\"size corpus:\",len(list(iter_Corpus)))\n",
        "logging.info (\"Tokenization\")\n",
        "Disorders_corpus=(input_tokenize(Disorders))\n",
        "GenDisorders_corpus=(input_tokenize(GenDisorders))\n",
        "logging.info (\"Done Tokenization\")\n",
        "#pense à cree des fichier avec les donées\n",
        "\n",
        "class MyCorpus(object):\n",
        "  def __init__(self,Codes,GenDisorders_corpus):\n",
        "    self.Codes = Codes\n",
        "    self.GenDisorders_corpus=GenDisorders_corpus\n",
        "\n",
        "  def __iter__(self):\n",
        "    for m,n in zip(self.Codes,self.GenDisorders_corpus):\n",
        "      yield [m]+n\n",
        "\n",
        "#Corpus=MyCorpus(Codes,GenDisorders_corpus)\n",
        "Corpus=[[m]+n for m,n in zip(Codes,Disorders_corpus)]\n",
        "print(\"Corpus\")\n",
        "for i,k in enumerate(Corpus):\n",
        "  print(k)\n",
        "  if i>5:break\n",
        "\n",
        "iter_Corpus=(Corpus)\n",
        "\n",
        "model=gensim_demo(Corpus)\n"
      ],
      "execution_count": 0,
      "outputs": [
        {
          "output_type": "stream",
          "text": [
            "Corpus\n",
            "['C0423346', 'cupuliform', 'cataract', 'cupuliform', 'cataract']\n",
            "['C4510595', 'acquired', 'hallux', 'limitus', 'right', 'great', 'toe', 'acquired', 'hallux', 'limitus', 'right', 'great', 'toe']\n",
            "['C1394389', 'cyst', 'ora', 'serrata', 'cyst', 'ora', 'serrata', 'retina']\n",
            "['C1394389', 'cyst', 'ora', 'serrata', 'cyst', 'ora', 'serrata', 'retina']\n",
            "['C1394389', 'cyst', 'ora', 'serrata', 'cyst', 'ora', 'serrata', 'retina']\n",
            "['C1394389', 'ora', 'serrata', 'cyst', 'cyst', 'ora', 'serrata', 'retina']\n",
            "['C1394389', 'ora', 'serrata', 'cyst', 'cyst', 'ora', 'serrata', 'retina']\n",
            "fracture unspecified encounter\n",
            "C2214472 C0857024 C2081567\n",
            "0.60549426 -0.040414672\n"
          ],
          "name": "stdout"
        },
        {
          "output_type": "stream",
          "text": [
            "/usr/local/lib/python3.6/dist-packages/gensim/matutils.py:737: FutureWarning: Conversion of the second argument of issubdtype from `int` to `np.signedinteger` is deprecated. In future, it will be treated as `np.int64 == np.dtype(int).type`.\n",
            "  if np.issubdtype(vec.dtype, np.int):\n"
          ],
          "name": "stderr"
        },
        {
          "output_type": "stream",
          "text": [
            "zebra\n"
          ],
          "name": "stdout"
        }
      ]
    },
    {
      "metadata": {
        "id": "Xdwvep2meNGm",
        "colab_type": "code",
        "colab": {}
      },
      "cell_type": "code",
      "source": [
        "model.most_similar('fracture')\n",
        "\n",
        "#model.most_similar('C3714535')\n"
      ],
      "execution_count": 0,
      "outputs": []
    },
    {
      "metadata": {
        "id": "CDIQbYteFKi1",
        "colab_type": "code",
        "outputId": "c49dd5e8-28e8-4d96-ef7e-b87bc5b51dd4",
        "colab": {
          "base_uri": "https://localhost:8080/",
          "height": 34
        }
      },
      "cell_type": "code",
      "source": [
        "len(model.wv['postaural'])\n",
        "#(model.wv.vocab)"
      ],
      "execution_count": 0,
      "outputs": [
        {
          "output_type": "execute_result",
          "data": {
            "text/plain": [
              "300"
            ]
          },
          "metadata": {
            "tags": []
          },
          "execution_count": 38
        }
      ]
    }
  ]
}