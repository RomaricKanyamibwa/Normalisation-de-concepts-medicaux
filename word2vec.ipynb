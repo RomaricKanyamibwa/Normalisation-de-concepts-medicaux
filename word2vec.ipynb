{
  "nbformat": 4,
  "nbformat_minor": 0,
  "metadata": {
    "colab": {
      "name": "word2vec.ipynb",
      "version": "0.3.2",
      "provenance": [],
      "collapsed_sections": [],
      "include_colab_link": true
    },
    "kernelspec": {
      "name": "python3",
      "display_name": "Python 3"
    }
  },
  "cells": [
    {
      "cell_type": "markdown",
      "metadata": {
        "id": "view-in-github",
        "colab_type": "text"
      },
      "source": [
        "<a href=\"https://colab.research.google.com/github/RomaricKanyamibwa/Normalisation-de-concepts-medicaux/blob/master/word2vec.ipynb\" target=\"_parent\"><img src=\"https://colab.research.google.com/assets/colab-badge.svg\" alt=\"Open In Colab\"/></a>"
      ]
    },
    {
      "metadata": {
        "id": "i44XEEMoHyP3",
        "colab_type": "code",
        "colab": {}
      },
      "cell_type": "code",
      "source": [
        "!pip3 install --upgrade gensim"
      ],
      "execution_count": 0,
      "outputs": []
    },
    {
      "metadata": {
        "id": "pVjvOoGUGJhc",
        "colab_type": "code",
        "colab": {}
      },
      "cell_type": "code",
      "source": [
        "\n",
        "import pandas as pd\n",
        "#import collections\n",
        "from pprint import pprint  # pretty-printer\n",
        "import gensim\n",
        "from gensim.models import word2vec\n",
        "from gensim.parsing.preprocessing import remove_stopwords\n",
        "import logging"
      ],
      "execution_count": 0,
      "outputs": []
    },
    {
      "metadata": {
        "id": "d9Mkk97CKVyB",
        "colab_type": "code",
        "outputId": "d109cc35-6598-4ebc-e5f1-267b5c7ca3ad",
        "colab": {
          "base_uri": "https://localhost:8080/",
          "height": 51
        }
      },
      "cell_type": "code",
      "source": [
        "%pwd\n",
        "%cd /home/\n",
        "%ls -l"
      ],
      "execution_count": 8,
      "outputs": [
        {
          "output_type": "stream",
          "text": [
            "/home\n",
            "total 0\n"
          ],
          "name": "stdout"
        }
      ]
    },
    {
      "metadata": {
        "id": "Ga-iU27COCKJ",
        "colab_type": "code",
        "outputId": "5fd25953-4217-47d5-b285-81e8275f79b0",
        "colab": {
          "base_uri": "https://localhost:8080/",
          "height": 122
        }
      },
      "cell_type": "code",
      "source": [
        "!apt-get install -y -qq software-properties-common python-software-properties module-init-tools\n",
        "!add-apt-repository -y ppa:alessandro-strada/ppa 2>&1 > /dev/null\n",
        "!apt-get update -qq 2>&1 > /dev/null\n",
        "!apt-get -y install -qq google-drive-ocamlfuse fuse\n",
        "from google.colab import auth\n",
        "auth.authenticate_user()\n",
        "from oauth2client.client import GoogleCredentials\n",
        "creds = GoogleCredentials.get_application_default()\n",
        "import getpass\n",
        "!google-drive-ocamlfuse -headless -id={creds.client_id} -secret={creds.client_secret} < /dev/null 2>&1 | grep URL\n",
        "vcode = getpass.getpass()\n",
        "!echo {vcode} | google-drive-ocamlfuse -headless -id={creds.client_id} -secret={creds.client_secret}\n"
      ],
      "execution_count": 9,
      "outputs": [
        {
          "output_type": "stream",
          "text": [
            "E: Package 'python-software-properties' has no installation candidate\n",
            "Please, open the following URL in a web browser: https://accounts.google.com/o/oauth2/auth?client_id=32555940559.apps.googleusercontent.com&redirect_uri=urn%3Aietf%3Awg%3Aoauth%3A2.0%3Aoob&scope=https%3A%2F%2Fwww.googleapis.com%2Fauth%2Fdrive&response_type=code&access_type=offline&approval_prompt=force\n",
            "··········\n",
            "Please, open the following URL in a web browser: https://accounts.google.com/o/oauth2/auth?client_id=32555940559.apps.googleusercontent.com&redirect_uri=urn%3Aietf%3Awg%3Aoauth%3A2.0%3Aoob&scope=https%3A%2F%2Fwww.googleapis.com%2Fauth%2Fdrive&response_type=code&access_type=offline&approval_prompt=force\n",
            "Please enter the verification code: Access token retrieved correctly.\n"
          ],
          "name": "stdout"
        }
      ]
    },
    {
      "metadata": {
        "id": "z2gSBYTeOqPx",
        "colab_type": "code",
        "outputId": "09c1a61a-0278-4d0c-ac49-b437febecd00",
        "colab": {
          "base_uri": "https://localhost:8080/",
          "height": 289
        }
      },
      "cell_type": "code",
      "source": [
        "!mkdir drive\n",
        "!google-drive-ocamlfuse drive\n",
        "!ls drive/\n",
        "!cd drive/Coolab/\n",
        "!ls -l"
      ],
      "execution_count": 10,
      "outputs": [
        {
          "output_type": "stream",
          "text": [
            " code\n",
            "'Colab Notebooks'\n",
            " Coolab\n",
            " deeplearningbook.pdf\n",
            " drive-download-20181103T154811Z-001.zip\n",
            " kusnerb15.pdf\n",
            " norm\n",
            " raw\n",
            " sujet-normalisation.odp\n",
            " tokenized\n",
            " Training_test\n",
            " Word2VecModels\n",
            " word2vec-sg-s0100-w08-m004-ns05-s0.001-a0.025-i05.zip\n",
            " word2vec-sg-s0200-w08-m004-ns05-s0.001-a0.025-i05.zip\n",
            "total 4\n",
            "drwxr-xr-x 2 root root 4096 Dec 11 21:36 drive\n"
          ],
          "name": "stdout"
        }
      ]
    },
    {
      "metadata": {
        "id": "OGyuHLUKF_yY",
        "colab_type": "code",
        "outputId": "b61f38fa-a389-4fd4-c597-32b5e582d550",
        "colab": {
          "base_uri": "https://localhost:8080/",
          "height": 34
        }
      },
      "cell_type": "code",
      "source": [
        "google_drive=\"drive/Coolab/\"\n",
        "df_disorders=pd.read_csv(\"drive/Coolab/Disorders.csv\",names=[\"Code\",\"Disorder\",\"GenDisorder\"],sep=\"\\t\") \n",
        "Codes=df_disorders['Code']#Y vector (outputs)\n",
        "Disorders=df_disorders['Disorder']#X vector(test)\n",
        "GenDisorders=df_disorders['GenDisorder']#X vector (train)\n",
        "\n",
        "Disorders=[m+\" \"+n for m,n in zip(Disorders,GenDisorders)]\n",
        "print(Disorders[30])\n",
        "for i,j in enumerate(zip(Codes,Disorders)):\n",
        "  if('postaural' in j):\n",
        "    print(j)"
      ],
      "execution_count": 11,
      "outputs": [
        {
          "output_type": "stream",
          "text": [
            "postaural fistula postauricular fistula\n"
          ],
          "name": "stdout"
        }
      ]
    },
    {
      "metadata": {
        "id": "B83DOAhAIXEW",
        "colab_type": "code",
        "colab": {}
      },
      "cell_type": "code",
      "source": [
        "def input_tokenize(input_list):\n",
        "    \"\"\"This method reads the input file which is in gzip format\"\"\"\n",
        "    \n",
        "    logging.info(\"reading file {0}...this may take a while\".format(input_list))\n",
        "    \n",
        "    for i, line in enumerate (input_list): \n",
        "        if (i%10000==0):\n",
        "            logging.info (\"read {0} reviews\".format (i))\n",
        "        # do some pre-processing and return a list of words for each review text\n",
        "        line_process=remove_stopwords(line)\n",
        "        line_process=gensim.utils.simple_preprocess(line_process,min_len=3,max_len=30)\n",
        "        if not line_process:\n",
        "          print(line_process,\"before preprocess:\",line)\n",
        "          #line_process=line.split()\n",
        "        else:    \n",
        "          yield line_process"
      ],
      "execution_count": 0,
      "outputs": []
    },
    {
      "metadata": {
        "id": "pYpjiGonJTQA",
        "colab_type": "code",
        "outputId": "92500586-f842-4b5c-b2fe-5e627852a995",
        "colab": {
          "base_uri": "https://localhost:8080/",
          "height": 3757
        }
      },
      "cell_type": "code",
      "source": [
        "logging.info (\"Tokenization\")\n",
        "Disorders_corpus=(input_tokenize(Disorders))\n",
        "GenDisorders_corpus=(input_tokenize(GenDisorders))\n",
        "logging.info (\"Done Tokenization\")\n",
        "\n",
        "Corpus=[[m]+n for m,n in zip(Codes,Disorders_corpus)]\n",
        "#print(Disorders_corpus[30])"
      ],
      "execution_count": 22,
      "outputs": [
        {
          "output_type": "stream",
          "text": [
            "[] before preprocess: t(11;17)(q13;q21) t(11;17)(q13;q21)\n",
            "[] before preprocess: t(1;3)(p36;q23-25) t(1;3)(p36;q23-25)\n",
            "[] before preprocess: t(14;18)(q32;q21) t(14;18)(q32;q21)\n",
            "[] before preprocess: t(12;22)(p13;q11) t(12;22)(p13;q11)\n",
            "[] before preprocess: t(4;14) t(4;14)\n",
            "[] before preprocess: t(16;16) t(16;16)\n",
            "[] before preprocess: t(2;19)(p23;p13) t(2;19)(p23;p13)\n",
            "[] before preprocess: t(15;17)(q22;q12) t(15;17)(q22;q12)\n",
            "[] before preprocess: t(17;21)(q11;q22) t(17;21)(q11;q22)\n",
            "[] before preprocess: t(1;2)(p22;p12) t(1;2)(p22;p12)\n",
            "[] before preprocess: t(x;2)(q11-12;p23) t(x;2)(q11-12;p23)\n",
            "[] before preprocess: t(1;14) t(1;14)\n",
            "[] before preprocess: t(x;1)(p11.2;q21) t(x;1)(p11.2;q21)\n",
            "[] before preprocess: t(11;12)(p15;p13) t(11;12)(p15;p13)\n",
            "[] before preprocess: t(6;9)(p23;q34) t(6;9)(p23;q34.1)\n",
            "[] before preprocess: t(6;9)(p23;q34.1) t(6;9)(p23;q34.1)\n",
            "[] before preprocess: t(15;22)(p11;q11) t(15;22)(p11;q11)\n",
            "[] before preprocess: t(4;22)(q12;q11) t(4;22)(q12;q11)\n",
            "[] before preprocess: t(9;11)(p22;q23) t(9;11)(p22.3;q23.3)\n",
            "[] before preprocess: t(9;11)(p22.3;q23.3) t(9;11)(p22.3;q23.3)\n",
            "[] before preprocess: t(3;21)(q21;q26) t(3;21)(q21;q26)\n",
            "[] before preprocess: t(21;22) t(21;22)\n",
            "[] before preprocess: t(8;22)(p11;q11) t(8;22)(p11;q11)\n",
            "[] before preprocess: t(11;14)(q13;q32) t(11;14)(q13;q32)\n",
            "[] before preprocess: t(16;21)(p11;q22) t(16;21)(p11;q22)\n",
            "[] before preprocess: t(1;14)(p22;q32) t(1;14)(p22;q32)\n",
            "[] before preprocess: t(9;22)(q34.1;q11.2) t(9;22)(q34.1;q11.2)\n",
            "[] before preprocess: t(9;22)(q34;q11) t(9;22)(q34.1;q11.2)\n",
            "[] before preprocess: t(3;12)(q13;q24) t(3;12)(q13;q24)\n",
            "[] before preprocess: t(5;17)(q35;q21) t(5;17)(q35;q21)\n",
            "[] before preprocess: t(11;14) t(11;14)\n",
            "[] before preprocess: t(2;17)(p23;q23) t(2;17)(p23;q23)\n",
            "[] before preprocess: t(2;22)(q33;q12) t(2;22)(q33;q12)\n",
            "[] before preprocess: t(8;22)(q24;q11) t(8;22)(q24;q11)\n",
            "[] before preprocess: t(12;21)(p13;q22) t(12;21)(p13.2;q22.1)\n",
            "[] before preprocess: t(12;21)(p13.2;q22.1) t(12;21)(p13.2;q22.1)\n",
            "[] before preprocess: t(9;22)(q22-31;q12) t(9;22)(q22-31;q12)\n",
            "[] before preprocess: t(8;14)(q24;q11) t(8;14)(q24;q11)\n",
            "[] before preprocess: t(12;16)(q13;p11) t(12;16)(q13;p11)\n",
            "[] before preprocess: t(x;1)(p11.2;p34) t(x;1)(p11.2;p34)\n",
            "[] before preprocess: t(14;18)(q32;q11) t(14;18)(q32;q11)\n",
            "[] before preprocess: t(11;16)(p11;p11) t(11;16)(p11;p11)\n",
            "[] before preprocess: t(11;14)(p13;q11) t(11;14)(p13;q11)\n",
            "[] before preprocess: t(7;12)(q36;p13) t(7;12)(q36;p13)\n",
            "[] before preprocess: t(4;14)(p16;q32) t(4;14)(p16;q32)\n",
            "[] before preprocess: t(3;12)(q27-28;q13-15) t(3;12)(q27-q28;q13-q15)\n",
            "[] before preprocess: t(3;12)(q27-q28;q13-q15) t(3;12)(q27-q28;q13-q15)\n",
            "[] before preprocess: t(4;11)(q21;q23) t(4;11)(q21;q23)\n",
            "[] before preprocess: t(2;5)(p23;q35) t(2;5)(p23;q35)\n",
            "[] before preprocess: t(2;5) t(2;5)(p23;q35)\n",
            "[] before preprocess: i(1)(q10) i(1)(q10)\n",
            "[] before preprocess: t(2;12)(q35-37;q13-15) t(2;12)(q35-37;q13-15)\n",
            "[] before preprocess: t(11;15)( p15;q35) t(11;15)( p15;q35)\n",
            "[] before preprocess: t(9;11)(q21;q23) t(9;11)(q21;q23)\n",
            "[] before preprocess: t(9;12)(q34;p13) t(9;12)(q34;p13)\n",
            "[] before preprocess: t(4;19)(q35;q13) t(4;19)(q35;q13)\n",
            "[] before preprocess: t(6;11)(q27;q23) t(6;11)(q27;q23)\n",
            "[] before preprocess: t(7;16)(q33;p11) t(7;16)(q33;p11)\n",
            "[] before preprocess: t(11;19)(q23;p13.3) t(11;19)(q23;p13.3)\n",
            "[] before preprocess: t(2;12)(p22-24;q13-15) t(2;12)(p22-24;q13-15)\n",
            "[] before preprocess: t(12;22)(q13;q12) t(12;22)(q13;q12)\n",
            "[] before preprocess: t(8;14)(q24;q32) t(8;14)(q24;q32)\n",
            "[] before preprocess: t(8;8)(p11-12;q12) t(8;8)(p11-12;q12)\n",
            "[] before preprocess: t(13;22)(q22;q13.3) t(13;22)(q22;q13.3)\n",
            "[] before preprocess: t(14;19)(q32;q13.1) t(14;19)(q32;q13.1)\n",
            "[] before preprocess: t(2;13) t(2;13)\n",
            "[] before preprocess: t(11;17)(q23;q21) t(11;17)(q23;q21)\n",
            "[] before preprocess: t(5;12)(q33;p13) t(5;12)(q33;p13)\n",
            "[] before preprocess: t(11;16)(q13;p13) t(11;16)(q13;p13)\n",
            "[] before preprocess: t(16;16)(p13;q22) t(16;16)(p13.1;q22)\n",
            "[] before preprocess: t(16;16)(p13.1q22) t(16;16)(p13.1;q22)\n",
            "[] before preprocess: t(16;16)(p13q22) t(16;16)(p13.1;q22)\n",
            "[] before preprocess: t(16;16)(p13.1;q22) t(16;16)(p13.1;q22)\n",
            "[] before preprocess: t(3;14)(q27;q32) t(3;14)(q27;q32)\n",
            "[] before preprocess: t(7;17)(p15;q21) t(7;17)(p15;q21)\n",
            "[] before preprocess: t(9;12)(p24;p13) t(9;12)(p24;p13)\n",
            "[] before preprocess: t(11;19)(q23;p13.1) t(11;19)(q23;p13.1)\n",
            "[] before preprocess: t(10;14)(q24;q11) t(10;14)(q24;q11)\n",
            "[] before preprocess: t(5;11)(q35;p15) t(5;11)(q35;p15)\n",
            "[] before preprocess: t(17;22)(q22;q13) t(17;22)(q22;q13)\n",
            "[] before preprocess: t(1;12)(p32-34;q13-15) t(1;12)(p32-34;q13-15)\n",
            "[] before preprocess: t(3;4)(q27;p11) t(3;4)(q27;p11)\n",
            "[] before preprocess: t(10;11)(p12;q23) t(10;11)(p12;q23)\n",
            "[] before preprocess: t(16;17)(q22;p13) t(16;17)(q22;p13)\n",
            "[] before preprocess: t(3;3)(q21.3;q26.2) t(3;3)(q21.3;q26.2)\n",
            "[] before preprocess: t(3;3)(q21;q26.2) t(3;3)(q21.3;q26.2)\n",
            "[] before preprocess: t(1;14)(p32;q11) t(1;14)(p32;q11)\n",
            "[] before preprocess: t(11;22)(p13;q12) t(11;22)(p13;q12)\n",
            "[] before preprocess: t(2;8) t(2;8)\n",
            "[] before preprocess: t(8;22) t(8;22)\n",
            "[] before preprocess: t(2;3)(p23;q21) t(2;3)(p23;q21)\n",
            "[] before preprocess: t(17;22)(q21;q12) t(17;22)(q21;q12)\n",
            "[] before preprocess: t(3;8)(p12;q21) t(3;8)(p12;q21)\n",
            "[] before preprocess: t(17;19)(q22;p13) t(17;19)(q22;p13)\n",
            "[] before preprocess: t(12;15)(p13;q25) t(12;15)(p13;q25)\n",
            "[] before preprocess: t(2;13)(q35;q14) t(2;13)(q35;q14)\n",
            "[] before preprocess: t(9;22) t(9;22)\n",
            "[] before preprocess: t(x;10)(p11;q23) t(x;10)(p11;q23)\n",
            "[] before preprocess: t(11;19)(q14-21;p12-13) t(11;19)(q14-21;p12-13)\n",
            "[] before preprocess: t(1;13)(p36;q14) t(1;13)(p36;q14)\n",
            "[] before preprocess: i(19) i(19)\n",
            "[] before preprocess: t(21;22)(q22;q12) t(21;22)(q22;q12)\n",
            "[] before preprocess: t(3;8)(p14;q24) t(3;8)(p14;q24)\n",
            "[] before preprocess: t(8;22)(p11;q13) t(8;22)(p11;q13)\n",
            "[] before preprocess: k13k/e k13k/e\n",
            "[] before preprocess: v31i v31i\n",
            "[] before preprocess: t(7;22)(p22;q12) t(7;22)(p22;q12)\n",
            "[] before preprocess: t(8;9)(p11;q32-34) t(8;9)(p11;q32-34)\n",
            "[] before preprocess: t(3;3) t(3;3)\n",
            "[] before preprocess: t(9;11) t(9;11)\n",
            "[] before preprocess: t(7;11)(p15;p15) t(7;11)(p15;p15)\n",
            "[] before preprocess: t(4;11) t(4;11)\n",
            "[] before preprocess: t(1;7)(p33;q35) t(1;7)(p33;q35)\n",
            "[] before preprocess: t(9;15)(q22;q21) t(9;15)(q22;q21)\n",
            "[] before preprocess: t(15;19)(q13;p13.1) t(15;19)(q13;p13.1)\n",
            "[] before preprocess: t(11;14)(p15;q11) t(11;14)(p15;q11)\n",
            "[] before preprocess: e28d e28d\n",
            "[] before preprocess: t(2;2)(q35;p23) t(2;2)(q35;p23)\n",
            "[] before preprocess: t(11;v)(q23;v) t(11;v)(q23.3;v)\n",
            "[] before preprocess: t(v;11q23.3) t(11;v)(q23.3;v)\n",
            "[] before preprocess: t(11;v)(q23.3;v) t(11;v)(q23.3;v)\n",
            "[] before preprocess: t(v;11)(v;q23.3) t(11;v)(q23.3;v)\n",
            "[] before preprocess: t(v;11)(v;q23) t(11;v)(q23.3;v)\n",
            "[] before preprocess: t(6;11) t(6;11)\n",
            "[] before preprocess: t(3;14)(p14.1;q32) t(3;14)(p14.1;q32)\n",
            "[] before preprocess: t(8;13)(p11;q11) t(8;13)(p11;q11)\n",
            "[] before preprocess: t(11;17)(q13;q11) t(11;17)(q13;q11)\n",
            "[] before preprocess: m41m/l m41m/l\n",
            "[] before preprocess: t(2;18)(p12;q21) t(2;18)(p12;q21)\n",
            "[] before preprocess: t(10;19)(q26;q13) t(10;19)(q26;q13)\n",
            "[] before preprocess: t(1;2)(q25;p23) t(1;2)(q25;p23)\n",
            "[] before preprocess: i62v i62v\n",
            "[] before preprocess: t(x;20)(p11;q13) t(x;20)(p11;q13)\n",
            "[] before preprocess: t(1;4)(q44;q12) t(1;4)(q44;q12)\n",
            "[] before preprocess: t(6;9) t(6;9)\n",
            "[] before preprocess: t(11;22) t(11;22)\n",
            "[] before preprocess: k14r k14r\n",
            "[] before preprocess: t(1;19)(q10;p10) t(1;19)(q10;p10)\n",
            "[] before preprocess: t(14;20) t(14;20)\n",
            "[] before preprocess: t(1;22)(p36.1;q12) t(1;22)(p36.1;q12)\n",
            "[] before preprocess: t(1;2)(p11;q35-36) t(1;2)(p11;q35-36)\n",
            "[] before preprocess: k20r k20r\n",
            "[] before preprocess: t(x;14)(q28;11) t(x;14)(q28;11)\n",
            "[] before preprocess: t(7;9)(q34;q34.3) t(7;9)(q34;q34.3)\n",
            "[] before preprocess: t(3;6)(p13;q25) t(3;6)(p13;q25)\n",
            "[] before preprocess: t(10;11)(p11;q23) t(10;11)(p11;q23)\n",
            "[] before preprocess: t(x;17)(p11.2;q25) t(x;17)(p11.2;q25)\n",
            "[] before preprocess: t(3;9)(q11-12;q22) t(3;9)(q11-12;q22)\n",
            "[] before preprocess: t(x;18)(p11;q11) t(x;18)(p11.2;q11.2)\n",
            "[] before preprocess: t(x;18)(p11.2;q11.2) t(x;18)(p11.2;q11.2)\n",
            "[] before preprocess: t(10;17)(q22;p13) t(10;17)(q22;p13)\n",
            "[] before preprocess: t(2;17)(p23;q35) t(2;17)(p23;q35)\n",
            "[] before preprocess: t(5;12)(q31;p12) t(5;12)(q31;p12)\n",
            "[] before preprocess: t(5;21)(q13;q22) t(5;21)(q13;q22)\n",
            "[] before preprocess: t(7;19)(q34;q13) t(7;19)(q34;q13)\n",
            "[] before preprocess: t(1;21)(p36;q22) t(1;21)(p36;q22)\n",
            "[] before preprocess: t(2;22)(p23;q11) t(2;22)(p23;q11)\n",
            "[] before preprocess: t(8;9)(p22;p24.1) t(8;9)(p22;p24.1)\n",
            "[] before preprocess: t(9;17)(q22;q11) t(9;17)(q22;q11)\n",
            "[] before preprocess: t(15;17) t(15;17)\n",
            "[] before preprocess: t(14;16) t(14;16)\n",
            "[] before preprocess: t(7;14)(q35;q32.1) t(7;14)(q35;q32.1)\n",
            "[] before preprocess: t(3;21)(q26;q22) t(3;21)(q26;q22)\n",
            "[] before preprocess: t(3;5)(q25;q34) t(3;5)(q25;q34)\n",
            "[] before preprocess: t(1;12)(p36;q13-15) t(1;12)(p36;q13-15)\n",
            "[] before preprocess: t(12;21) t(12;21)\n",
            "[] before preprocess: t(6;8)(q27;p11) t(6;8)(q27;p11)\n",
            "[] before preprocess: t(8;21) t(8;21)\n",
            "[] before preprocess: t(9;22)(p24;q11) t(9;22)(p24;q11)\n",
            "[] before preprocess: t(12;19)(q13;q13.3) t(12;19)(q13;q13.3)\n",
            "[] before preprocess: t(x;2)(q13;q35) t(x;2)(q13;q35)\n",
            "[] before preprocess: t(5;14)(q31;q32) t(5;14)(q31.1;q32.3)\n",
            "[] before preprocess: t(5;14)(q31.1;q32.3) t(5;14)(q31.1;q32.3)\n",
            "[] before preprocess: t(7;10)(q34;q24) t(7;10)(q34;q24)\n",
            "[] before preprocess: t(5;12)(q33;q13-15) t(5;12)(q33;q13-15)\n",
            "[] before preprocess: t(6;11)(p21;q12) t(6;11)(p21;q12)\n",
            "[] before preprocess: t(1;13) t(1;13)\n",
            "[] before preprocess: t(1;22)(p13;q13) t(1;22)(p13.3;q13.3)\n",
            "[] before preprocess: t(1;22)(p13.3;q13.3) t(1;22)(p13.3;q13.3)\n",
            "[] before preprocess: t(2;8) t(2;8)(p11;q24)\n",
            "[] before preprocess: t(2;8)(p11;q24) t(2;8)(p11;q24)\n",
            "[] before preprocess: t(7;9)(q34;q32) t(7;9)(q34;q32)\n",
            "[] before preprocess: t(1;14)(q21-22;q32) t(1;14)(q21-22;q32)\n",
            "[] before preprocess: t(8;v)(p11;v) t(8;v)(p11;v)\n",
            "[] before preprocess: t(17;17)(q21;q21) t(17;17)(q21;q21)\n",
            "[] before preprocess: t(8;14) t(8;14)\n",
            "[] before preprocess: t(8;16)(p11;p13) t(8;16)(p11;p13)\n",
            "[] before preprocess: t(8;21)(q22;q22) t(8;21)(q22;q22)\n",
            "[] before preprocess: t(1;19) t(1;19)\n",
            "[] before preprocess: t(14;18) t(14;18)\n",
            "[] before preprocess: i(8)(q10) i(8)(q10)\n",
            "[] before preprocess: t(14;14)(q11;q32) t(14;14)(q11;q32)\n",
            "[] before preprocess: t(5;11)(q35;q13) t(5;11)(q35;q13)\n",
            "[] before preprocess: wh/ht wh/ht\n",
            "[] before preprocess: pp; c pp; c\n",
            "[] before preprocess: xm system xm system\n",
            "[] before preprocess: ga-1 or ga-2 ga-1 or ga-2\n",
            "[] before preprocess: mu-mu mu-mu\n",
            "[] before preprocess: sf-295 sf-295\n",
            "[] before preprocess: u251 u251\n",
            "[] before preprocess: t-47d t-47d\n",
            "[] before preprocess: sw-620 sw-620\n",
            "[] before preprocess: sn12c sn12c\n",
            "[] before preprocess: m14 m14\n",
            "[] before preprocess: uo-31 uo-31\n",
            "[] before preprocess: du-145 du-145\n",
            "[] before preprocess: tk-10 tk-10\n",
            "[] before preprocess: km12 km12\n",
            "[] before preprocess: sf-268 sf-268\n",
            "[] before preprocess: hs 578t hs 578t\n",
            "[] before preprocess: sk-ov-3 sk-ov-3\n",
            "[] before preprocess: sf-539 sf-539\n",
            "[] before preprocess: 786-0 786-0\n",
            "[] before preprocess: bt-549 bt-549\n",
            "[] before preprocess: a498 a498\n",
            "[] before preprocess: fire in mine fire in mine\n",
            "[] before preprocess: 969.02 969.02\n",
            "[] before preprocess: iq 20-25 to 35-40 iq 20-25 to 35-40\n",
            "[] before preprocess: observationenvironmentalintolerancetype observationenvironmentalintolerancetype\n",
            "[] before preprocess: observationnonallergyintolerancetype observationnonallergyintolerancetype\n"
          ],
          "name": "stdout"
        }
      ]
    },
    {
      "metadata": {
        "id": "zfwwq7SB_plK",
        "colab_type": "code",
        "colab": {
          "base_uri": "https://localhost:8080/",
          "height": 51
        },
        "outputId": "399480c1-edc6-4c21-f866-97b0d597918e"
      },
      "cell_type": "code",
      "source": [
        "print(\"DisordrersLen:\",len(Disorders))\n",
        "print(\"CodesLen:\",len(Codes))"
      ],
      "execution_count": 23,
      "outputs": [
        {
          "output_type": "stream",
          "text": [
            "DisordrersLen: 623509\n",
            "CodesLen: 623509\n"
          ],
          "name": "stdout"
        }
      ]
    },
    {
      "metadata": {
        "id": "6Jau1N8nQwo_",
        "colab_type": "code",
        "colab": {}
      },
      "cell_type": "code",
      "source": [
        "\n",
        "#for i,k in enumerate(Corpus):\n",
        " # print(k)\n",
        "  #if i>10:break\n",
        "\n",
        "print(\"Iterator\")\n",
        "iter_Corpus=iter(Corpus)\n",
        "for i,k in enumerate(iter_Corpus):\n",
        "  if  i==30:\n",
        "    print(k)"
      ],
      "execution_count": 0,
      "outputs": []
    },
    {
      "metadata": {
        "id": "mPE7ppdRP6WQ",
        "colab_type": "code",
        "colab": {}
      },
      "cell_type": "code",
      "source": [
        "def gensim_demo(sentences):\n",
        "    logging.basicConfig(format='%(asctime)s : %(levelname)s : %(message)s', level=logging.INFO)\n",
        "    model = word2vec.Word2Vec(sentences, iter=20, min_count=1, size=300, workers=6)\n",
        "\n",
        "    # get the word vector of \"the\"\n",
        "    #print(model.wv['the'])\n",
        "\n",
        "    # get the most common words\n",
        "    print(model.wv.index2word[0], model.wv.index2word[1], model.wv.index2word[2])\n",
        "\n",
        "    # get the least common words\n",
        "    vocab_size = len(model.wv.vocab)\n",
        "    print(model.wv.index2word[vocab_size - 1], model.wv.index2word[vocab_size - 2], model.wv.index2word[vocab_size - 3])\n",
        "\n",
        "    # find the index of the 2nd most common word (\"of\")\n",
        "#    print('Index of \"of\" is: {}'.format(model.wv.vocab['of'].index))\n",
        "\n",
        "    # some similarity fun\n",
        "    print(model.wv.similarity('fracture', 'bone'), model.wv.similarity('broken', 'arm'))\n",
        "\n",
        "    # what doesn't fit?\n",
        "    print(model.wv.doesnt_match(\"green blue red zebra\".split()))\n",
        "\n",
        "#    str_data = read_data(root_path + filename)\n",
        "#    index_data = convert_data_to_index(str_data, model.wv)\n",
        "#    print(str_data[:4], index_data[:4])\n",
        "\n",
        "    # save and reload the model\n",
        "    model.save(\"drive/Coolab/Disorders\")\n",
        "    return model\n",
        "\n"
      ],
      "execution_count": 0,
      "outputs": []
    },
    {
      "metadata": {
        "id": "Tz5MbPvaYpx9",
        "colab_type": "code",
        "colab": {
          "base_uri": "https://localhost:8080/",
          "height": 4015
        },
        "outputId": "030cf01e-3aa8-4b19-e7b3-1e1654542795"
      },
      "cell_type": "code",
      "source": [
        "\n",
        "#print(\"size corpus:\",len(list(iter_Corpus)))\n",
        "logging.info (\"Tokenization\")\n",
        "Disorders_corpus=(input_tokenize(Disorders))\n",
        "GenDisorders_corpus=(input_tokenize(GenDisorders))\n",
        "logging.info (\"Done Tokenization\")\n",
        "#pense à cree des fichier avec les donées\n",
        "\n",
        "class MyCorpus(object):\n",
        "  def __init__(self,Codes,GenDisorders_corpus):\n",
        "    self.Codes = Codes\n",
        "    self.GenDisorders_corpus=GenDisorders_corpus\n",
        "\n",
        "  def __iter__(self):\n",
        "    for m,n in zip(self.Codes,self.GenDisorders_corpus):\n",
        "      yield [m]+n\n",
        "\n",
        "#Corpus=MyCorpus(Codes,GenDisorders_corpus)\n",
        "Corpus=[[m]+n for m,n in zip(Codes,Disorders_corpus)]\n",
        "print(\"Corpus\")\n",
        "for i,k in enumerate(Corpus):\n",
        "  print(k)\n",
        "  if i>5:break\n",
        "\n",
        "iter_Corpus=(Corpus)\n",
        "\n",
        "model=gensim_demo(Corpus)\n"
      ],
      "execution_count": 25,
      "outputs": [
        {
          "output_type": "stream",
          "text": [
            "[] before preprocess: t(11;17)(q13;q21) t(11;17)(q13;q21)\n",
            "[] before preprocess: t(1;3)(p36;q23-25) t(1;3)(p36;q23-25)\n",
            "[] before preprocess: t(14;18)(q32;q21) t(14;18)(q32;q21)\n",
            "[] before preprocess: t(12;22)(p13;q11) t(12;22)(p13;q11)\n",
            "[] before preprocess: t(4;14) t(4;14)\n",
            "[] before preprocess: t(16;16) t(16;16)\n",
            "[] before preprocess: t(2;19)(p23;p13) t(2;19)(p23;p13)\n",
            "[] before preprocess: t(15;17)(q22;q12) t(15;17)(q22;q12)\n",
            "[] before preprocess: t(17;21)(q11;q22) t(17;21)(q11;q22)\n",
            "[] before preprocess: t(1;2)(p22;p12) t(1;2)(p22;p12)\n",
            "[] before preprocess: t(x;2)(q11-12;p23) t(x;2)(q11-12;p23)\n",
            "[] before preprocess: t(1;14) t(1;14)\n",
            "[] before preprocess: t(x;1)(p11.2;q21) t(x;1)(p11.2;q21)\n",
            "[] before preprocess: t(11;12)(p15;p13) t(11;12)(p15;p13)\n",
            "[] before preprocess: t(6;9)(p23;q34) t(6;9)(p23;q34.1)\n",
            "[] before preprocess: t(6;9)(p23;q34.1) t(6;9)(p23;q34.1)\n",
            "[] before preprocess: t(15;22)(p11;q11) t(15;22)(p11;q11)\n",
            "[] before preprocess: t(4;22)(q12;q11) t(4;22)(q12;q11)\n",
            "[] before preprocess: t(9;11)(p22;q23) t(9;11)(p22.3;q23.3)\n",
            "[] before preprocess: t(9;11)(p22.3;q23.3) t(9;11)(p22.3;q23.3)\n",
            "[] before preprocess: t(3;21)(q21;q26) t(3;21)(q21;q26)\n",
            "[] before preprocess: t(21;22) t(21;22)\n",
            "[] before preprocess: t(8;22)(p11;q11) t(8;22)(p11;q11)\n",
            "[] before preprocess: t(11;14)(q13;q32) t(11;14)(q13;q32)\n",
            "[] before preprocess: t(16;21)(p11;q22) t(16;21)(p11;q22)\n",
            "[] before preprocess: t(1;14)(p22;q32) t(1;14)(p22;q32)\n",
            "[] before preprocess: t(9;22)(q34.1;q11.2) t(9;22)(q34.1;q11.2)\n",
            "[] before preprocess: t(9;22)(q34;q11) t(9;22)(q34.1;q11.2)\n",
            "[] before preprocess: t(3;12)(q13;q24) t(3;12)(q13;q24)\n",
            "[] before preprocess: t(5;17)(q35;q21) t(5;17)(q35;q21)\n",
            "[] before preprocess: t(11;14) t(11;14)\n",
            "[] before preprocess: t(2;17)(p23;q23) t(2;17)(p23;q23)\n",
            "[] before preprocess: t(2;22)(q33;q12) t(2;22)(q33;q12)\n",
            "[] before preprocess: t(8;22)(q24;q11) t(8;22)(q24;q11)\n",
            "[] before preprocess: t(12;21)(p13;q22) t(12;21)(p13.2;q22.1)\n",
            "[] before preprocess: t(12;21)(p13.2;q22.1) t(12;21)(p13.2;q22.1)\n",
            "[] before preprocess: t(9;22)(q22-31;q12) t(9;22)(q22-31;q12)\n",
            "[] before preprocess: t(8;14)(q24;q11) t(8;14)(q24;q11)\n",
            "[] before preprocess: t(12;16)(q13;p11) t(12;16)(q13;p11)\n",
            "[] before preprocess: t(x;1)(p11.2;p34) t(x;1)(p11.2;p34)\n",
            "[] before preprocess: t(14;18)(q32;q11) t(14;18)(q32;q11)\n",
            "[] before preprocess: t(11;16)(p11;p11) t(11;16)(p11;p11)\n",
            "[] before preprocess: t(11;14)(p13;q11) t(11;14)(p13;q11)\n",
            "[] before preprocess: t(7;12)(q36;p13) t(7;12)(q36;p13)\n",
            "[] before preprocess: t(4;14)(p16;q32) t(4;14)(p16;q32)\n",
            "[] before preprocess: t(3;12)(q27-28;q13-15) t(3;12)(q27-q28;q13-q15)\n",
            "[] before preprocess: t(3;12)(q27-q28;q13-q15) t(3;12)(q27-q28;q13-q15)\n",
            "[] before preprocess: t(4;11)(q21;q23) t(4;11)(q21;q23)\n",
            "[] before preprocess: t(2;5)(p23;q35) t(2;5)(p23;q35)\n",
            "[] before preprocess: t(2;5) t(2;5)(p23;q35)\n",
            "[] before preprocess: i(1)(q10) i(1)(q10)\n",
            "[] before preprocess: t(2;12)(q35-37;q13-15) t(2;12)(q35-37;q13-15)\n",
            "[] before preprocess: t(11;15)( p15;q35) t(11;15)( p15;q35)\n",
            "[] before preprocess: t(9;11)(q21;q23) t(9;11)(q21;q23)\n",
            "[] before preprocess: t(9;12)(q34;p13) t(9;12)(q34;p13)\n",
            "[] before preprocess: t(4;19)(q35;q13) t(4;19)(q35;q13)\n",
            "[] before preprocess: t(6;11)(q27;q23) t(6;11)(q27;q23)\n",
            "[] before preprocess: t(7;16)(q33;p11) t(7;16)(q33;p11)\n",
            "[] before preprocess: t(11;19)(q23;p13.3) t(11;19)(q23;p13.3)\n",
            "[] before preprocess: t(2;12)(p22-24;q13-15) t(2;12)(p22-24;q13-15)\n",
            "[] before preprocess: t(12;22)(q13;q12) t(12;22)(q13;q12)\n",
            "[] before preprocess: t(8;14)(q24;q32) t(8;14)(q24;q32)\n",
            "[] before preprocess: t(8;8)(p11-12;q12) t(8;8)(p11-12;q12)\n",
            "[] before preprocess: t(13;22)(q22;q13.3) t(13;22)(q22;q13.3)\n",
            "[] before preprocess: t(14;19)(q32;q13.1) t(14;19)(q32;q13.1)\n",
            "[] before preprocess: t(2;13) t(2;13)\n",
            "[] before preprocess: t(11;17)(q23;q21) t(11;17)(q23;q21)\n",
            "[] before preprocess: t(5;12)(q33;p13) t(5;12)(q33;p13)\n",
            "[] before preprocess: t(11;16)(q13;p13) t(11;16)(q13;p13)\n",
            "[] before preprocess: t(16;16)(p13;q22) t(16;16)(p13.1;q22)\n",
            "[] before preprocess: t(16;16)(p13.1q22) t(16;16)(p13.1;q22)\n",
            "[] before preprocess: t(16;16)(p13q22) t(16;16)(p13.1;q22)\n",
            "[] before preprocess: t(16;16)(p13.1;q22) t(16;16)(p13.1;q22)\n",
            "[] before preprocess: t(3;14)(q27;q32) t(3;14)(q27;q32)\n",
            "[] before preprocess: t(7;17)(p15;q21) t(7;17)(p15;q21)\n",
            "[] before preprocess: t(9;12)(p24;p13) t(9;12)(p24;p13)\n",
            "[] before preprocess: t(11;19)(q23;p13.1) t(11;19)(q23;p13.1)\n",
            "[] before preprocess: t(10;14)(q24;q11) t(10;14)(q24;q11)\n",
            "[] before preprocess: t(5;11)(q35;p15) t(5;11)(q35;p15)\n",
            "[] before preprocess: t(17;22)(q22;q13) t(17;22)(q22;q13)\n",
            "[] before preprocess: t(1;12)(p32-34;q13-15) t(1;12)(p32-34;q13-15)\n",
            "[] before preprocess: t(3;4)(q27;p11) t(3;4)(q27;p11)\n",
            "[] before preprocess: t(10;11)(p12;q23) t(10;11)(p12;q23)\n",
            "[] before preprocess: t(16;17)(q22;p13) t(16;17)(q22;p13)\n",
            "[] before preprocess: t(3;3)(q21.3;q26.2) t(3;3)(q21.3;q26.2)\n",
            "[] before preprocess: t(3;3)(q21;q26.2) t(3;3)(q21.3;q26.2)\n",
            "[] before preprocess: t(1;14)(p32;q11) t(1;14)(p32;q11)\n",
            "[] before preprocess: t(11;22)(p13;q12) t(11;22)(p13;q12)\n",
            "[] before preprocess: t(2;8) t(2;8)\n",
            "[] before preprocess: t(8;22) t(8;22)\n",
            "[] before preprocess: t(2;3)(p23;q21) t(2;3)(p23;q21)\n",
            "[] before preprocess: t(17;22)(q21;q12) t(17;22)(q21;q12)\n",
            "[] before preprocess: t(3;8)(p12;q21) t(3;8)(p12;q21)\n",
            "[] before preprocess: t(17;19)(q22;p13) t(17;19)(q22;p13)\n",
            "[] before preprocess: t(12;15)(p13;q25) t(12;15)(p13;q25)\n",
            "[] before preprocess: t(2;13)(q35;q14) t(2;13)(q35;q14)\n",
            "[] before preprocess: t(9;22) t(9;22)\n",
            "[] before preprocess: t(x;10)(p11;q23) t(x;10)(p11;q23)\n",
            "[] before preprocess: t(11;19)(q14-21;p12-13) t(11;19)(q14-21;p12-13)\n",
            "[] before preprocess: t(1;13)(p36;q14) t(1;13)(p36;q14)\n",
            "[] before preprocess: i(19) i(19)\n",
            "[] before preprocess: t(21;22)(q22;q12) t(21;22)(q22;q12)\n",
            "[] before preprocess: t(3;8)(p14;q24) t(3;8)(p14;q24)\n",
            "[] before preprocess: t(8;22)(p11;q13) t(8;22)(p11;q13)\n",
            "[] before preprocess: k13k/e k13k/e\n",
            "[] before preprocess: v31i v31i\n",
            "[] before preprocess: t(7;22)(p22;q12) t(7;22)(p22;q12)\n",
            "[] before preprocess: t(8;9)(p11;q32-34) t(8;9)(p11;q32-34)\n",
            "[] before preprocess: t(3;3) t(3;3)\n",
            "[] before preprocess: t(9;11) t(9;11)\n",
            "[] before preprocess: t(7;11)(p15;p15) t(7;11)(p15;p15)\n",
            "[] before preprocess: t(4;11) t(4;11)\n",
            "[] before preprocess: t(1;7)(p33;q35) t(1;7)(p33;q35)\n",
            "[] before preprocess: t(9;15)(q22;q21) t(9;15)(q22;q21)\n",
            "[] before preprocess: t(15;19)(q13;p13.1) t(15;19)(q13;p13.1)\n",
            "[] before preprocess: t(11;14)(p15;q11) t(11;14)(p15;q11)\n",
            "[] before preprocess: e28d e28d\n",
            "[] before preprocess: t(2;2)(q35;p23) t(2;2)(q35;p23)\n",
            "[] before preprocess: t(11;v)(q23;v) t(11;v)(q23.3;v)\n",
            "[] before preprocess: t(v;11q23.3) t(11;v)(q23.3;v)\n",
            "[] before preprocess: t(11;v)(q23.3;v) t(11;v)(q23.3;v)\n",
            "[] before preprocess: t(v;11)(v;q23.3) t(11;v)(q23.3;v)\n",
            "[] before preprocess: t(v;11)(v;q23) t(11;v)(q23.3;v)\n",
            "[] before preprocess: t(6;11) t(6;11)\n",
            "[] before preprocess: t(3;14)(p14.1;q32) t(3;14)(p14.1;q32)\n",
            "[] before preprocess: t(8;13)(p11;q11) t(8;13)(p11;q11)\n",
            "[] before preprocess: t(11;17)(q13;q11) t(11;17)(q13;q11)\n",
            "[] before preprocess: m41m/l m41m/l\n",
            "[] before preprocess: t(2;18)(p12;q21) t(2;18)(p12;q21)\n",
            "[] before preprocess: t(10;19)(q26;q13) t(10;19)(q26;q13)\n",
            "[] before preprocess: t(1;2)(q25;p23) t(1;2)(q25;p23)\n",
            "[] before preprocess: i62v i62v\n",
            "[] before preprocess: t(x;20)(p11;q13) t(x;20)(p11;q13)\n",
            "[] before preprocess: t(1;4)(q44;q12) t(1;4)(q44;q12)\n",
            "[] before preprocess: t(6;9) t(6;9)\n",
            "[] before preprocess: t(11;22) t(11;22)\n",
            "[] before preprocess: k14r k14r\n",
            "[] before preprocess: t(1;19)(q10;p10) t(1;19)(q10;p10)\n",
            "[] before preprocess: t(14;20) t(14;20)\n",
            "[] before preprocess: t(1;22)(p36.1;q12) t(1;22)(p36.1;q12)\n",
            "[] before preprocess: t(1;2)(p11;q35-36) t(1;2)(p11;q35-36)\n",
            "[] before preprocess: k20r k20r\n",
            "[] before preprocess: t(x;14)(q28;11) t(x;14)(q28;11)\n",
            "[] before preprocess: t(7;9)(q34;q34.3) t(7;9)(q34;q34.3)\n",
            "[] before preprocess: t(3;6)(p13;q25) t(3;6)(p13;q25)\n",
            "[] before preprocess: t(10;11)(p11;q23) t(10;11)(p11;q23)\n",
            "[] before preprocess: t(x;17)(p11.2;q25) t(x;17)(p11.2;q25)\n",
            "[] before preprocess: t(3;9)(q11-12;q22) t(3;9)(q11-12;q22)\n",
            "[] before preprocess: t(x;18)(p11;q11) t(x;18)(p11.2;q11.2)\n",
            "[] before preprocess: t(x;18)(p11.2;q11.2) t(x;18)(p11.2;q11.2)\n",
            "[] before preprocess: t(10;17)(q22;p13) t(10;17)(q22;p13)\n",
            "[] before preprocess: t(2;17)(p23;q35) t(2;17)(p23;q35)\n",
            "[] before preprocess: t(5;12)(q31;p12) t(5;12)(q31;p12)\n",
            "[] before preprocess: t(5;21)(q13;q22) t(5;21)(q13;q22)\n",
            "[] before preprocess: t(7;19)(q34;q13) t(7;19)(q34;q13)\n",
            "[] before preprocess: t(1;21)(p36;q22) t(1;21)(p36;q22)\n",
            "[] before preprocess: t(2;22)(p23;q11) t(2;22)(p23;q11)\n",
            "[] before preprocess: t(8;9)(p22;p24.1) t(8;9)(p22;p24.1)\n",
            "[] before preprocess: t(9;17)(q22;q11) t(9;17)(q22;q11)\n",
            "[] before preprocess: t(15;17) t(15;17)\n",
            "[] before preprocess: t(14;16) t(14;16)\n",
            "[] before preprocess: t(7;14)(q35;q32.1) t(7;14)(q35;q32.1)\n",
            "[] before preprocess: t(3;21)(q26;q22) t(3;21)(q26;q22)\n",
            "[] before preprocess: t(3;5)(q25;q34) t(3;5)(q25;q34)\n",
            "[] before preprocess: t(1;12)(p36;q13-15) t(1;12)(p36;q13-15)\n",
            "[] before preprocess: t(12;21) t(12;21)\n",
            "[] before preprocess: t(6;8)(q27;p11) t(6;8)(q27;p11)\n",
            "[] before preprocess: t(8;21) t(8;21)\n",
            "[] before preprocess: t(9;22)(p24;q11) t(9;22)(p24;q11)\n",
            "[] before preprocess: t(12;19)(q13;q13.3) t(12;19)(q13;q13.3)\n",
            "[] before preprocess: t(x;2)(q13;q35) t(x;2)(q13;q35)\n",
            "[] before preprocess: t(5;14)(q31;q32) t(5;14)(q31.1;q32.3)\n",
            "[] before preprocess: t(5;14)(q31.1;q32.3) t(5;14)(q31.1;q32.3)\n",
            "[] before preprocess: t(7;10)(q34;q24) t(7;10)(q34;q24)\n",
            "[] before preprocess: t(5;12)(q33;q13-15) t(5;12)(q33;q13-15)\n",
            "[] before preprocess: t(6;11)(p21;q12) t(6;11)(p21;q12)\n",
            "[] before preprocess: t(1;13) t(1;13)\n",
            "[] before preprocess: t(1;22)(p13;q13) t(1;22)(p13.3;q13.3)\n",
            "[] before preprocess: t(1;22)(p13.3;q13.3) t(1;22)(p13.3;q13.3)\n",
            "[] before preprocess: t(2;8) t(2;8)(p11;q24)\n",
            "[] before preprocess: t(2;8)(p11;q24) t(2;8)(p11;q24)\n",
            "[] before preprocess: t(7;9)(q34;q32) t(7;9)(q34;q32)\n",
            "[] before preprocess: t(1;14)(q21-22;q32) t(1;14)(q21-22;q32)\n",
            "[] before preprocess: t(8;v)(p11;v) t(8;v)(p11;v)\n",
            "[] before preprocess: t(17;17)(q21;q21) t(17;17)(q21;q21)\n",
            "[] before preprocess: t(8;14) t(8;14)\n",
            "[] before preprocess: t(8;16)(p11;p13) t(8;16)(p11;p13)\n",
            "[] before preprocess: t(8;21)(q22;q22) t(8;21)(q22;q22)\n",
            "[] before preprocess: t(1;19) t(1;19)\n",
            "[] before preprocess: t(14;18) t(14;18)\n",
            "[] before preprocess: i(8)(q10) i(8)(q10)\n",
            "[] before preprocess: t(14;14)(q11;q32) t(14;14)(q11;q32)\n",
            "[] before preprocess: t(5;11)(q35;q13) t(5;11)(q35;q13)\n",
            "[] before preprocess: wh/ht wh/ht\n",
            "[] before preprocess: pp; c pp; c\n",
            "[] before preprocess: xm system xm system\n",
            "[] before preprocess: ga-1 or ga-2 ga-1 or ga-2\n",
            "[] before preprocess: mu-mu mu-mu\n",
            "[] before preprocess: sf-295 sf-295\n",
            "[] before preprocess: u251 u251\n",
            "[] before preprocess: t-47d t-47d\n",
            "[] before preprocess: sw-620 sw-620\n",
            "[] before preprocess: sn12c sn12c\n",
            "[] before preprocess: m14 m14\n",
            "[] before preprocess: uo-31 uo-31\n",
            "[] before preprocess: du-145 du-145\n",
            "[] before preprocess: tk-10 tk-10\n",
            "[] before preprocess: km12 km12\n",
            "[] before preprocess: sf-268 sf-268\n",
            "[] before preprocess: hs 578t hs 578t\n",
            "[] before preprocess: sk-ov-3 sk-ov-3\n",
            "[] before preprocess: sf-539 sf-539\n",
            "[] before preprocess: 786-0 786-0\n",
            "[] before preprocess: bt-549 bt-549\n",
            "[] before preprocess: a498 a498\n",
            "[] before preprocess: fire in mine fire in mine\n",
            "[] before preprocess: 969.02 969.02\n",
            "[] before preprocess: iq 20-25 to 35-40 iq 20-25 to 35-40\n",
            "[] before preprocess: observationenvironmentalintolerancetype observationenvironmentalintolerancetype\n",
            "[] before preprocess: observationnonallergyintolerancetype observationnonallergyintolerancetype\n",
            "Corpus\n",
            "['C0423346', 'cupuliform', 'cataract', 'cupuliform', 'cataract']\n",
            "['C4510595', 'acquired', 'hallux', 'limitus', 'right', 'great', 'toe', 'acquired', 'hallux', 'limitus', 'right', 'great', 'toe']\n",
            "['C1394389', 'cyst', 'ora', 'serrata', 'cyst', 'ora', 'serrata', 'retina']\n",
            "['C1394389', 'cyst', 'ora', 'serrata', 'cyst', 'ora', 'serrata', 'retina']\n",
            "['C1394389', 'cyst', 'ora', 'serrata', 'cyst', 'ora', 'serrata', 'retina']\n",
            "['C1394389', 'ora', 'serrata', 'cyst', 'cyst', 'ora', 'serrata', 'retina']\n",
            "['C1394389', 'ora', 'serrata', 'cyst', 'cyst', 'ora', 'serrata', 'retina']\n",
            "fracture unspecified encounter\n",
            "C2908095 C1393307 C2030639\n",
            "0.5890806 -0.025311803\n"
          ],
          "name": "stdout"
        },
        {
          "output_type": "stream",
          "text": [
            "/usr/local/lib/python3.6/dist-packages/gensim/matutils.py:737: FutureWarning: Conversion of the second argument of issubdtype from `int` to `np.signedinteger` is deprecated. In future, it will be treated as `np.int64 == np.dtype(int).type`.\n",
            "  if np.issubdtype(vec.dtype, np.int):\n"
          ],
          "name": "stderr"
        },
        {
          "output_type": "stream",
          "text": [
            "zebra\n"
          ],
          "name": "stdout"
        }
      ]
    },
    {
      "metadata": {
        "id": "Xdwvep2meNGm",
        "colab_type": "code",
        "colab": {
          "base_uri": "https://localhost:8080/",
          "height": 275
        },
        "outputId": "413fb805-5eff-40ed-98be-d38c6d703f57"
      },
      "cell_type": "code",
      "source": [
        "model.most_similar('fracture')\n",
        "\n",
        "#model.most_similar('C3714535')\n"
      ],
      "execution_count": 26,
      "outputs": [
        {
          "output_type": "stream",
          "text": [
            "/usr/local/lib/python3.6/dist-packages/ipykernel_launcher.py:1: DeprecationWarning: Call to deprecated `most_similar` (Method will be removed in 4.0.0, use self.wv.most_similar() instead).\n",
            "  \"\"\"Entry point for launching an IPython kernel.\n",
            "/usr/local/lib/python3.6/dist-packages/gensim/matutils.py:737: FutureWarning: Conversion of the second argument of issubdtype from `int` to `np.signedinteger` is deprecated. In future, it will be treated as `np.int64 == np.dtype(int).type`.\n",
            "  if np.issubdtype(vec.dtype, np.int):\n"
          ],
          "name": "stderr"
        },
        {
          "output_type": "execute_result",
          "data": {
            "text/plain": [
              "[('bone', 0.5890805721282959),\n",
              " ('closed', 0.5669761300086975),\n",
              " ('dislocation', 0.5612232685089111),\n",
              " ('displaced', 0.5310590267181396),\n",
              " ('nondisplaced', 0.5301649570465088),\n",
              " ('open', 0.5202462077140808),\n",
              " ('healing', 0.48214638233184814),\n",
              " ('end', 0.4581301212310791),\n",
              " ('iiia', 0.4445427656173706),\n",
              " ('fractures', 0.4442555010318756)]"
            ]
          },
          "metadata": {
            "tags": []
          },
          "execution_count": 26
        }
      ]
    },
    {
      "metadata": {
        "id": "CDIQbYteFKi1",
        "colab_type": "code",
        "colab": {
          "base_uri": "https://localhost:8080/",
          "height": 34
        },
        "outputId": "a722a17f-a128-4e3b-e7c3-712e6b41f756"
      },
      "cell_type": "code",
      "source": [
        "len(model.wv['postaural'])\n",
        "#(model.wv.vocab)\n",
        "model.wv.vector_size\n",
        "len(model.wv.vectors)"
      ],
      "execution_count": 27,
      "outputs": [
        {
          "output_type": "execute_result",
          "data": {
            "text/plain": [
              "314686"
            ]
          },
          "metadata": {
            "tags": []
          },
          "execution_count": 27
        }
      ]
    }
  ]
}